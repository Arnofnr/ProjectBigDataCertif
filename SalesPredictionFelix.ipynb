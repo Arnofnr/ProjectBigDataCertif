{
 "cells": [
  {
   "cell_type": "markdown",
   "metadata": {},
   "source": [
    "# Analyse des données brutes : boxplot, variance, écart type"
   ]
  },
  {
   "cell_type": "markdown",
   "metadata": {},
   "source": [
    "#### Lecture du fichier "
   ]
  },
  {
   "cell_type": "code",
   "execution_count": 10,
   "metadata": {},
   "outputs": [
    {
     "data": {
      "text/html": [
       "<div>\n",
       "<style scoped>\n",
       "    .dataframe tbody tr th:only-of-type {\n",
       "        vertical-align: middle;\n",
       "    }\n",
       "\n",
       "    .dataframe tbody tr th {\n",
       "        vertical-align: top;\n",
       "    }\n",
       "\n",
       "    .dataframe thead th {\n",
       "        text-align: right;\n",
       "    }\n",
       "</style>\n",
       "<table border=\"1\" class=\"dataframe\">\n",
       "  <thead>\n",
       "    <tr style=\"text-align: right;\">\n",
       "      <th></th>\n",
       "      <th>Store</th>\n",
       "      <th>DayOfWeek</th>\n",
       "      <th>Date</th>\n",
       "      <th>Customers</th>\n",
       "      <th>Open</th>\n",
       "      <th>Promo</th>\n",
       "      <th>StateHoliday</th>\n",
       "      <th>ScoolHoliday</th>\n",
       "    </tr>\n",
       "  </thead>\n",
       "  <tbody>\n",
       "    <tr>\n",
       "      <td>0</td>\n",
       "      <td>625</td>\n",
       "      <td>3</td>\n",
       "      <td>2013-11-06</td>\n",
       "      <td>641</td>\n",
       "      <td>1</td>\n",
       "      <td>1</td>\n",
       "      <td>0</td>\n",
       "      <td>0</td>\n",
       "    </tr>\n",
       "    <tr>\n",
       "      <td>1</td>\n",
       "      <td>293</td>\n",
       "      <td>2</td>\n",
       "      <td>2013-07-16</td>\n",
       "      <td>877</td>\n",
       "      <td>1</td>\n",
       "      <td>1</td>\n",
       "      <td>0</td>\n",
       "      <td>1</td>\n",
       "    </tr>\n",
       "    <tr>\n",
       "      <td>2</td>\n",
       "      <td>39</td>\n",
       "      <td>4</td>\n",
       "      <td>2014-01-23</td>\n",
       "      <td>561</td>\n",
       "      <td>1</td>\n",
       "      <td>1</td>\n",
       "      <td>0</td>\n",
       "      <td>0</td>\n",
       "    </tr>\n",
       "    <tr>\n",
       "      <td>3</td>\n",
       "      <td>676</td>\n",
       "      <td>4</td>\n",
       "      <td>2013-09-26</td>\n",
       "      <td>1584</td>\n",
       "      <td>1</td>\n",
       "      <td>1</td>\n",
       "      <td>0</td>\n",
       "      <td>0</td>\n",
       "    </tr>\n",
       "    <tr>\n",
       "      <td>4</td>\n",
       "      <td>709</td>\n",
       "      <td>3</td>\n",
       "      <td>2014-01-22</td>\n",
       "      <td>1477</td>\n",
       "      <td>1</td>\n",
       "      <td>1</td>\n",
       "      <td>0</td>\n",
       "      <td>0</td>\n",
       "    </tr>\n",
       "  </tbody>\n",
       "</table>\n",
       "</div>"
      ],
      "text/plain": [
       "   Store  DayOfWeek        Date  Customers  Open  Promo StateHoliday  \\\n",
       "0    625          3  2013-11-06        641     1      1            0   \n",
       "1    293          2  2013-07-16        877     1      1            0   \n",
       "2     39          4  2014-01-23        561     1      1            0   \n",
       "3    676          4  2013-09-26       1584     1      1            0   \n",
       "4    709          3  2014-01-22       1477     1      1            0   \n",
       "\n",
       "   ScoolHoliday  \n",
       "0             0  \n",
       "1             1  \n",
       "2             0  \n",
       "3             0  \n",
       "4             0  "
      ]
     },
     "execution_count": 10,
     "metadata": {},
     "output_type": "execute_result"
    }
   ],
   "source": [
    "import pandas as pd\n",
    "import numpy as np\n",
    "# Lecture des données présentes dans le dépôt\n",
    "train_data_file = \"store_train.data\"\n",
    "train_data_df = pd.read_csv(train_data_file ,sep=\" \",header=None, names = [\"Store\", \"DayOfWeek\", \"Date\", \"Customers\", \"Open\", \"Promo\", \"StateHoliday\", \"ScoolHoliday\"])\n",
    "train_data_df.head()\n",
    "\n"
   ]
  },
  {
   "cell_type": "code",
   "execution_count": 13,
   "metadata": {},
   "outputs": [
    {
     "data": {
      "text/html": [
       "<div>\n",
       "<style scoped>\n",
       "    .dataframe tbody tr th:only-of-type {\n",
       "        vertical-align: middle;\n",
       "    }\n",
       "\n",
       "    .dataframe tbody tr th {\n",
       "        vertical-align: top;\n",
       "    }\n",
       "\n",
       "    .dataframe thead th {\n",
       "        text-align: right;\n",
       "    }\n",
       "</style>\n",
       "<table border=\"1\" class=\"dataframe\">\n",
       "  <thead>\n",
       "    <tr style=\"text-align: right;\">\n",
       "      <th></th>\n",
       "      <th>ObservedSales</th>\n",
       "    </tr>\n",
       "  </thead>\n",
       "  <tbody>\n",
       "    <tr>\n",
       "      <td>0</td>\n",
       "      <td>7293</td>\n",
       "    </tr>\n",
       "    <tr>\n",
       "      <td>1</td>\n",
       "      <td>7060</td>\n",
       "    </tr>\n",
       "    <tr>\n",
       "      <td>2</td>\n",
       "      <td>4565</td>\n",
       "    </tr>\n",
       "    <tr>\n",
       "      <td>3</td>\n",
       "      <td>6380</td>\n",
       "    </tr>\n",
       "    <tr>\n",
       "      <td>4</td>\n",
       "      <td>11647</td>\n",
       "    </tr>\n",
       "  </tbody>\n",
       "</table>\n",
       "</div>"
      ],
      "text/plain": [
       "   ObservedSales\n",
       "0           7293\n",
       "1           7060\n",
       "2           4565\n",
       "3           6380\n",
       "4          11647"
      ]
     },
     "execution_count": 13,
     "metadata": {},
     "output_type": "execute_result"
    }
   ],
   "source": [
    "train_solutions_file = \"store_train.solution\"\n",
    "train_solutions_df = pd.read_csv(train_solutions_file ,sep=\" \",header=None, names = [\"ObservedSales\"])\n",
    "train_solutions_df.head()\n"
   ]
  },
  {
   "cell_type": "code",
   "execution_count": 18,
   "metadata": {},
   "outputs": [
    {
     "data": {
      "text/plain": [
       "Store             int64\n",
       "DayOfWeek         int64\n",
       "Date             object\n",
       "Customers         int64\n",
       "Open              int64\n",
       "Promo             int64\n",
       "StateHoliday     object\n",
       "ScoolHoliday      int64\n",
       "ObservedSales     int64\n",
       "dtype: object"
      ]
     },
     "execution_count": 18,
     "metadata": {},
     "output_type": "execute_result"
    }
   ],
   "source": [
    "\n",
    "train_df = train_data_df.join(train_solutions_df, how = 'right')\n",
    "# Vérification du contenu\n",
    "# Label of the data : Store, DayOfWeek, Date, Customers, Open, Promo, StateHoliday, SchoolHoliday\n",
    "train_df.head()"
   ]
  },
  {
   "cell_type": "code",
   "execution_count": 20,
   "metadata": {},
   "outputs": [
    {
     "data": {
      "text/plain": [
       "Store                     int32\n",
       "DayOfWeek                 int32\n",
       "Date             datetime64[ns]\n",
       "Customers                 int32\n",
       "Open                       bool\n",
       "Promo                      bool\n",
       "StateHoliday               bool\n",
       "ScoolHoliday               bool\n",
       "ObservedSales             int32\n",
       "dtype: object"
      ]
     },
     "execution_count": 20,
     "metadata": {},
     "output_type": "execute_result"
    }
   ],
   "source": [
    "# train_df[\"Store\"] = pd.Categorical(train_df[\"STATION\"],ordered=False)\n",
    "\n",
    "train_df[\"Store\"] = pd.DataFrame(train_df[\"Store\"], dtype=int)\n",
    "train_df[\"DayOfWeek\"] = pd.DataFrame(train_df[\"DayOfWeek\"], dtype=int)\n",
    "train_df[\"Date\"] = pd.DataFrame(train_df[\"Date\"], dtype=\"datetime64[ns]\")\n",
    "train_df[\"Customers\"] = pd.DataFrame(train_df[\"Customers\"], dtype=int)\n",
    "train_df[\"Open\"] = pd.DataFrame(train_df[\"Open\"], dtype=bool)\n",
    "train_df[\"Promo\"] = pd.DataFrame(train_df[\"Promo\"], dtype=bool)\n",
    "train_df[\"StateHoliday\"] = pd.DataFrame(train_df[\"StateHoliday\"], dtype=bool)\n",
    "train_df[\"ScoolHoliday\"] = pd.DataFrame(train_df[\"ScoolHoliday\"], dtype=bool)\n",
    "train_df[\"ObservedSales\"] = pd.DataFrame(train_df[\"ObservedSales\"], dtype=int)\n",
    "\n",
    "train_df.dtypes\n"
   ]
  },
  {
   "cell_type": "code",
   "execution_count": 22,
   "metadata": {},
   "outputs": [
    {
     "data": {
      "text/html": [
       "<div>\n",
       "<style scoped>\n",
       "    .dataframe tbody tr th:only-of-type {\n",
       "        vertical-align: middle;\n",
       "    }\n",
       "\n",
       "    .dataframe tbody tr th {\n",
       "        vertical-align: top;\n",
       "    }\n",
       "\n",
       "    .dataframe thead th {\n",
       "        text-align: right;\n",
       "    }\n",
       "</style>\n",
       "<table border=\"1\" class=\"dataframe\">\n",
       "  <thead>\n",
       "    <tr style=\"text-align: right;\">\n",
       "      <th></th>\n",
       "      <th>Store</th>\n",
       "      <th>DayOfWeek</th>\n",
       "      <th>Customers</th>\n",
       "      <th>ObservedSales</th>\n",
       "    </tr>\n",
       "  </thead>\n",
       "  <tbody>\n",
       "    <tr>\n",
       "      <td>count</td>\n",
       "      <td>712045.000000</td>\n",
       "      <td>712045.000000</td>\n",
       "      <td>712045.000000</td>\n",
       "      <td>712045.000000</td>\n",
       "    </tr>\n",
       "    <tr>\n",
       "      <td>mean</td>\n",
       "      <td>558.314199</td>\n",
       "      <td>4.000265</td>\n",
       "      <td>633.399958</td>\n",
       "      <td>5776.336748</td>\n",
       "    </tr>\n",
       "    <tr>\n",
       "      <td>std</td>\n",
       "      <td>321.898476</td>\n",
       "      <td>1.996580</td>\n",
       "      <td>464.360651</td>\n",
       "      <td>3851.273075</td>\n",
       "    </tr>\n",
       "    <tr>\n",
       "      <td>min</td>\n",
       "      <td>1.000000</td>\n",
       "      <td>1.000000</td>\n",
       "      <td>0.000000</td>\n",
       "      <td>0.000000</td>\n",
       "    </tr>\n",
       "    <tr>\n",
       "      <td>25%</td>\n",
       "      <td>280.000000</td>\n",
       "      <td>2.000000</td>\n",
       "      <td>405.000000</td>\n",
       "      <td>3729.000000</td>\n",
       "    </tr>\n",
       "    <tr>\n",
       "      <td>50%</td>\n",
       "      <td>558.000000</td>\n",
       "      <td>4.000000</td>\n",
       "      <td>609.000000</td>\n",
       "      <td>5746.000000</td>\n",
       "    </tr>\n",
       "    <tr>\n",
       "      <td>75%</td>\n",
       "      <td>837.000000</td>\n",
       "      <td>6.000000</td>\n",
       "      <td>838.000000</td>\n",
       "      <td>7859.000000</td>\n",
       "    </tr>\n",
       "    <tr>\n",
       "      <td>max</td>\n",
       "      <td>1115.000000</td>\n",
       "      <td>7.000000</td>\n",
       "      <td>5494.000000</td>\n",
       "      <td>41551.000000</td>\n",
       "    </tr>\n",
       "  </tbody>\n",
       "</table>\n",
       "</div>"
      ],
      "text/plain": [
       "               Store      DayOfWeek      Customers  ObservedSales\n",
       "count  712045.000000  712045.000000  712045.000000  712045.000000\n",
       "mean      558.314199       4.000265     633.399958    5776.336748\n",
       "std       321.898476       1.996580     464.360651    3851.273075\n",
       "min         1.000000       1.000000       0.000000       0.000000\n",
       "25%       280.000000       2.000000     405.000000    3729.000000\n",
       "50%       558.000000       4.000000     609.000000    5746.000000\n",
       "75%       837.000000       6.000000     838.000000    7859.000000\n",
       "max      1115.000000       7.000000    5494.000000   41551.000000"
      ]
     },
     "execution_count": 22,
     "metadata": {},
     "output_type": "execute_result"
    }
   ],
   "source": [
    "train_df.describe()"
   ]
  },
  {
   "cell_type": "markdown",
   "metadata": {},
   "source": [
    "# Entrainement des modèles\n"
   ]
  },
  {
   "cell_type": "markdown",
   "metadata": {},
   "source": []
  }
 ],
 "metadata": {
  "kernelspec": {
   "display_name": "Python 3",
   "language": "python",
   "name": "python3"
  },
  "language_info": {
   "codemirror_mode": {
    "name": "ipython",
    "version": 3
   },
   "file_extension": ".py",
   "mimetype": "text/x-python",
   "name": "python",
   "nbconvert_exporter": "python",
   "pygments_lexer": "ipython3",
   "version": "3.7.4"
  }
 },
 "nbformat": 4,
 "nbformat_minor": 2
}
