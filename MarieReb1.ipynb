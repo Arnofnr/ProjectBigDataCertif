{
 "cells": [
  {
   "cell_type": "markdown",
   "metadata": {},
   "source": [
    "# Lire les données et les afficher (repris du code de Olivier)"
   ]
  },
  {
   "cell_type": "code",
   "execution_count": 1,
   "metadata": {},
   "outputs": [
    {
     "name": "stdout",
     "output_type": "stream",
     "text": [
      "Données d'entrainement complètes :\n",
      "     ID  Day  Number_of_Customers  Open  Promo  State_Holiday  School_Holiday  \\\n",
      "0  625    3                  641     1      1              1               0   \n",
      "1  293    2                  877     1      1              1               1   \n",
      "2   39    4                  561     1      1              1               0   \n",
      "3  676    4                 1584     1      1              1               0   \n",
      "4  709    3                 1477     1      1              1               0   \n",
      "\n",
      "   Month  Day_of_month  Year  Sales  \n",
      "0     11             6  2013   7293  \n",
      "1      7            16  2013   7060  \n",
      "2      1            23  2014   4565  \n",
      "3      9            26  2013   6380  \n",
      "4      1            22  2014  11647   \n",
      "\n",
      "Données de test :\n",
      "     ID  Day  Number_of_Customers  Open  Promo  State_Holiday  School_Holiday  \\\n",
      "0  249    5                  725     1      1              1               0   \n",
      "1  190    4                  564     1      0              1               0   \n",
      "2  850    3                  644     1      1              1               0   \n",
      "3  776    6                  435     1      0              1               0   \n",
      "4   14    4                  799     1      1              1               0   \n",
      "\n",
      "   Month  Day_of_month  Year  \n",
      "0     12            19  2014  \n",
      "1      2            28  2013  \n",
      "2      6             5  2013  \n",
      "3      3            28  2015  \n",
      "4     10             2  2014   \n",
      "\n",
      "Types des données d'entrainement complètes : \n",
      " ID                     int64\n",
      "Day                    int64\n",
      "Number_of_Customers    int64\n",
      "Open                   int64\n",
      "Promo                  int64\n",
      "State_Holiday          int64\n",
      "School_Holiday         int64\n",
      "Month                  int64\n",
      "Day_of_month           int64\n",
      "Year                   int64\n",
      "Sales                  int64\n",
      "dtype: object\n"
     ]
    }
   ],
   "source": [
    "import pandas as pd\n",
    "import numpy as np\n",
    "import matplotlib.pyplot as plt\n",
    "from sklearn.linear_model import LinearRegression\n",
    "from sklearn.model_selection import train_test_split  \n",
    "\n",
    "path='/Users/marierebiere/Desktop/cours/supaero/4A/Bigdata2/public_dat/'  # si les données sont déjà dans le répertoire courant\n",
    "\n",
    "input_string_train = path + 'store_train.data'\n",
    "#df_train = pd.DataFrame([x.split(' ') for x in input_string_train.split('\\n')],columns=[\"ID\",\"Day\",\"Date\",\"Number_of_Customers\",\"Open\",\"Promo\",\"State_Holiday\",\"School_Holiday\"],\n",
    "                  #dtype=int)\n",
    "                  #{\"ID\":int,\"Day\":int,\"Date\":object,\"Number_of_Customers\":int,\"Open\":int,\"Promo\":int,\"State_Holiday\":int,\"School_Holiday\":int})\n",
    "df_train = pd.read_csv(input_string_train ,sep=\" \",header=None, names = [\"ID\", \"Day\", \"Date\", \"Number_of_Customers\", \"Open\", \"Promo\", \"State_Holiday\", \"School_Holiday\"])\n",
    "\n",
    "df_train[\"Date\"]=pd.DataFrame(df_train[\"Date\"],dtype=\"datetime64[ns]\")\n",
    "df_train[\"State_Holiday\"]=pd.DataFrame(df_train[\"State_Holiday\"],dtype=\"bool\")\n",
    "df_train[\"State_Holiday\"]=pd.DataFrame(df_train[\"State_Holiday\"],dtype=\"int\")\n",
    "\n",
    "df_train['Month'] = df_train['Date'].map(lambda d: d.month)\n",
    "df_train[\"Month\"]=pd.DataFrame(df_train[\"Month\"],dtype=int)\n",
    "df_train['Day_of_month'] = df_train['Date'].map(lambda d: d.day)\n",
    "df_train[\"Day_of_month\"]=pd.DataFrame(df_train[\"Day_of_month\"],dtype=int)\n",
    "df_train['Year'] = df_train['Date'].map(lambda d: d.year)\n",
    "df_train[\"Year\"]=pd.DataFrame(df_train[\"Year\"],dtype=int)\n",
    "\n",
    "del df_train[\"Date\"]\n",
    "\n",
    "# Lire les données de test\n",
    "input_string_test = path + 'store_test.data'\n",
    "df_test = pd.read_csv(input_string_test ,sep=\" \",header=None, names = [\"ID\", \"Day\", \"Date\", \"Number_of_Customers\", \"Open\", \"Promo\", \"State_Holiday\", \"School_Holiday\"])\n",
    "df_test[\"Date\"]=pd.DataFrame(df_test[\"Date\"],dtype=\"datetime64[ns]\")\n",
    "df_test[\"State_Holiday\"]=pd.DataFrame(df_test[\"State_Holiday\"],dtype=\"bool\")\n",
    "df_test[\"State_Holiday\"]=pd.DataFrame(df_test[\"State_Holiday\"],dtype=\"int\")\n",
    "\n",
    "df_test['Month'] = df_test['Date'].map(lambda d: d.month)\n",
    "df_test[\"Month\"]=pd.DataFrame(df_test[\"Month\"],dtype=int)\n",
    "df_test['Day_of_month'] = df_test['Date'].map(lambda d: d.day)\n",
    "df_test[\"Day_of_month\"]=pd.DataFrame(df_test[\"Day_of_month\"],dtype=int)\n",
    "df_test['Year'] = df_test['Date'].map(lambda d: d.year)\n",
    "df_test[\"Year\"]=pd.DataFrame(df_test[\"Year\"],dtype=int)\n",
    "\n",
    "del df_test[\"Date\"]\n",
    "\n",
    "##### solutions\n",
    "input_string_sol = path + 'store_train.solution'\n",
    "df_sol = pd.read_csv(input_string_sol ,sep=\" \",header=None, names = [\"Sales\"])\n",
    "\n",
    "\n",
    "df_full_train=pd.concat([df_train,df_sol],axis=1)\n",
    "\n",
    "print(\"Données d'entrainement complètes :\\n\", df_full_train.head(), \"\\n\")\n",
    "print(\"Données de test :\\n\", df_test.head(), \"\\n\")\n",
    "print(\"Types des données d'entrainement complètes : \\n\", df_full_train.dtypes)"
   ]
  },
  {
   "cell_type": "markdown",
   "metadata": {},
   "source": []
  },
  {
   "cell_type": "markdown",
   "metadata": {},
   "source": [
    "On vérifie que le tableau est bien rempli"
   ]
  },
  {
   "cell_type": "code",
   "execution_count": 2,
   "metadata": {},
   "outputs": [
    {
     "name": "stdout",
     "output_type": "stream",
     "text": [
      "Nb de jours 712045\n",
      "Nb de magasins 712045\n",
      "Nb de Customers 712045\n",
      "Nb de open 712045\n",
      "Nb de Promo 712045\n",
      "Nb de State_Holiday 712045\n",
      "Nb de School_Holiday 712045\n",
      "Nb de Sales 712045\n",
      "           ID    Day  Number_of_Customers   Open  Promo  State_Holiday  \\\n",
      "0       False  False                False  False  False          False   \n",
      "1       False  False                False  False  False          False   \n",
      "2       False  False                False  False  False          False   \n",
      "3       False  False                False  False  False          False   \n",
      "4       False  False                False  False  False          False   \n",
      "5       False  False                False  False  False          False   \n",
      "6       False  False                False  False  False          False   \n",
      "7       False  False                False  False  False          False   \n",
      "8       False  False                False  False  False          False   \n",
      "9       False  False                False  False  False          False   \n",
      "10      False  False                False  False  False          False   \n",
      "11      False  False                False  False  False          False   \n",
      "12      False  False                False  False  False          False   \n",
      "13      False  False                False  False  False          False   \n",
      "14      False  False                False  False  False          False   \n",
      "15      False  False                False  False  False          False   \n",
      "16      False  False                False  False  False          False   \n",
      "17      False  False                False  False  False          False   \n",
      "18      False  False                False  False  False          False   \n",
      "19      False  False                False  False  False          False   \n",
      "20      False  False                False  False  False          False   \n",
      "21      False  False                False  False  False          False   \n",
      "22      False  False                False  False  False          False   \n",
      "23      False  False                False  False  False          False   \n",
      "24      False  False                False  False  False          False   \n",
      "25      False  False                False  False  False          False   \n",
      "26      False  False                False  False  False          False   \n",
      "27      False  False                False  False  False          False   \n",
      "28      False  False                False  False  False          False   \n",
      "29      False  False                False  False  False          False   \n",
      "...       ...    ...                  ...    ...    ...            ...   \n",
      "712015  False  False                False  False  False          False   \n",
      "712016  False  False                False  False  False          False   \n",
      "712017  False  False                False  False  False          False   \n",
      "712018  False  False                False  False  False          False   \n",
      "712019  False  False                False  False  False          False   \n",
      "712020  False  False                False  False  False          False   \n",
      "712021  False  False                False  False  False          False   \n",
      "712022  False  False                False  False  False          False   \n",
      "712023  False  False                False  False  False          False   \n",
      "712024  False  False                False  False  False          False   \n",
      "712025  False  False                False  False  False          False   \n",
      "712026  False  False                False  False  False          False   \n",
      "712027  False  False                False  False  False          False   \n",
      "712028  False  False                False  False  False          False   \n",
      "712029  False  False                False  False  False          False   \n",
      "712030  False  False                False  False  False          False   \n",
      "712031  False  False                False  False  False          False   \n",
      "712032  False  False                False  False  False          False   \n",
      "712033  False  False                False  False  False          False   \n",
      "712034  False  False                False  False  False          False   \n",
      "712035  False  False                False  False  False          False   \n",
      "712036  False  False                False  False  False          False   \n",
      "712037  False  False                False  False  False          False   \n",
      "712038  False  False                False  False  False          False   \n",
      "712039  False  False                False  False  False          False   \n",
      "712040  False  False                False  False  False          False   \n",
      "712041  False  False                False  False  False          False   \n",
      "712042  False  False                False  False  False          False   \n",
      "712043  False  False                False  False  False          False   \n",
      "712044  False  False                False  False  False          False   \n",
      "\n",
      "        School_Holiday  Month  Day_of_month   Year  Sales  \n",
      "0                False  False         False  False  False  \n",
      "1                False  False         False  False  False  \n",
      "2                False  False         False  False  False  \n",
      "3                False  False         False  False  False  \n",
      "4                False  False         False  False  False  \n",
      "5                False  False         False  False  False  \n",
      "6                False  False         False  False  False  \n",
      "7                False  False         False  False  False  \n",
      "8                False  False         False  False  False  \n",
      "9                False  False         False  False  False  \n",
      "10               False  False         False  False  False  \n",
      "11               False  False         False  False  False  \n",
      "12               False  False         False  False  False  \n",
      "13               False  False         False  False  False  \n",
      "14               False  False         False  False  False  \n",
      "15               False  False         False  False  False  \n",
      "16               False  False         False  False  False  \n",
      "17               False  False         False  False  False  \n",
      "18               False  False         False  False  False  \n",
      "19               False  False         False  False  False  \n",
      "20               False  False         False  False  False  \n",
      "21               False  False         False  False  False  \n",
      "22               False  False         False  False  False  \n",
      "23               False  False         False  False  False  \n",
      "24               False  False         False  False  False  \n",
      "25               False  False         False  False  False  \n",
      "26               False  False         False  False  False  \n",
      "27               False  False         False  False  False  \n",
      "28               False  False         False  False  False  \n",
      "29               False  False         False  False  False  \n",
      "...                ...    ...           ...    ...    ...  \n",
      "712015           False  False         False  False  False  \n",
      "712016           False  False         False  False  False  \n",
      "712017           False  False         False  False  False  \n",
      "712018           False  False         False  False  False  \n",
      "712019           False  False         False  False  False  \n",
      "712020           False  False         False  False  False  \n",
      "712021           False  False         False  False  False  \n",
      "712022           False  False         False  False  False  \n",
      "712023           False  False         False  False  False  \n",
      "712024           False  False         False  False  False  \n",
      "712025           False  False         False  False  False  \n",
      "712026           False  False         False  False  False  \n",
      "712027           False  False         False  False  False  \n",
      "712028           False  False         False  False  False  \n",
      "712029           False  False         False  False  False  \n",
      "712030           False  False         False  False  False  \n",
      "712031           False  False         False  False  False  \n",
      "712032           False  False         False  False  False  \n",
      "712033           False  False         False  False  False  \n",
      "712034           False  False         False  False  False  \n",
      "712035           False  False         False  False  False  \n",
      "712036           False  False         False  False  False  \n",
      "712037           False  False         False  False  False  \n",
      "712038           False  False         False  False  False  \n",
      "712039           False  False         False  False  False  \n",
      "712040           False  False         False  False  False  \n",
      "712041           False  False         False  False  False  \n",
      "712042           False  False         False  False  False  \n",
      "712043           False  False         False  False  False  \n",
      "712044           False  False         False  False  False  \n",
      "\n",
      "[712045 rows x 11 columns]\n",
      "False\n"
     ]
    },
    {
     "name": "stdout",
     "output_type": "stream",
     "text": [
      "le nombre de jours non remplis est de  0\n"
     ]
    }
   ],
   "source": [
    "print(\"Nb de jours\", df_full_train[\"Day\"].size)\n",
    "print(\"Nb de magasins\", df_full_train[\"ID\"].size)\n",
    "print(\"Nb de Customers\", df_full_train[\"Number_of_Customers\"].size)\n",
    "print(\"Nb de open\", df_full_train[\"Open\"].size)\n",
    "print(\"Nb de Promo\", df_full_train[\"Promo\"].size)\n",
    "print(\"Nb de State_Holiday\", df_full_train[\"State_Holiday\"].size)\n",
    "print(\"Nb de School_Holiday\", df_full_train[\"School_Holiday\"].size)\n",
    "print(\"Nb de Sales\", df_full_train[\"Sales\"].size)\n",
    "\n",
    "Day_nul = df_full_train.isna()[\"Day\"]\n",
    "print(df_full_train.isna())\n",
    "print(Day_nul[1])\n",
    "nb_jour_nn_remplis = 0\n",
    "for i in range(df_full_train[\"Day\"].size-1) :\n",
    "    if Day_nul[i] :\n",
    "        nb_jour_nn_remplis +1\n",
    "\n",
    "print(\"le nombre de jours non remplis est de \",nb_jour_nn_remplis)\n"
   ]
  },
  {
   "cell_type": "markdown",
   "metadata": {},
   "source": [
    "Découper les données de test et d'apprentissage pour voir l'intéret des différents algorithmes sur notre propre set d'entrainement"
   ]
  },
  {
   "cell_type": "code",
   "execution_count": 3,
   "metadata": {},
   "outputs": [],
   "source": [
    "from sklearn.model_selection import train_test_split\n",
    "T_train,T_test,z_train,z_test=train_test_split(df_train,df_sol,test_size=0.2,random_state=11)"
   ]
  },
  {
   "cell_type": "markdown",
   "metadata": {},
   "source": [
    "## Algo KNN pour identifier les jours où il y a vente et les jours où on ne vend rien"
   ]
  },
  {
   "cell_type": "markdown",
   "metadata": {},
   "source": [
    "Pour celà il faut redéfinir les données de la solution en variable binaire : 0 si pas de vente et 1 si la vente>0."
   ]
  },
  {
   "cell_type": "code",
   "execution_count": 9,
   "metadata": {},
   "outputs": [
    {
     "name": "stdout",
     "output_type": "stream",
     "text": [
      "   Sales\n",
      "0   7293\n",
      "1   7060\n",
      "2   4565\n",
      "3   6380\n",
      "4  11647\n",
      "5   7967\n",
      "6   7101\n",
      "7      0\n",
      "8   7516\n",
      "9   6295\n",
      "   Sales\n",
      "0      1\n",
      "1      1\n",
      "2      1\n",
      "3      1\n",
      "4      1\n",
      "5      1\n",
      "6      1\n",
      "7      0\n",
      "8      1\n",
      "9      1\n"
     ]
    }
   ],
   "source": [
    "print(df_sol[:10])\n",
    "df_sol2=pd.DataFrame(df_sol,dtype=\"bool\")\n",
    "df_sol2=pd.DataFrame(df_sol2,dtype=\"int\")\n",
    "print(df_sol2[:10])\n",
    "\n",
    "from sklearn.model_selection import train_test_split\n",
    "X_train,X_test,z_train,z_test=train_test_split(df_train,df_sol2,test_size=0.25)"
   ]
  },
  {
   "cell_type": "code",
   "execution_count": 12,
   "metadata": {},
   "outputs": [
    {
     "name": "stderr",
     "output_type": "stream",
     "text": [
      "/Users/marierebiere/anaconda3/lib/python3.7/site-packages/ipykernel_launcher.py:3: DataConversionWarning: A column-vector y was passed when a 1d array was expected. Please change the shape of y to (n_samples, ), for example using ravel().\n",
      "  This is separate from the ipykernel package so we can avoid doing imports until\n"
     ]
    },
    {
     "data": {
      "text/plain": [
       "5.617598813567604e-06"
      ]
     },
     "execution_count": 12,
     "metadata": {},
     "output_type": "execute_result"
    }
   ],
   "source": [
    "from sklearn.neighbors import KNeighborsClassifier\n",
    "knn = KNeighborsClassifier(n_neighbors=1)\n",
    "digit_knn=knn.fit(X_train, z_train) \n",
    "# Estimation de l'erreur de prévision\n",
    "# sur l'échantillon test\n",
    "1-digit_knn.score(X_test,z_test)\n"
   ]
  },
  {
   "cell_type": "markdown",
   "metadata": {},
   "source": [
    "Le score obtenu n'est pas ouf et ne change pas en fonction du nombre de voisins c'est chelou"
   ]
  },
  {
   "cell_type": "code",
   "execution_count": 11,
   "metadata": {},
   "outputs": [
    {
     "name": "stderr",
     "output_type": "stream",
     "text": [
      "/Users/marierebiere/anaconda3/lib/python3.7/site-packages/sklearn/model_selection/_search.py:714: DataConversionWarning: A column-vector y was passed when a 1d array was expected. Please change the shape of y to (n_samples, ), for example using ravel().\n",
      "  self.best_estimator_.fit(X, y, **fit_params)\n"
     ]
    },
    {
     "data": {
      "text/plain": [
       "1"
      ]
     },
     "execution_count": 11,
     "metadata": {},
     "output_type": "execute_result"
    }
   ],
   "source": [
    "from sklearn.model_selection import GridSearchCV\n",
    "# grille de valeurs\n",
    "param=[{\"n_neighbors\":list(range(1,15))}]\n",
    "knn= GridSearchCV(KNeighborsClassifier(),param,cv=5,n_jobs=-1)\n",
    "digit_knnOpt=knn.fit(X_train, z_train)\n",
    "# paramètre optimal\n",
    "digit_knnOpt.best_params_[\"n_neighbors\"]"
   ]
  },
  {
   "cell_type": "code",
   "execution_count": 14,
   "metadata": {},
   "outputs": [
    {
     "data": {
      "text/plain": [
       "array([5.61759881e-06])"
      ]
     },
     "execution_count": 14,
     "metadata": {},
     "output_type": "execute_result"
    }
   ],
   "source": [
    "z_test_tolist = z_test.values.tolist()\n",
    "\n",
    "z_pred = digit_knnOpt.predict(X_test)\n",
    "\n",
    "a = np.array(z_test_tolist) # your x\n",
    "b = np.array(z_pred) # your y\n",
    "mse = 0\n",
    "for i in range(len(a)):\n",
    "    mse+= (a[i]-b[i])**2/len(a)\n",
    "\n",
    "mse"
   ]
  },
  {
   "cell_type": "markdown",
   "metadata": {},
   "source": [
    "## Algo KNN pour les plages de vente : "
   ]
  },
  {
   "cell_type": "code",
   "execution_count": 25,
   "metadata": {},
   "outputs": [
    {
     "name": "stdout",
     "output_type": "stream",
     "text": [
      "   Sales\n",
      "0   7293\n",
      "1   7060\n",
      "2   4565\n",
      "3   6380\n",
      "4  11647\n",
      "5   7967\n",
      "6   7101\n",
      "7      0\n",
      "8   7516\n",
      "9   6295\n",
      "    Sales\n",
      "0  Sales3\n",
      "1  Sales3\n",
      "2  Sales2\n",
      "3  Sales2\n",
      "4  Sales3\n",
      "5  Sales3\n",
      "6  Sales3\n",
      "7  Sales1\n",
      "8  Sales3\n",
      "9  Sales2\n"
     ]
    }
   ],
   "source": [
    "print(df_sol[:10])\n",
    "df_sol1=df_sol\n",
    "df_sol1[\"Sales\"]=pd.qcut(df_sol[\"Sales\"],3,labels=[\"Sales1\",\"Sales2\",\"Sales3\"])\n",
    "print(df_sol1[:10])\n",
    "\n",
    "#from sklearn.model_selection import train_test_split\n",
    "#X_train,X_test,z_train,z_test=train_test_split(df_train,df_sol2,test_size=0.25)"
   ]
  },
  {
   "cell_type": "markdown",
   "metadata": {},
   "source": [
    "## Régression logistique"
   ]
  },
  {
   "cell_type": "code",
   "execution_count": 16,
   "metadata": {},
   "outputs": [
    {
     "name": "stderr",
     "output_type": "stream",
     "text": [
      "/Users/marierebiere/anaconda3/lib/python3.7/site-packages/sklearn/linear_model/logistic.py:432: FutureWarning: Default solver will be changed to 'lbfgs' in 0.22. Specify a solver to silence this warning.\n",
      "  FutureWarning)\n",
      "/Users/marierebiere/anaconda3/lib/python3.7/site-packages/sklearn/utils/validation.py:724: DataConversionWarning: A column-vector y was passed when a 1d array was expected. Please change the shape of y to (n_samples, ), for example using ravel().\n",
      "  y = column_or_1d(y, warn=True)\n"
     ]
    },
    {
     "data": {
      "text/plain": [
       "array([0, 1, 1, ..., 1, 0, 1])"
      ]
     },
     "execution_count": 16,
     "metadata": {},
     "output_type": "execute_result"
    }
   ],
   "source": [
    "from sklearn.linear_model import LogisticRegression\n",
    "logit = LogisticRegression()\n",
    "Sales_logit=logit.fit(X_train, z_train)\n",
    "Sales_logit.predict(X_test)\n",
    "# Erreur sur l'écahntillon test\n",
    "#1-titan_logit.score(T_test, z_test)"
   ]
  },
  {
   "cell_type": "code",
   "execution_count": null,
   "metadata": {},
   "outputs": [],
   "source": []
  }
 ],
 "metadata": {
  "kernelspec": {
   "display_name": "Python 3",
   "language": "python",
   "name": "python3"
  },
  "language_info": {
   "codemirror_mode": {
    "name": "ipython",
    "version": 3
   },
   "file_extension": ".py",
   "mimetype": "text/x-python",
   "name": "python",
   "nbconvert_exporter": "python",
   "pygments_lexer": "ipython3",
   "version": "3.7.3"
  }
 },
 "nbformat": 4,
 "nbformat_minor": 2
}
