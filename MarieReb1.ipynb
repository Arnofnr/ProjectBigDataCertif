{
 "cells": [
  {
   "cell_type": "markdown",
   "metadata": {},
   "source": [
    "# Lire les données et les afficher (repris du code de Olivier)"
   ]
  },
  {
   "cell_type": "code",
   "execution_count": 1,
   "metadata": {},
   "outputs": [
    {
     "name": "stdout",
     "output_type": "stream",
     "text": [
      "Données d'entrainement complètes :\n",
      "     ID  Day  Number_of_Customers  Open  Promo  State_Holiday  School_Holiday  \\\n",
      "0  625    3                  641     1      1              1               0   \n",
      "1  293    2                  877     1      1              1               1   \n",
      "2   39    4                  561     1      1              1               0   \n",
      "3  676    4                 1584     1      1              1               0   \n",
      "4  709    3                 1477     1      1              1               0   \n",
      "\n",
      "   Month  Day_of_month  Year  Sales  \n",
      "0     11             6  2013   7293  \n",
      "1      7            16  2013   7060  \n",
      "2      1            23  2014   4565  \n",
      "3      9            26  2013   6380  \n",
      "4      1            22  2014  11647   \n",
      "\n",
      "Données de test :\n",
      "     ID  Day  Number_of_Customers  Open  Promo  State_Holiday  School_Holiday  \\\n",
      "0  249    5                  725     1      1              1               0   \n",
      "1  190    4                  564     1      0              1               0   \n",
      "2  850    3                  644     1      1              1               0   \n",
      "3  776    6                  435     1      0              1               0   \n",
      "4   14    4                  799     1      1              1               0   \n",
      "\n",
      "   Month  Day_of_month  Year  \n",
      "0     12            19  2014  \n",
      "1      2            28  2013  \n",
      "2      6             5  2013  \n",
      "3      3            28  2015  \n",
      "4     10             2  2014   \n",
      "\n",
      "Types des données d'entrainement complètes : \n",
      " ID                     int64\n",
      "Day                    int64\n",
      "Number_of_Customers    int64\n",
      "Open                   int64\n",
      "Promo                  int64\n",
      "State_Holiday          int64\n",
      "School_Holiday         int64\n",
      "Month                  int64\n",
      "Day_of_month           int64\n",
      "Year                   int64\n",
      "Sales                  int64\n",
      "dtype: object\n"
     ]
    }
   ],
   "source": [
    "import pandas as pd\n",
    "import numpy as np\n",
    "import matplotlib.pyplot as plt\n",
    "from sklearn.linear_model import LinearRegression\n",
    "from sklearn.model_selection import train_test_split  \n",
    "\n",
    "path='/Users/marierebiere/Desktop/cours/supaero/4A/Bigdata2/public_dat/'  # si les données sont déjà dans le répertoire courant\n",
    "\n",
    "input_string_train = path + 'store_train.data'\n",
    "#df_train = pd.DataFrame([x.split(' ') for x in input_string_train.split('\\n')],columns=[\"ID\",\"Day\",\"Date\",\"Number_of_Customers\",\"Open\",\"Promo\",\"State_Holiday\",\"School_Holiday\"],\n",
    "                  #dtype=int)\n",
    "                  #{\"ID\":int,\"Day\":int,\"Date\":object,\"Number_of_Customers\":int,\"Open\":int,\"Promo\":int,\"State_Holiday\":int,\"School_Holiday\":int})\n",
    "df_train = pd.read_csv(input_string_train ,sep=\" \",header=None, names = [\"ID\", \"Day\", \"Date\", \"Number_of_Customers\", \"Open\", \"Promo\", \"State_Holiday\", \"School_Holiday\"])\n",
    "\n",
    "df_train[\"Date\"]=pd.DataFrame(df_train[\"Date\"],dtype=\"datetime64[ns]\")\n",
    "df_train[\"State_Holiday\"]=pd.DataFrame(df_train[\"State_Holiday\"],dtype=\"bool\")\n",
    "df_train[\"State_Holiday\"]=pd.DataFrame(df_train[\"State_Holiday\"],dtype=\"int\")\n",
    "\n",
    "df_train['Month'] = df_train['Date'].map(lambda d: d.month)\n",
    "df_train[\"Month\"]=pd.DataFrame(df_train[\"Month\"],dtype=int)\n",
    "df_train['Day_of_month'] = df_train['Date'].map(lambda d: d.day)\n",
    "df_train[\"Day_of_month\"]=pd.DataFrame(df_train[\"Day_of_month\"],dtype=int)\n",
    "df_train['Year'] = df_train['Date'].map(lambda d: d.year)\n",
    "df_train[\"Year\"]=pd.DataFrame(df_train[\"Year\"],dtype=int)\n",
    "\n",
    "del df_train[\"Date\"]\n",
    "\n",
    "# Lire les données de test\n",
    "input_string_test = path + 'store_test.data'\n",
    "df_test = pd.read_csv(input_string_test ,sep=\" \",header=None, names = [\"ID\", \"Day\", \"Date\", \"Number_of_Customers\", \"Open\", \"Promo\", \"State_Holiday\", \"School_Holiday\"])\n",
    "df_test[\"Date\"]=pd.DataFrame(df_test[\"Date\"],dtype=\"datetime64[ns]\")\n",
    "df_test[\"State_Holiday\"]=pd.DataFrame(df_test[\"State_Holiday\"],dtype=\"bool\")\n",
    "df_test[\"State_Holiday\"]=pd.DataFrame(df_test[\"State_Holiday\"],dtype=\"int\")\n",
    "\n",
    "df_test['Month'] = df_test['Date'].map(lambda d: d.month)\n",
    "df_test[\"Month\"]=pd.DataFrame(df_test[\"Month\"],dtype=int)\n",
    "df_test['Day_of_month'] = df_test['Date'].map(lambda d: d.day)\n",
    "df_test[\"Day_of_month\"]=pd.DataFrame(df_test[\"Day_of_month\"],dtype=int)\n",
    "df_test['Year'] = df_test['Date'].map(lambda d: d.year)\n",
    "df_test[\"Year\"]=pd.DataFrame(df_test[\"Year\"],dtype=int)\n",
    "\n",
    "del df_test[\"Date\"]\n",
    "\n",
    "##### solutions\n",
    "input_string_sol = path + 'store_train.solution'\n",
    "df_sol = pd.read_csv(input_string_sol ,sep=\" \",header=None, names = [\"Sales\"])\n",
    "\n",
    "\n",
    "df_full_train=pd.concat([df_train,df_sol],axis=1)\n",
    "\n",
    "print(\"Données d'entrainement complètes :\\n\", df_full_train.head(), \"\\n\")\n",
    "print(\"Données de test :\\n\", df_test.head(), \"\\n\")\n",
    "print(\"Types des données d'entrainement complètes : \\n\", df_full_train.dtypes)"
   ]
  },
  {
   "cell_type": "markdown",
   "metadata": {},
   "source": []
  },
  {
   "cell_type": "markdown",
   "metadata": {},
   "source": [
    "On vérifie que le tableau est bien rempli"
   ]
  },
  {
   "cell_type": "code",
   "execution_count": 32,
   "metadata": {},
   "outputs": [
    {
     "name": "stdout",
     "output_type": "stream",
     "text": [
      "Nb de jours 712045\n",
      "Nb de magasins 712045\n",
      "Nb de Customers 712045\n",
      "Nb de open 712045\n",
      "Nb de Promo 712045\n",
      "Nb de State_Holiday 712045\n",
      "Nb de School_Holiday 712045\n",
      "Nb de Sales 712045\n",
      "           ID    Day  Number_of_Customers   Open  Promo  State_Holiday  \\\n",
      "0       False  False                False  False  False          False   \n",
      "1       False  False                False  False  False          False   \n",
      "2       False  False                False  False  False          False   \n",
      "3       False  False                False  False  False          False   \n",
      "4       False  False                False  False  False          False   \n",
      "5       False  False                False  False  False          False   \n",
      "6       False  False                False  False  False          False   \n",
      "7       False  False                False  False  False          False   \n",
      "8       False  False                False  False  False          False   \n",
      "9       False  False                False  False  False          False   \n",
      "10      False  False                False  False  False          False   \n",
      "11      False  False                False  False  False          False   \n",
      "12      False  False                False  False  False          False   \n",
      "13      False  False                False  False  False          False   \n",
      "14      False  False                False  False  False          False   \n",
      "15      False  False                False  False  False          False   \n",
      "16      False  False                False  False  False          False   \n",
      "17      False  False                False  False  False          False   \n",
      "18      False  False                False  False  False          False   \n",
      "19      False  False                False  False  False          False   \n",
      "20      False  False                False  False  False          False   \n",
      "21      False  False                False  False  False          False   \n",
      "22      False  False                False  False  False          False   \n",
      "23      False  False                False  False  False          False   \n",
      "24      False  False                False  False  False          False   \n",
      "25      False  False                False  False  False          False   \n",
      "26      False  False                False  False  False          False   \n",
      "27      False  False                False  False  False          False   \n",
      "28      False  False                False  False  False          False   \n",
      "29      False  False                False  False  False          False   \n",
      "...       ...    ...                  ...    ...    ...            ...   \n",
      "712015  False  False                False  False  False          False   \n",
      "712016  False  False                False  False  False          False   \n",
      "712017  False  False                False  False  False          False   \n",
      "712018  False  False                False  False  False          False   \n",
      "712019  False  False                False  False  False          False   \n",
      "712020  False  False                False  False  False          False   \n",
      "712021  False  False                False  False  False          False   \n",
      "712022  False  False                False  False  False          False   \n",
      "712023  False  False                False  False  False          False   \n",
      "712024  False  False                False  False  False          False   \n",
      "712025  False  False                False  False  False          False   \n",
      "712026  False  False                False  False  False          False   \n",
      "712027  False  False                False  False  False          False   \n",
      "712028  False  False                False  False  False          False   \n",
      "712029  False  False                False  False  False          False   \n",
      "712030  False  False                False  False  False          False   \n",
      "712031  False  False                False  False  False          False   \n",
      "712032  False  False                False  False  False          False   \n",
      "712033  False  False                False  False  False          False   \n",
      "712034  False  False                False  False  False          False   \n",
      "712035  False  False                False  False  False          False   \n",
      "712036  False  False                False  False  False          False   \n",
      "712037  False  False                False  False  False          False   \n",
      "712038  False  False                False  False  False          False   \n",
      "712039  False  False                False  False  False          False   \n",
      "712040  False  False                False  False  False          False   \n",
      "712041  False  False                False  False  False          False   \n",
      "712042  False  False                False  False  False          False   \n",
      "712043  False  False                False  False  False          False   \n",
      "712044  False  False                False  False  False          False   \n",
      "\n",
      "        School_Holiday  Month  Day_of_month   Year  Sales  \n",
      "0                False  False         False  False  False  \n",
      "1                False  False         False  False  False  \n",
      "2                False  False         False  False  False  \n",
      "3                False  False         False  False  False  \n",
      "4                False  False         False  False  False  \n",
      "5                False  False         False  False  False  \n",
      "6                False  False         False  False  False  \n",
      "7                False  False         False  False  False  \n",
      "8                False  False         False  False  False  \n",
      "9                False  False         False  False  False  \n",
      "10               False  False         False  False  False  \n",
      "11               False  False         False  False  False  \n",
      "12               False  False         False  False  False  \n",
      "13               False  False         False  False  False  \n",
      "14               False  False         False  False  False  \n",
      "15               False  False         False  False  False  \n",
      "16               False  False         False  False  False  \n",
      "17               False  False         False  False  False  \n",
      "18               False  False         False  False  False  \n",
      "19               False  False         False  False  False  \n",
      "20               False  False         False  False  False  \n",
      "21               False  False         False  False  False  \n",
      "22               False  False         False  False  False  \n",
      "23               False  False         False  False  False  \n",
      "24               False  False         False  False  False  \n",
      "25               False  False         False  False  False  \n",
      "26               False  False         False  False  False  \n",
      "27               False  False         False  False  False  \n",
      "28               False  False         False  False  False  \n",
      "29               False  False         False  False  False  \n",
      "...                ...    ...           ...    ...    ...  \n",
      "712015           False  False         False  False  False  \n",
      "712016           False  False         False  False  False  \n",
      "712017           False  False         False  False  False  \n",
      "712018           False  False         False  False  False  \n",
      "712019           False  False         False  False  False  \n",
      "712020           False  False         False  False  False  \n",
      "712021           False  False         False  False  False  \n",
      "712022           False  False         False  False  False  \n",
      "712023           False  False         False  False  False  \n",
      "712024           False  False         False  False  False  \n",
      "712025           False  False         False  False  False  \n",
      "712026           False  False         False  False  False  \n",
      "712027           False  False         False  False  False  \n",
      "712028           False  False         False  False  False  \n",
      "712029           False  False         False  False  False  \n",
      "712030           False  False         False  False  False  \n",
      "712031           False  False         False  False  False  \n",
      "712032           False  False         False  False  False  \n",
      "712033           False  False         False  False  False  \n",
      "712034           False  False         False  False  False  \n",
      "712035           False  False         False  False  False  \n",
      "712036           False  False         False  False  False  \n",
      "712037           False  False         False  False  False  \n",
      "712038           False  False         False  False  False  \n",
      "712039           False  False         False  False  False  \n",
      "712040           False  False         False  False  False  \n",
      "712041           False  False         False  False  False  \n",
      "712042           False  False         False  False  False  \n",
      "712043           False  False         False  False  False  \n",
      "712044           False  False         False  False  False  \n",
      "\n",
      "[712045 rows x 11 columns]\n",
      "False\n"
     ]
    },
    {
     "name": "stdout",
     "output_type": "stream",
     "text": [
      "le nombre de jours non remplis est de  0\n"
     ]
    }
   ],
   "source": [
    "print(\"Nb de jours\", df_full_train[\"Day\"].size)\n",
    "print(\"Nb de magasins\", df_full_train[\"ID\"].size)\n",
    "print(\"Nb de Customers\", df_full_train[\"Number_of_Customers\"].size)\n",
    "print(\"Nb de open\", df_full_train[\"Open\"].size)\n",
    "print(\"Nb de Promo\", df_full_train[\"Promo\"].size)\n",
    "print(\"Nb de State_Holiday\", df_full_train[\"State_Holiday\"].size)\n",
    "print(\"Nb de School_Holiday\", df_full_train[\"School_Holiday\"].size)\n",
    "print(\"Nb de Sales\", df_full_train[\"Sales\"].size)\n",
    "\n",
    "Day_nul = df_full_train.isna()[\"Day\"]\n",
    "print(df_full_train.isna())\n",
    "print(Day_nul[1])\n",
    "nb_jour_nn_remplis = 0\n",
    "for i in range(df_full_train[\"Day\"].size-1) :\n",
    "    if Day_nul[i] :\n",
    "        nb_jour_nn_remplis +1\n",
    "\n",
    "print(\"le nombre de jours non remplis est de \",nb_jour_nn_remplis)\n"
   ]
  },
  {
   "cell_type": "markdown",
   "metadata": {},
   "source": [
    "Découper les données de test et d'apprentissage pour voir l'intéret des différents algorithmes sur notre propre set d'entrainement"
   ]
  },
  {
   "cell_type": "markdown",
   "metadata": {},
   "source": [
    "## KNN pour savoir si ya des ventes ou pas"
   ]
  },
  {
   "cell_type": "markdown",
   "metadata": {},
   "source": [
    "Pour celà il faut redéfinir les données de la solution en variable binaire : 0 si pas de vente et 1 si la vente>0."
   ]
  },
  {
   "cell_type": "code",
   "execution_count": 33,
   "metadata": {},
   "outputs": [
    {
     "name": "stdout",
     "output_type": "stream",
     "text": [
      "   Sales\n",
      "0   7293\n",
      "1   7060\n",
      "2   4565\n",
      "3   6380\n",
      "4  11647\n",
      "5   7967\n",
      "6   7101\n",
      "7      0\n",
      "8   7516\n",
      "9   6295\n",
      "   Sales\n",
      "0      1\n",
      "1      1\n",
      "2      1\n",
      "3      1\n",
      "4      1\n",
      "5      1\n",
      "6      1\n",
      "7      0\n",
      "8      1\n",
      "9      1\n"
     ]
    }
   ],
   "source": [
    "print(df_sol[:10])\n",
    "df_sol2=pd.DataFrame(df_sol,dtype=\"bool\")\n",
    "df_sol2=pd.DataFrame(df_sol2,dtype=\"int\")\n",
    "print(df_sol2[:10])\n",
    "\n",
    "from sklearn.model_selection import train_test_split\n",
    "X_train,X_test,z_train,z_test=train_test_split(df_train,df_sol2,test_size=0.25)"
   ]
  },
  {
   "cell_type": "code",
   "execution_count": 34,
   "metadata": {},
   "outputs": [
    {
     "name": "stderr",
     "output_type": "stream",
     "text": [
      "/Users/marierebiere/anaconda3/lib/python3.7/site-packages/ipykernel_launcher.py:3: DataConversionWarning: A column-vector y was passed when a 1d array was expected. Please change the shape of y to (n_samples, ), for example using ravel().\n",
      "  This is separate from the ipykernel package so we can avoid doing imports until\n"
     ]
    },
    {
     "data": {
      "text/plain": [
       "0.0"
      ]
     },
     "execution_count": 34,
     "metadata": {},
     "output_type": "execute_result"
    }
   ],
   "source": [
    "from sklearn.neighbors import KNeighborsClassifier\n",
    "knn = KNeighborsClassifier(n_neighbors=1)\n",
    "digit_knn=knn.fit(X_train, z_train) \n",
    "# Estimation de l'erreur de prévision\n",
    "# sur l'échantillon test\n",
    "1-digit_knn.score(X_test,z_test)\n"
   ]
  },
  {
   "cell_type": "markdown",
   "metadata": {},
   "source": [
    "Le score obtenu est stylé"
   ]
  },
  {
   "cell_type": "code",
   "execution_count": 35,
   "metadata": {},
   "outputs": [
    {
     "name": "stderr",
     "output_type": "stream",
     "text": [
      "/Users/marierebiere/anaconda3/lib/python3.7/site-packages/sklearn/model_selection/_search.py:714: DataConversionWarning: A column-vector y was passed when a 1d array was expected. Please change the shape of y to (n_samples, ), for example using ravel().\n",
      "  self.best_estimator_.fit(X, y, **fit_params)\n"
     ]
    },
    {
     "data": {
      "text/plain": [
       "1"
      ]
     },
     "execution_count": 35,
     "metadata": {},
     "output_type": "execute_result"
    }
   ],
   "source": [
    "from sklearn.model_selection import GridSearchCV\n",
    "# grille de valeurs\n",
    "param=[{\"n_neighbors\":list(range(1,15))}]\n",
    "knn= GridSearchCV(KNeighborsClassifier(),param,cv=5,n_jobs=-1)\n",
    "digit_knnOpt=knn.fit(X_train, z_train)\n",
    "# paramètre optimal\n",
    "digit_knnOpt.best_params_[\"n_neighbors\"]"
   ]
  },
  {
   "cell_type": "code",
   "execution_count": 36,
   "metadata": {},
   "outputs": [
    {
     "data": {
      "text/plain": [
       "array([0.])"
      ]
     },
     "execution_count": 36,
     "metadata": {},
     "output_type": "execute_result"
    }
   ],
   "source": [
    "z_test_tolist = z_test.values.tolist()\n",
    "\n",
    "z_pred = digit_knnOpt.predict(X_test)\n",
    "\n",
    "a = np.array(z_test_tolist) # your x\n",
    "b = np.array(z_pred) # your y\n",
    "mse = 0\n",
    "for i in range(len(a)):\n",
    "    mse+= (a[i]-b[i])**2/len(a)\n",
    "\n",
    "mse"
   ]
  },
  {
   "cell_type": "markdown",
   "metadata": {},
   "source": [
    "yeeeeaaah"
   ]
  },
  {
   "cell_type": "markdown",
   "metadata": {},
   "source": [
    "## Régression logistique"
   ]
  },
  {
   "cell_type": "code",
   "execution_count": 3,
   "metadata": {},
   "outputs": [],
   "source": [
    "from sklearn.model_selection import train_test_split\n",
    "X_train,X_test,z_train,z_test=train_test_split(df_train,df_sol,test_size=0.2,random_state=11)"
   ]
  },
  {
   "cell_type": "code",
   "execution_count": null,
   "metadata": {},
   "outputs": [
    {
     "name": "stderr",
     "output_type": "stream",
     "text": [
      "/Users/marierebiere/anaconda3/lib/python3.7/site-packages/sklearn/linear_model/logistic.py:432: FutureWarning: Default solver will be changed to 'lbfgs' in 0.22. Specify a solver to silence this warning.\n",
      "  FutureWarning)\n",
      "/Users/marierebiere/anaconda3/lib/python3.7/site-packages/sklearn/utils/validation.py:724: DataConversionWarning: A column-vector y was passed when a 1d array was expected. Please change the shape of y to (n_samples, ), for example using ravel().\n",
      "  y = column_or_1d(y, warn=True)\n",
      "/Users/marierebiere/anaconda3/lib/python3.7/site-packages/sklearn/linear_model/logistic.py:469: FutureWarning: Default multi_class will be changed to 'auto' in 0.22. Specify the multi_class option to silence this warning.\n",
      "  \"this warning.\", FutureWarning)\n"
     ]
    }
   ],
   "source": [
    "from sklearn.linear_model import LogisticRegression\n",
    "logit = LogisticRegression()\n",
    "Sales_logit=logit.fit(X_train, z_train)\n",
    "Sales_logit.predict(X_test)\n",
    "# Erreur sur l'écahntillon test\n",
    "#1-titan_logit.score(T_test, z_test)"
   ]
  },
  {
   "cell_type": "markdown",
   "metadata": {},
   "source": [
    "## Random Forest"
   ]
  },
  {
   "cell_type": "code",
   "execution_count": 2,
   "metadata": {},
   "outputs": [],
   "source": [
    "from sklearn.model_selection import train_test_split\n",
    "X_train,X_test,z_train,z_test=train_test_split(df_train,df_sol,test_size=0.2,random_state=11)"
   ]
  },
  {
   "cell_type": "code",
   "execution_count": null,
   "metadata": {},
   "outputs": [
    {
     "name": "stderr",
     "output_type": "stream",
     "text": [
      "/Users/marierebiere/anaconda3/lib/python3.7/site-packages/ipykernel_launcher.py:9: DataConversionWarning: A column-vector y was passed when a 1d array was expected. Please change the shape of y to (n_samples,), for example using ravel().\n",
      "  if __name__ == '__main__':\n"
     ]
    }
   ],
   "source": [
    "from sklearn.ensemble import RandomForestClassifier \n",
    "# définition des paramètres\n",
    "forest = RandomForestClassifier(n_estimators=10, \n",
    "   criterion='gini', max_depth=None,\n",
    "   min_samples_split=200, min_samples_leaf=1, \n",
    "   max_features='auto', max_leaf_nodes=None,\n",
    "   bootstrap=True, oob_score=True)\n",
    "# apprentissage et erreur out-of-bag\n",
    "forest = forest.fit(X_train,z_train)\n",
    "print(1-forest.oob_score_)"
   ]
  },
  {
   "cell_type": "code",
   "execution_count": null,
   "metadata": {},
   "outputs": [],
   "source": [
    "# erreur de prévision sur le test\n",
    "1-forest.score(X_test,z_test)"
   ]
  },
  {
   "cell_type": "code",
   "execution_count": null,
   "metadata": {},
   "outputs": [],
   "source": [
    "# prévision\n",
    "y_chap = digit_rfOpt.predict(X_test)"
   ]
  },
  {
   "cell_type": "markdown",
   "metadata": {},
   "source": [
    "## Pipeline"
   ]
  },
  {
   "cell_type": "markdown",
   "metadata": {},
   "source": []
  },
  {
   "cell_type": "code",
   "execution_count": 2,
   "metadata": {},
   "outputs": [],
   "source": [
    "from sklearn.model_selection import train_test_split\n",
    "X_train,X_test,z_train,z_test=train_test_split(df_train,df_sol,test_size=0.25,random_state=11)"
   ]
  },
  {
   "cell_type": "code",
   "execution_count": 5,
   "metadata": {},
   "outputs": [
    {
     "name": "stdout",
     "output_type": "stream",
     "text": [
      "Moyenne avant centrage et réduction = ID                      558.367636\n",
      "Day                       4.001344\n",
      "Number_of_Customers     633.226875\n",
      "Open                      0.830306\n",
      "Promo                     0.380608\n",
      "State_Holiday             1.000000\n",
      "School_Holiday            0.178491\n",
      "Month                     5.848991\n",
      "Day_of_month             15.704556\n",
      "Year                   2013.831731\n",
      "dtype: float64\n",
      "Moyenne après centrage et réduction = 5.293830973775642e-15\n"
     ]
    }
   ],
   "source": [
    "import numpy as np\n",
    "from sklearn.preprocessing import StandardScaler\n",
    "tf = StandardScaler()\n",
    "tf.fit(X_train, z_train)\n",
    "Xt_train = tf.transform(X_train)  \n",
    "print(\"Moyenne avant centrage et réduction =\", np.mean(X_train))\n",
    "print(\"Moyenne après centrage et réduction =\", np.mean(Xt_train))"
   ]
  },
  {
   "cell_type": "code",
   "execution_count": 7,
   "metadata": {},
   "outputs": [
    {
     "data": {
      "text/plain": [
       "array([[-1.35569895e+00,  1.00139560e+00,  1.37410388e-01, ...,\n",
       "        -1.15648112e+00, -8.01179902e-02,  2.16567649e-01],\n",
       "       [-6.28712052e-01, -5.01708253e-01, -5.37003039e-01, ...,\n",
       "        -1.15648112e+00, -4.21260595e-01,  2.16567649e-01],\n",
       "       [-4.36091592e-01, -6.73634132e-04, -3.19380815e-01, ...,\n",
       "        -8.56017636e-01, -3.07546394e-01,  2.16567649e-01],\n",
       "       ...,\n",
       "       [ 1.29749255e+00,  5.00360985e-01,  1.93431950e-01, ...,\n",
       "        -1.15648112e+00,  4.88453018e-01,  1.50360286e+00],\n",
       "       [-7.06381592e-01,  5.00360985e-01,  2.34370785e-01, ...,\n",
       "        -1.15648112e+00, -3.07546394e-01,  1.50360286e+00],\n",
       "       [ 6.79243007e-01, -5.01708253e-01, -7.82636044e-01, ...,\n",
       "        -1.45694460e+00, -1.55840261e+00, -1.07046756e+00]])"
      ]
     },
     "execution_count": 7,
     "metadata": {},
     "output_type": "execute_result"
    }
   ],
   "source": [
    "# Raccourci: Xt = tf.fit_transform(X)\n",
    "tf.fit_transform(X_train)"
   ]
  },
  {
   "cell_type": "code",
   "execution_count": null,
   "metadata": {},
   "outputs": [
    {
     "name": "stderr",
     "output_type": "stream",
     "text": [
      "/Users/marierebiere/anaconda3/lib/python3.7/site-packages/sklearn/utils/validation.py:724: DataConversionWarning: A column-vector y was passed when a 1d array was expected. Please change the shape of y to (n_samples, ), for example using ravel().\n",
      "  y = column_or_1d(y, warn=True)\n",
      "/Users/marierebiere/anaconda3/lib/python3.7/site-packages/sklearn/svm/base.py:193: FutureWarning: The default value of gamma will change from 'auto' to 'scale' in version 0.22 to account better for unscaled features. Set gamma explicitly to 'auto' or 'scale' to avoid this warning.\n",
      "  \"avoid this warning.\", FutureWarning)\n"
     ]
    }
   ],
   "source": [
    "# NB. La standardisation préalable est indispensable pour certains algorithmes\n",
    "# notamment les SVM\n",
    "from sklearn.svm import SVC\n",
    "clf = SVC()\n",
    "# Calcul des scores (bien classés)\n",
    "print(\"Sans standardisation =\", clf.fit(X_train, z_train).score(X_test, z_test))\n",
    "print(\"Avec standardisation =\", clf.fit(tf.transform(X_train), z_train).score(tf.transform(X_test), z_test))"
   ]
  },
  {
   "cell_type": "code",
   "execution_count": null,
   "metadata": {},
   "outputs": [],
   "source": [
    "from sklearn.pipeline import make_pipeline\n",
    "from sklearn.preprocessing import StandardScaler\n",
    "from sklearn.feature_selection import RFE"
   ]
  },
  {
   "cell_type": "code",
   "execution_count": null,
   "metadata": {},
   "outputs": [],
   "source": [
    "clf = make_pipeline(StandardScaler(), \n",
    "                    RFE(RandomForestClassifier(), n_features_to_select=10), \n",
    "                    RandomForestClassifier())\n",
    "clf.fit(X_train, y_train)\n",
    "print(clf.predict_proba(X_test)[:5])"
   ]
  },
  {
   "cell_type": "markdown",
   "metadata": {},
   "source": [
    "## Composition emboitée"
   ]
  },
  {
   "cell_type": "markdown",
   "metadata": {},
   "source": [
    "Les données initiales sont unies aux composantes de l'ACP, puis les variables les plus importantes au sens des forêts aléatoires sont sélectionnées avant de servir à l'apprentissage d'un réseau de neurones. Ce n'est sûrement pas une stratégie optimale !"
   ]
  },
  {
   "cell_type": "code",
   "execution_count": 12,
   "metadata": {},
   "outputs": [],
   "source": [
    "from sklearn.model_selection import train_test_split\n",
    "X_train,X_test,z_train,z_test=train_test_split(df_train,df_sol,test_size=200,random_state=11)"
   ]
  },
  {
   "cell_type": "code",
   "execution_count": null,
   "metadata": {},
   "outputs": [
    {
     "name": "stderr",
     "output_type": "stream",
     "text": [
      "/Users/marierebiere/anaconda3/lib/python3.7/site-packages/sklearn/preprocessing/_function_transformer.py:97: FutureWarning: The default validate=True will be replaced by validate=False in 0.22.\n",
      "  \"validate=False in 0.22.\", FutureWarning)\n",
      "/Users/marierebiere/anaconda3/lib/python3.7/site-packages/sklearn/preprocessing/_function_transformer.py:97: FutureWarning: The default validate=True will be replaced by validate=False in 0.22.\n",
      "  \"validate=False in 0.22.\", FutureWarning)\n",
      "/Users/marierebiere/anaconda3/lib/python3.7/site-packages/sklearn/utils/validation.py:724: DataConversionWarning: A column-vector y was passed when a 1d array was expected. Please change the shape of y to (n_samples, ), for example using ravel().\n",
      "  y = column_or_1d(y, warn=True)\n",
      "/Users/marierebiere/anaconda3/lib/python3.7/site-packages/sklearn/ensemble/forest.py:245: FutureWarning: The default value of n_estimators will change from 10 in version 0.20 to 100 in 0.22.\n",
      "  \"10 in version 0.20 to 100 in 0.22.\", FutureWarning)\n"
     ]
    }
   ],
   "source": [
    "from sklearn.ensemble import RandomForestClassifier\n",
    "from sklearn.pipeline import make_pipeline\n",
    "from sklearn.pipeline import make_union\n",
    "from sklearn.neural_network import MLPClassifier\n",
    "from sklearn.preprocessing import FunctionTransformer\n",
    "from sklearn.decomposition import PCA\n",
    "from sklearn.feature_selection import RFE\n",
    "\n",
    "clf = make_pipeline(\n",
    "    # Build features\n",
    "    make_union(\n",
    "        FunctionTransformer(func=lambda X: X), PCA(),), \n",
    "    # Select the best features\n",
    "    RFE(RandomForestClassifier(), n_features_to_select=10),\n",
    "    # Train\n",
    "    MLPClassifier(max_iter=500)\n",
    ")\n",
    "\n",
    "clf.fit(X_train, z_train)"
   ]
  },
  {
   "cell_type": "code",
   "execution_count": null,
   "metadata": {},
   "outputs": [],
   "source": [
    "y_calcul = clf.predict_proba(X_test)\n",
    "\n",
    "1-clf.score(X_test,y_test)"
   ]
  },
  {
   "cell_type": "markdown",
   "metadata": {},
   "source": [
    "## Régression linéaire sur les composantes principales (repris du code d'Arnaud)"
   ]
  },
  {
   "cell_type": "code",
   "execution_count": 11,
   "metadata": {},
   "outputs": [],
   "source": [
    "from sklearn.model_selection import train_test_split\n",
    "X_train,X_test,z_train,z_test=train_test_split(df_train,df_sol,test_size=200,random_state=11)"
   ]
  },
  {
   "cell_type": "code",
   "execution_count": 4,
   "metadata": {},
   "outputs": [],
   "source": [
    "from sklearn import linear_model\n",
    "from sklearn.preprocessing import StandardScaler  \n",
    "# L'algorithme ds réseaux de neurones nécessite éventuellement une normalisation \n",
    "# des variables explicatives avec les commandes ci-dessous\n",
    "scaler = StandardScaler()  \n",
    "scaler.fit(X_train)  \n",
    "Xr_train = scaler.transform(X_train)  \n",
    "# Meme transformation sur le test\n",
    "Xr_test = scaler.transform(X_test)"
   ]
  },
  {
   "cell_type": "code",
   "execution_count": 9,
   "metadata": {},
   "outputs": [
    {
     "name": "stdout",
     "output_type": "stream",
     "text": [
      "MSE= 1784875.9279857238\n",
      "R2= 0.9029811383154882\n",
      "200\n"
     ]
    }
   ],
   "source": [
    "from sklearn import linear_model\n",
    "# Erreur quadratique moyenne\n",
    "\n",
    "from sklearn.metrics import mean_squared_error\n",
    "regLasso = linear_model.Lasso()\n",
    "regLasso.fit(Xr_train,z_train)\n",
    "prev=regLasso.predict(Xr_test)\n",
    "print(\"MSE=\",mean_squared_error(z_test,prev))\n",
    "from sklearn.metrics import r2_score\n",
    "print(\"R2=\",r2_score(z_test,prev))\n",
    "print(prev.size)"
   ]
  },
  {
   "cell_type": "code",
   "execution_count": null,
   "metadata": {},
   "outputs": [],
   "source": []
  }
 ],
 "metadata": {
  "kernelspec": {
   "display_name": "Python 3",
   "language": "python",
   "name": "python3"
  },
  "language_info": {
   "codemirror_mode": {
    "name": "ipython",
    "version": 3
   },
   "file_extension": ".py",
   "mimetype": "text/x-python",
   "name": "python",
   "nbconvert_exporter": "python",
   "pygments_lexer": "ipython3",
   "version": "3.7.3"
  }
 },
 "nbformat": 4,
 "nbformat_minor": 2
}
