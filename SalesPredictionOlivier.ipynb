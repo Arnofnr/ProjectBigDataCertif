{
 "cells": [
  {
   "cell_type": "markdown",
   "metadata": {},
   "source": [
    "<center>\n",
    "<a href=\"http://www.insa-toulouse.fr/\" ><img src=\"http://www.math.univ-toulouse.fr/~besse/Wikistat/Images/logo-insa.jpg\" style=\"float:left; max-width: 120px; display: inline\" alt=\"INSA\"/></a> \n",
    "\n",
    "<a href=\"http://wikistat.fr/\" ><img src=\"http://www.math.univ-toulouse.fr/~besse/Wikistat/Images/wikistat.jpg\" style=\"float:right; max-width: 250px; display: inline\"  alt=\"Wikistat\"/></a>\n",
    "\n",
    "</center>"
   ]
  },
  {
   "cell_type": "markdown",
   "metadata": {},
   "source": [
    "# <a href=\"https://www.python.org/\"><img src=\"https://upload.wikimedia.org/wikipedia/commons/thumb/f/f8/Python_logo_and_wordmark.svg/390px-Python_logo_and_wordmark.svg.png\" style=\"max-width: 200px; display: inline\" alt=\"Python\"/></a> [pour Statistique et Science des Données](https://github.com/wikistat/Intro-Python)"
   ]
  },
  {
   "cell_type": "markdown",
   "metadata": {},
   "source": [
    "# Apprentissage Statistique / Machine avec <a href=\"https://www.python.org/\"><img src=\"https://upload.wikimedia.org/wikipedia/commons/thumb/f/f8/Python_logo_and_wordmark.svg/390px-Python_logo_and_wordmark.svg.png\" style=\"max-width: 150px; display: inline\" alt=\"Python\"/></a> & <a href=\"http://scikit-learn.org/stable/#\"><img src=\"http://scikit-learn.org/stable/_static/scikit-learn-logo-small.png\" style=\"max-width: 180px; display: inline\" alt=\"Scikit-Learn\"/></a>\n",
    "**Résumé**: Ce calepin introduit l'utilisation de la librairie `scikit-learn` pour la modélisation et l'apprentissage. Pourquoi utiliser `scikit-learn` ? Ou non ? Liste des fonctionnalités, quelques exemples de mise en oeuvre de modélisation ([régression logistique](http://wikistat.fr/pdf/st-m-app-rlogit.pdf), [$k$-plus proches voisins](http://wikistat.fr/pdf/st-m-app-add.pdf), [arbres de décision](http://wikistat.fr/pdf/st-m-app-cart.pdf), [forêts aléatoires](http://wikistat.fr/pdf/st-m-app-agreg.pdf). Optimisation des paramètres (complexité) des modèles par [validation croisée](http://wikistat.fr/pdf/st-m-app-risque-estim.pdf). Fontions de chaînage (*pipeline*) de transformations et estimations. D'autres fonctionalités de `Scikit-learn` sont abordées dans les calepins du [dépot sur l'apprentissage](https://github.com/wikistat/Apprentissage) statistique. "
   ]
  },
  {
   "cell_type": "markdown",
   "metadata": {},
   "source": [
    "# <FONT COLOR=\"Red\">Première partie: Exploration</font>"
   ]
  },
  {
   "cell_type": "markdown",
   "metadata": {},
   "source": [
    "### 1. Données \"Magasins\""
   ]
  },
  {
   "cell_type": "code",
   "execution_count": 78,
   "metadata": {
    "scrolled": true
   },
   "outputs": [
    {
     "data": {
      "text/plain": [
       "ID                      int64\n",
       "Day                     int64\n",
       "Date                   object\n",
       "Number_of_Customers     int64\n",
       "Open                    int64\n",
       "Promo                   int64\n",
       "State_Holiday          object\n",
       "School_Holiday          int64\n",
       "Sales                   int64\n",
       "dtype: object"
      ]
     },
     "execution_count": 78,
     "metadata": {},
     "output_type": "execute_result"
    }
   ],
   "source": [
    "# Lire les données d'apprentissage\n",
    "import pandas as pd\n",
    "path='/home/odemoly/Documents/Certificat_BD/Second_Projet/2 - public_dat/'  # si les données sont déjà dans le répertoire courant\n",
    "# path='http://www.math.univ-toulouse.fr/~besse/Wikistat/data/'\n",
    "input_string_train = path + 'store_train.data'\n",
    "#df_train = pd.DataFrame([x.split(' ') for x in input_string_train.split('\\n')],columns=[\"ID\",\"Day\",\"Date\",\"Number_of_Customers\",\"Open\",\"Promo\",\"State_Holiday\",\"School_Holiday\"],\n",
    "                  #dtype=int)\n",
    "                  #{\"ID\":int,\"Day\":int,\"Date\":object,\"Number_of_Customers\":int,\"Open\":int,\"Promo\":int,\"State_Holiday\":int,\"School_Holiday\":int})\n",
    "df_train = pd.read_csv(input_string_train ,sep=\" \",header=None, names = [\"ID\", \"Day\", \"Date\", \"Number_of_Customers\", \"Open\", \"Promo\", \"State_Holiday\", \"School_Holiday\"])\n",
    "\n",
    "# Lire les données de test\n",
    "input_string_test = path + 'store_test.data'\n",
    "df_test = pd.read_csv(input_string_test ,sep=\" \",header=None, names = [\"ID\", \"Day\", \"Date\", \"Number_of_Customers\", \"Open\", \"Promo\", \"State_Holiday\", \"School_Holiday\"])\n",
    "\n",
    "\n",
    "\n",
    "##### solutions\n",
    "input_string_sol = path + 'store_train.solution'\n",
    "df_sol = pd.read_csv(input_string_sol ,sep=\" \",header=None, names = [\"Sales\"])\n",
    "\n",
    "\n",
    "df_full_train=pd.concat([df_train,df_sol],axis=1)\n",
    "\n",
    "df_train = df_full_train\n",
    "df_train.dtypes"
   ]
  },
  {
   "cell_type": "code",
   "execution_count": 79,
   "metadata": {},
   "outputs": [
    {
     "data": {
      "text/plain": [
       "ID                              int64\n",
       "Day                             int64\n",
       "Date                   datetime64[ns]\n",
       "Number_of_Customers             int64\n",
       "Open                             bool\n",
       "Promo                            bool\n",
       "State_Holiday                category\n",
       "School_Holiday                   bool\n",
       "Month                           int64\n",
       "dtype: object"
      ]
     },
     "execution_count": 79,
     "metadata": {},
     "output_type": "execute_result"
    }
   ],
   "source": [
    "# Redéfinir les types \n",
    "df_train[\"ID\"]=pd.DataFrame(df_train[\"ID\"], dtype=int)\n",
    "#df_train[\"Day\"]=pd.DataFrame(df_train[\"Day\"],dtype=int)\n",
    "df_train[\"Day\"]=pd.Categorical(df_train[\"Day\"],ordered=True)\n",
    "df_train[\"Date\"]=pd.DataFrame(df_train[\"Date\"],dtype=\"datetime64[ns]\")\n",
    "df_train[\"Open\"]=pd.DataFrame(df_train[\"Open\"],dtype=bool)\n",
    "df_train[\"Promo\"]=pd.DataFrame(df_train[\"Promo\"],dtype=bool)\n",
    "df_train[\"State_Holiday\"]=pd.Categorical(df_train[\"State_Holiday\"], ordered=False)\n",
    "df_train[\"School_Holiday\"]=pd.DataFrame(df_train[\"School_Holiday\"],dtype=bool)\n",
    "df_train[\"Number_of_Customers\"]=pd.DataFrame(df_train[\"Number_of_Customers\"],dtype=int)\n",
    "df_train[\"Sales\"]=pd.DataFrame(df_train[\"Sales\"],dtype=int)\n",
    "df_train['Month'] = df_train['Date'].map(lambda d: d.month)\n",
    "df_train[\"Month\"]=pd.DataFrame(df_train[\"Month\"],dtype=int)\n",
    "\n",
    "\n",
    "# Redéfinir les types \n",
    "df_test[\"ID\"]=pd.DataFrame(df_test[\"ID\"],dtype=int)\n",
    "df_test[\"Day\"]=pd.DataFrame(df_test[\"Day\"],dtype=int)\n",
    "df_test[\"Date\"]=pd.DataFrame(df_test[\"Date\"],dtype=\"datetime64[ns]\")\n",
    "df_test[\"Open\"]=pd.DataFrame(df_test[\"Open\"],dtype=bool)\n",
    "df_test[\"Promo\"]=pd.DataFrame(df_test[\"Promo\"],dtype=bool)\n",
    "df_test[\"State_Holiday\"]=pd.Categorical(df_test[\"State_Holiday\"],ordered=False)\n",
    "df_test[\"School_Holiday\"]=pd.DataFrame(df_test[\"School_Holiday\"],dtype=bool)\n",
    "df_test[\"Number_of_Customers\"]=pd.DataFrame(df_test[\"Number_of_Customers\"],dtype=int)\n",
    "df_test['Month'] = df_test['Date'].map(lambda d: d.month)\n",
    "df_test[\"Month\"]=pd.DataFrame(df_test[\"Month\"],dtype=int)\n",
    "df_test.dtypes"
   ]
  },
  {
   "cell_type": "code",
   "execution_count": 80,
   "metadata": {},
   "outputs": [],
   "source": [
    "# imputation des valeurs manquantes\n",
    "#df[\"Age\"]=df[\"Age\"].fillna(df[\"Age\"].median())\n",
    "#df.Port=df[\"Port\"].fillna(\"S\")\n",
    "df_train[\"State_Holiday\"] = df_train[\"State_Holiday\"].fillna(\"0\")\n",
    "df_train[\"School_Holiday\"] = df_train[\"School_Holiday\"].fillna(False)\n",
    "df_train[\"Open\"] = df_train[\"Open\"].fillna(False)\n",
    "df_train[\"Promo\"] = df_train[\"Promo\"].fillna(False)\n",
    "df_train[\"Number_of_Customers\"] = df_train[\"Number_of_Customers\"].fillna(\"0\")\n",
    "#df_train[\"Day\"] = df_train[\"Day\"].fillna(\"1\")\n",
    "#df_train[\"ID\"] = df_train[\"ID\"].replace(to_replace=\"\",value='0')\n",
    "\n",
    "df_test[\"State_Holiday\"] = df_test[\"State_Holiday\"].fillna(\"0\")\n",
    "df_test[\"School_Holiday\"] = df_test[\"School_Holiday\"].fillna(False)\n",
    "df_test[\"Open\"] = df_test[\"Open\"].fillna(False)\n",
    "df_test[\"Promo\"] = df_test[\"Promo\"].fillna(False)\n",
    "df_test[\"Number_of_Customers\"] = df_test[\"Number_of_Customers\"].fillna(\"0\")\n",
    "#df_test[\"Day\"] = df_test[\"Day\"].fillna(\"1\")\n",
    "#df_test[\"ID\"] = df_test[\"ID\"].replace(to_replace=\"\",value='0')"
   ]
  },
  {
   "cell_type": "code",
   "execution_count": 81,
   "metadata": {},
   "outputs": [
    {
     "data": {
      "text/html": [
       "<div>\n",
       "<style scoped>\n",
       "    .dataframe tbody tr th:only-of-type {\n",
       "        vertical-align: middle;\n",
       "    }\n",
       "\n",
       "    .dataframe tbody tr th {\n",
       "        vertical-align: top;\n",
       "    }\n",
       "\n",
       "    .dataframe thead th {\n",
       "        text-align: right;\n",
       "    }\n",
       "</style>\n",
       "<table border=\"1\" class=\"dataframe\">\n",
       "  <thead>\n",
       "    <tr style=\"text-align: right;\">\n",
       "      <th></th>\n",
       "      <th>ID</th>\n",
       "      <th>Day</th>\n",
       "      <th>Date</th>\n",
       "      <th>Number_of_Customers</th>\n",
       "      <th>Open</th>\n",
       "      <th>Promo</th>\n",
       "      <th>State_Holiday</th>\n",
       "      <th>School_Holiday</th>\n",
       "      <th>Sales</th>\n",
       "      <th>Month</th>\n",
       "    </tr>\n",
       "  </thead>\n",
       "  <tbody>\n",
       "    <tr>\n",
       "      <th>0</th>\n",
       "      <td>625</td>\n",
       "      <td>D3</td>\n",
       "      <td>2013-11-06</td>\n",
       "      <td>641</td>\n",
       "      <td>True</td>\n",
       "      <td>True</td>\n",
       "      <td>StateHnon</td>\n",
       "      <td>False</td>\n",
       "      <td>7293</td>\n",
       "      <td>11</td>\n",
       "    </tr>\n",
       "    <tr>\n",
       "      <th>1</th>\n",
       "      <td>293</td>\n",
       "      <td>D2</td>\n",
       "      <td>2013-07-16</td>\n",
       "      <td>877</td>\n",
       "      <td>True</td>\n",
       "      <td>True</td>\n",
       "      <td>StateHnon</td>\n",
       "      <td>True</td>\n",
       "      <td>7060</td>\n",
       "      <td>7</td>\n",
       "    </tr>\n",
       "    <tr>\n",
       "      <th>2</th>\n",
       "      <td>39</td>\n",
       "      <td>D4</td>\n",
       "      <td>2014-01-23</td>\n",
       "      <td>561</td>\n",
       "      <td>True</td>\n",
       "      <td>True</td>\n",
       "      <td>StateHnon</td>\n",
       "      <td>False</td>\n",
       "      <td>4565</td>\n",
       "      <td>1</td>\n",
       "    </tr>\n",
       "    <tr>\n",
       "      <th>3</th>\n",
       "      <td>676</td>\n",
       "      <td>D4</td>\n",
       "      <td>2013-09-26</td>\n",
       "      <td>1584</td>\n",
       "      <td>True</td>\n",
       "      <td>True</td>\n",
       "      <td>StateHnon</td>\n",
       "      <td>False</td>\n",
       "      <td>6380</td>\n",
       "      <td>9</td>\n",
       "    </tr>\n",
       "    <tr>\n",
       "      <th>4</th>\n",
       "      <td>709</td>\n",
       "      <td>D3</td>\n",
       "      <td>2014-01-22</td>\n",
       "      <td>1477</td>\n",
       "      <td>True</td>\n",
       "      <td>True</td>\n",
       "      <td>StateHnon</td>\n",
       "      <td>False</td>\n",
       "      <td>11647</td>\n",
       "      <td>1</td>\n",
       "    </tr>\n",
       "  </tbody>\n",
       "</table>\n",
       "</div>"
      ],
      "text/plain": [
       "    ID Day       Date  Number_of_Customers  Open  Promo State_Holiday  \\\n",
       "0  625  D3 2013-11-06                  641  True   True     StateHnon   \n",
       "1  293  D2 2013-07-16                  877  True   True     StateHnon   \n",
       "2   39  D4 2014-01-23                  561  True   True     StateHnon   \n",
       "3  676  D4 2013-09-26                 1584  True   True     StateHnon   \n",
       "4  709  D3 2014-01-22                 1477  True   True     StateHnon   \n",
       "\n",
       "   School_Holiday  Sales  Month  \n",
       "0           False   7293     11  \n",
       "1            True   7060      7  \n",
       "2           False   4565      1  \n",
       "3           False   6380      9  \n",
       "4           False  11647      1  "
      ]
     },
     "execution_count": 81,
     "metadata": {},
     "output_type": "execute_result"
    }
   ],
   "source": [
    "# Discrétiser les variables quantitatives\n",
    "#df[\"AgeQ\"]=pd.qcut(df.Age,3,labels=[\"Ag1\",\"Ag2\",\"Ag3\"])\n",
    "#df[\"PrixQ\"]=pd.qcut(df.Prix,3,labels=[\"Pr1\",\"Pr2\",\"Pr3\"])\n",
    "# redéfinir les noms des modalités \n",
    "#df_train[\"Open\"]=df_train[\"Open\"].cat.rename_categories([\"Onon\",\"Ooui\"])\n",
    "#df_train[\"Promo\"]=df_train[\"Promo\"].cat.rename_categories([\"Pnon\",\"Poui\"])\n",
    "df_train[\"State_Holiday\"]=df_train[\"State_Holiday\"].cat.rename_categories([\"StateHnon\",\"StateHc\",\"StateHa\",\"StateHb\"])\n",
    "df_train[\"Day\"]=df_train[\"Day\"].cat.rename_categories([\"D1\",\"D2\",\"D3\",\"D4\",\"D5\",\"D6\",\"D7\"])\n",
    "\n",
    "#df_train[\"School_Holiday\"]=df_train[\"School_Holiday\"].cat.rename_categories([\"SchoolHnon\",\"SchoolHoui\"])\n",
    "#df_train.head()\n",
    "\n",
    "# redéfinir les noms des modalités \n",
    "#df_test[\"Open\"]=df_test[\"Open\"].cat.rename_categories([\"Onon\",\"Ooui\"])\n",
    "#df_test[\"Promo\"]=df_test[\"Promo\"].cat.rename_categories([\"Pnon\",\"Poui\"])\n",
    "df_test[\"State_Holiday\"]=df_test[\"State_Holiday\"].cat.rename_categories([\"StateHnon\",\"StateHc\",\"StateHa\",\"StateHb\"])\n",
    "#df_test[\"School_Holiday\"]=df_test[\"School_Holiday\"].cat.rename_categories([\"SchoolHnon\",\"SchoolHoui\"])\n",
    "#df_test.head()\n",
    "\n",
    "df_train.head(5)"
   ]
  },
  {
   "cell_type": "markdown",
   "metadata": {},
   "source": [
    "Il est nécessaire de transformer les données car `scikit-learn` ne reconnaît pas la classe `DataFrame` de `pandas`, ce qui est bien dommage. Les variables qualitatives sont comme précédemment remplacées par les indicatrices de leurs modalités et les variables quantitatives conservées. Cela introduit une évidente redondance dans les données mais les procédures de sélection de modèle feront le tri."
   ]
  },
  {
   "cell_type": "code",
   "execution_count": 82,
   "metadata": {},
   "outputs": [
    {
     "data": {
      "text/html": [
       "<div>\n",
       "<style scoped>\n",
       "    .dataframe tbody tr th:only-of-type {\n",
       "        vertical-align: middle;\n",
       "    }\n",
       "\n",
       "    .dataframe tbody tr th {\n",
       "        vertical-align: top;\n",
       "    }\n",
       "\n",
       "    .dataframe thead th {\n",
       "        text-align: right;\n",
       "    }\n",
       "</style>\n",
       "<table border=\"1\" class=\"dataframe\">\n",
       "  <thead>\n",
       "    <tr style=\"text-align: right;\">\n",
       "      <th></th>\n",
       "      <th>ID</th>\n",
       "      <th>Open</th>\n",
       "      <th>Promo</th>\n",
       "      <th>Number_of_Customers</th>\n",
       "      <th>School_Holiday</th>\n",
       "      <th>Sales</th>\n",
       "      <th>Day_D1</th>\n",
       "      <th>Day_D2</th>\n",
       "      <th>Day_D3</th>\n",
       "      <th>Day_D4</th>\n",
       "      <th>Day_D5</th>\n",
       "      <th>Day_D6</th>\n",
       "      <th>Day_D7</th>\n",
       "      <th>State_Holiday_StateHnon</th>\n",
       "      <th>State_Holiday_StateHc</th>\n",
       "      <th>State_Holiday_StateHa</th>\n",
       "      <th>State_Holiday_StateHb</th>\n",
       "    </tr>\n",
       "  </thead>\n",
       "  <tbody>\n",
       "    <tr>\n",
       "      <th>0</th>\n",
       "      <td>625</td>\n",
       "      <td>True</td>\n",
       "      <td>True</td>\n",
       "      <td>641</td>\n",
       "      <td>False</td>\n",
       "      <td>7293</td>\n",
       "      <td>False</td>\n",
       "      <td>False</td>\n",
       "      <td>True</td>\n",
       "      <td>False</td>\n",
       "      <td>False</td>\n",
       "      <td>False</td>\n",
       "      <td>False</td>\n",
       "      <td>True</td>\n",
       "      <td>False</td>\n",
       "      <td>False</td>\n",
       "      <td>False</td>\n",
       "    </tr>\n",
       "    <tr>\n",
       "      <th>1</th>\n",
       "      <td>293</td>\n",
       "      <td>True</td>\n",
       "      <td>True</td>\n",
       "      <td>877</td>\n",
       "      <td>True</td>\n",
       "      <td>7060</td>\n",
       "      <td>False</td>\n",
       "      <td>True</td>\n",
       "      <td>False</td>\n",
       "      <td>False</td>\n",
       "      <td>False</td>\n",
       "      <td>False</td>\n",
       "      <td>False</td>\n",
       "      <td>True</td>\n",
       "      <td>False</td>\n",
       "      <td>False</td>\n",
       "      <td>False</td>\n",
       "    </tr>\n",
       "    <tr>\n",
       "      <th>2</th>\n",
       "      <td>39</td>\n",
       "      <td>True</td>\n",
       "      <td>True</td>\n",
       "      <td>561</td>\n",
       "      <td>False</td>\n",
       "      <td>4565</td>\n",
       "      <td>False</td>\n",
       "      <td>False</td>\n",
       "      <td>False</td>\n",
       "      <td>True</td>\n",
       "      <td>False</td>\n",
       "      <td>False</td>\n",
       "      <td>False</td>\n",
       "      <td>True</td>\n",
       "      <td>False</td>\n",
       "      <td>False</td>\n",
       "      <td>False</td>\n",
       "    </tr>\n",
       "    <tr>\n",
       "      <th>3</th>\n",
       "      <td>676</td>\n",
       "      <td>True</td>\n",
       "      <td>True</td>\n",
       "      <td>1584</td>\n",
       "      <td>False</td>\n",
       "      <td>6380</td>\n",
       "      <td>False</td>\n",
       "      <td>False</td>\n",
       "      <td>False</td>\n",
       "      <td>True</td>\n",
       "      <td>False</td>\n",
       "      <td>False</td>\n",
       "      <td>False</td>\n",
       "      <td>True</td>\n",
       "      <td>False</td>\n",
       "      <td>False</td>\n",
       "      <td>False</td>\n",
       "    </tr>\n",
       "    <tr>\n",
       "      <th>4</th>\n",
       "      <td>709</td>\n",
       "      <td>True</td>\n",
       "      <td>True</td>\n",
       "      <td>1477</td>\n",
       "      <td>False</td>\n",
       "      <td>11647</td>\n",
       "      <td>False</td>\n",
       "      <td>False</td>\n",
       "      <td>True</td>\n",
       "      <td>False</td>\n",
       "      <td>False</td>\n",
       "      <td>False</td>\n",
       "      <td>False</td>\n",
       "      <td>True</td>\n",
       "      <td>False</td>\n",
       "      <td>False</td>\n",
       "      <td>False</td>\n",
       "    </tr>\n",
       "    <tr>\n",
       "      <th>...</th>\n",
       "      <td>...</td>\n",
       "      <td>...</td>\n",
       "      <td>...</td>\n",
       "      <td>...</td>\n",
       "      <td>...</td>\n",
       "      <td>...</td>\n",
       "      <td>...</td>\n",
       "      <td>...</td>\n",
       "      <td>...</td>\n",
       "      <td>...</td>\n",
       "      <td>...</td>\n",
       "      <td>...</td>\n",
       "      <td>...</td>\n",
       "      <td>...</td>\n",
       "      <td>...</td>\n",
       "      <td>...</td>\n",
       "      <td>...</td>\n",
       "    </tr>\n",
       "    <tr>\n",
       "      <th>712040</th>\n",
       "      <td>674</td>\n",
       "      <td>True</td>\n",
       "      <td>False</td>\n",
       "      <td>611</td>\n",
       "      <td>False</td>\n",
       "      <td>4702</td>\n",
       "      <td>False</td>\n",
       "      <td>False</td>\n",
       "      <td>False</td>\n",
       "      <td>False</td>\n",
       "      <td>False</td>\n",
       "      <td>True</td>\n",
       "      <td>False</td>\n",
       "      <td>True</td>\n",
       "      <td>False</td>\n",
       "      <td>False</td>\n",
       "      <td>False</td>\n",
       "    </tr>\n",
       "    <tr>\n",
       "      <th>712041</th>\n",
       "      <td>1014</td>\n",
       "      <td>True</td>\n",
       "      <td>True</td>\n",
       "      <td>1267</td>\n",
       "      <td>False</td>\n",
       "      <td>12545</td>\n",
       "      <td>False</td>\n",
       "      <td>False</td>\n",
       "      <td>False</td>\n",
       "      <td>True</td>\n",
       "      <td>False</td>\n",
       "      <td>False</td>\n",
       "      <td>False</td>\n",
       "      <td>True</td>\n",
       "      <td>False</td>\n",
       "      <td>False</td>\n",
       "      <td>False</td>\n",
       "    </tr>\n",
       "    <tr>\n",
       "      <th>712042</th>\n",
       "      <td>135</td>\n",
       "      <td>True</td>\n",
       "      <td>False</td>\n",
       "      <td>595</td>\n",
       "      <td>False</td>\n",
       "      <td>5823</td>\n",
       "      <td>False</td>\n",
       "      <td>False</td>\n",
       "      <td>False</td>\n",
       "      <td>False</td>\n",
       "      <td>False</td>\n",
       "      <td>True</td>\n",
       "      <td>False</td>\n",
       "      <td>True</td>\n",
       "      <td>False</td>\n",
       "      <td>False</td>\n",
       "      <td>False</td>\n",
       "    </tr>\n",
       "    <tr>\n",
       "      <th>712043</th>\n",
       "      <td>810</td>\n",
       "      <td>True</td>\n",
       "      <td>True</td>\n",
       "      <td>599</td>\n",
       "      <td>True</td>\n",
       "      <td>7986</td>\n",
       "      <td>True</td>\n",
       "      <td>False</td>\n",
       "      <td>False</td>\n",
       "      <td>False</td>\n",
       "      <td>False</td>\n",
       "      <td>False</td>\n",
       "      <td>False</td>\n",
       "      <td>True</td>\n",
       "      <td>False</td>\n",
       "      <td>False</td>\n",
       "      <td>False</td>\n",
       "    </tr>\n",
       "    <tr>\n",
       "      <th>712044</th>\n",
       "      <td>592</td>\n",
       "      <td>True</td>\n",
       "      <td>True</td>\n",
       "      <td>798</td>\n",
       "      <td>False</td>\n",
       "      <td>6565</td>\n",
       "      <td>True</td>\n",
       "      <td>False</td>\n",
       "      <td>False</td>\n",
       "      <td>False</td>\n",
       "      <td>False</td>\n",
       "      <td>False</td>\n",
       "      <td>False</td>\n",
       "      <td>True</td>\n",
       "      <td>False</td>\n",
       "      <td>False</td>\n",
       "      <td>False</td>\n",
       "    </tr>\n",
       "  </tbody>\n",
       "</table>\n",
       "<p>712045 rows × 17 columns</p>\n",
       "</div>"
      ],
      "text/plain": [
       "          ID  Open  Promo  Number_of_Customers  School_Holiday  Sales  Day_D1  \\\n",
       "0        625  True   True                  641           False   7293   False   \n",
       "1        293  True   True                  877            True   7060   False   \n",
       "2         39  True   True                  561           False   4565   False   \n",
       "3        676  True   True                 1584           False   6380   False   \n",
       "4        709  True   True                 1477           False  11647   False   \n",
       "...      ...   ...    ...                  ...             ...    ...     ...   \n",
       "712040   674  True  False                  611           False   4702   False   \n",
       "712041  1014  True   True                 1267           False  12545   False   \n",
       "712042   135  True  False                  595           False   5823   False   \n",
       "712043   810  True   True                  599            True   7986    True   \n",
       "712044   592  True   True                  798           False   6565    True   \n",
       "\n",
       "        Day_D2  Day_D3  Day_D4  Day_D5  Day_D6  Day_D7  \\\n",
       "0        False    True   False   False   False   False   \n",
       "1         True   False   False   False   False   False   \n",
       "2        False   False    True   False   False   False   \n",
       "3        False   False    True   False   False   False   \n",
       "4        False    True   False   False   False   False   \n",
       "...        ...     ...     ...     ...     ...     ...   \n",
       "712040   False   False   False   False    True   False   \n",
       "712041   False   False    True   False   False   False   \n",
       "712042   False   False   False   False    True   False   \n",
       "712043   False   False   False   False   False   False   \n",
       "712044   False   False   False   False   False   False   \n",
       "\n",
       "        State_Holiday_StateHnon  State_Holiday_StateHc  State_Holiday_StateHa  \\\n",
       "0                          True                  False                  False   \n",
       "1                          True                  False                  False   \n",
       "2                          True                  False                  False   \n",
       "3                          True                  False                  False   \n",
       "4                          True                  False                  False   \n",
       "...                         ...                    ...                    ...   \n",
       "712040                     True                  False                  False   \n",
       "712041                     True                  False                  False   \n",
       "712042                     True                  False                  False   \n",
       "712043                     True                  False                  False   \n",
       "712044                     True                  False                  False   \n",
       "\n",
       "        State_Holiday_StateHb  \n",
       "0                       False  \n",
       "1                       False  \n",
       "2                       False  \n",
       "3                       False  \n",
       "4                       False  \n",
       "...                       ...  \n",
       "712040                  False  \n",
       "712041                  False  \n",
       "712042                  False  \n",
       "712043                  False  \n",
       "712044                  False  \n",
       "\n",
       "[712045 rows x 17 columns]"
      ]
     },
     "execution_count": 82,
     "metadata": {},
     "output_type": "execute_result"
    }
   ],
   "source": [
    "# Construction des indicatrices\n",
    "#df_q=df.drop([\"Age\",\"Prix\"],axis=1)\n",
    "#df_q.head()\n",
    "# Indicatrices\n",
    "dc_train=pd.DataFrame(pd.get_dummies(df_train[[\"ID\",\"Day\",\"Open\",\"Promo\",\"Number_of_Customers\",\"State_Holiday\",\"School_Holiday\",\"Sales\"]]))\n",
    "dc_train[\"State_Holiday_StateHnon\"]=pd.DataFrame(dc_train[\"State_Holiday_StateHnon\"],dtype=bool)\n",
    "dc_train[\"State_Holiday_StateHc\"]=pd.DataFrame(dc_train[\"State_Holiday_StateHc\"],dtype=bool)\n",
    "dc_train[\"State_Holiday_StateHa\"]=pd.DataFrame(dc_train[\"State_Holiday_StateHa\"],dtype=bool)\n",
    "dc_train[\"State_Holiday_StateHb\"]=pd.DataFrame(dc_train[\"State_Holiday_StateHb\"],dtype=bool)\n",
    "dc_train[\"Day_D1\"]=pd.DataFrame(dc_train[\"Day_D1\"],dtype=bool)\n",
    "dc_train[\"Day_D2\"]=pd.DataFrame(dc_train[\"Day_D2\"],dtype=bool)\n",
    "dc_train[\"Day_D3\"]=pd.DataFrame(dc_train[\"Day_D3\"],dtype=bool)\n",
    "dc_train[\"Day_D4\"]=pd.DataFrame(dc_train[\"Day_D4\"],dtype=bool)\n",
    "dc_train[\"Day_D5\"]=pd.DataFrame(dc_train[\"Day_D5\"],dtype=bool)\n",
    "dc_train[\"Day_D6\"]=pd.DataFrame(dc_train[\"Day_D6\"],dtype=bool)\n",
    "dc_train[\"Day_D7\"]=pd.DataFrame(dc_train[\"Day_D7\"],dtype=bool)\n",
    "# Indicatrices\n",
    "dc_test=pd.DataFrame(pd.get_dummies(df_test[[\"ID\",\"Day\",\"Open\",\"Promo\",\"State_Holiday\",\"School_Holiday\"]]))\n",
    "dc_test[\"State_Holiday_StateHnon\"]=pd.DataFrame(dc_train[\"State_Holiday_StateHnon\"],dtype=bool)\n",
    "dc_test[\"State_Holiday_StateHc\"]=pd.DataFrame(dc_train[\"State_Holiday_StateHc\"],dtype=bool)\n",
    "dc_test[\"State_Holiday_StateHa\"]=pd.DataFrame(dc_train[\"State_Holiday_StateHa\"],dtype=bool)\n",
    "dc_test[\"State_Holiday_StateHb\"]=pd.DataFrame(dc_train[\"State_Holiday_StateHb\"],dtype=bool)\n",
    "\n",
    "dc_train\n"
   ]
  },
  {
   "cell_type": "code",
   "execution_count": 92,
   "metadata": {},
   "outputs": [
    {
     "data": {
      "text/html": [
       "<div>\n",
       "<style scoped>\n",
       "    .dataframe tbody tr th:only-of-type {\n",
       "        vertical-align: middle;\n",
       "    }\n",
       "\n",
       "    .dataframe tbody tr th {\n",
       "        vertical-align: top;\n",
       "    }\n",
       "\n",
       "    .dataframe thead th {\n",
       "        text-align: right;\n",
       "    }\n",
       "</style>\n",
       "<table border=\"1\" class=\"dataframe\">\n",
       "  <thead>\n",
       "    <tr style=\"text-align: right;\">\n",
       "      <th></th>\n",
       "      <th>ID</th>\n",
       "      <th>Day_D1</th>\n",
       "      <th>Day_D2</th>\n",
       "      <th>Day_D3</th>\n",
       "      <th>Day_D4</th>\n",
       "      <th>Day_D5</th>\n",
       "      <th>Day_D6</th>\n",
       "      <th>Day_D7</th>\n",
       "      <th>Open</th>\n",
       "      <th>Promo</th>\n",
       "      <th>Number_of_Customers</th>\n",
       "      <th>State_Holiday_StateHnon</th>\n",
       "      <th>State_Holiday_StateHa</th>\n",
       "      <th>State_Holiday_StateHb</th>\n",
       "      <th>State_Holiday_StateHc</th>\n",
       "      <th>School_Holiday</th>\n",
       "    </tr>\n",
       "  </thead>\n",
       "  <tbody>\n",
       "    <tr>\n",
       "      <th>0</th>\n",
       "      <td>625</td>\n",
       "      <td>False</td>\n",
       "      <td>False</td>\n",
       "      <td>True</td>\n",
       "      <td>False</td>\n",
       "      <td>False</td>\n",
       "      <td>False</td>\n",
       "      <td>False</td>\n",
       "      <td>True</td>\n",
       "      <td>True</td>\n",
       "      <td>641</td>\n",
       "      <td>True</td>\n",
       "      <td>False</td>\n",
       "      <td>False</td>\n",
       "      <td>False</td>\n",
       "      <td>False</td>\n",
       "    </tr>\n",
       "    <tr>\n",
       "      <th>1</th>\n",
       "      <td>293</td>\n",
       "      <td>False</td>\n",
       "      <td>True</td>\n",
       "      <td>False</td>\n",
       "      <td>False</td>\n",
       "      <td>False</td>\n",
       "      <td>False</td>\n",
       "      <td>False</td>\n",
       "      <td>True</td>\n",
       "      <td>True</td>\n",
       "      <td>877</td>\n",
       "      <td>True</td>\n",
       "      <td>False</td>\n",
       "      <td>False</td>\n",
       "      <td>False</td>\n",
       "      <td>True</td>\n",
       "    </tr>\n",
       "    <tr>\n",
       "      <th>2</th>\n",
       "      <td>39</td>\n",
       "      <td>False</td>\n",
       "      <td>False</td>\n",
       "      <td>False</td>\n",
       "      <td>True</td>\n",
       "      <td>False</td>\n",
       "      <td>False</td>\n",
       "      <td>False</td>\n",
       "      <td>True</td>\n",
       "      <td>True</td>\n",
       "      <td>561</td>\n",
       "      <td>True</td>\n",
       "      <td>False</td>\n",
       "      <td>False</td>\n",
       "      <td>False</td>\n",
       "      <td>False</td>\n",
       "    </tr>\n",
       "    <tr>\n",
       "      <th>3</th>\n",
       "      <td>676</td>\n",
       "      <td>False</td>\n",
       "      <td>False</td>\n",
       "      <td>False</td>\n",
       "      <td>True</td>\n",
       "      <td>False</td>\n",
       "      <td>False</td>\n",
       "      <td>False</td>\n",
       "      <td>True</td>\n",
       "      <td>True</td>\n",
       "      <td>1584</td>\n",
       "      <td>True</td>\n",
       "      <td>False</td>\n",
       "      <td>False</td>\n",
       "      <td>False</td>\n",
       "      <td>False</td>\n",
       "    </tr>\n",
       "    <tr>\n",
       "      <th>4</th>\n",
       "      <td>709</td>\n",
       "      <td>False</td>\n",
       "      <td>False</td>\n",
       "      <td>True</td>\n",
       "      <td>False</td>\n",
       "      <td>False</td>\n",
       "      <td>False</td>\n",
       "      <td>False</td>\n",
       "      <td>True</td>\n",
       "      <td>True</td>\n",
       "      <td>1477</td>\n",
       "      <td>True</td>\n",
       "      <td>False</td>\n",
       "      <td>False</td>\n",
       "      <td>False</td>\n",
       "      <td>False</td>\n",
       "    </tr>\n",
       "  </tbody>\n",
       "</table>\n",
       "</div>"
      ],
      "text/plain": [
       "    ID  Day_D1  Day_D2  Day_D3  Day_D4  Day_D5  Day_D6  Day_D7  Open  Promo  \\\n",
       "0  625   False   False    True   False   False   False   False  True   True   \n",
       "1  293   False    True   False   False   False   False   False  True   True   \n",
       "2   39   False   False   False    True   False   False   False  True   True   \n",
       "3  676   False   False   False    True   False   False   False  True   True   \n",
       "4  709   False   False    True   False   False   False   False  True   True   \n",
       "\n",
       "   Number_of_Customers  State_Holiday_StateHnon  State_Holiday_StateHa  \\\n",
       "0                  641                     True                  False   \n",
       "1                  877                     True                  False   \n",
       "2                  561                     True                  False   \n",
       "3                 1584                     True                  False   \n",
       "4                 1477                     True                  False   \n",
       "\n",
       "   State_Holiday_StateHb  State_Holiday_StateHc  School_Holiday  \n",
       "0                  False                  False           False  \n",
       "1                  False                  False            True  \n",
       "2                  False                  False           False  \n",
       "3                  False                  False           False  \n",
       "4                  False                  False           False  "
      ]
     },
     "execution_count": 92,
     "metadata": {},
     "output_type": "execute_result"
    }
   ],
   "source": [
    "# Table des indicatrices\n",
    "#df1=pd.get_dummies(df_q[[\"Surv\",\"Classe\",\"Genre\",\"Port\",\"AgeQ\",\"PrixQ\"]])\n",
    "# Une seule indicatrice par variable binaire\n",
    "#df1_train=dc_train.drop([\"Open_Onon\",\"Promo_Pnon\",\"School_Holiday_SchoolHnon\"],axis=1)\n",
    "# Variables quantitatives\n",
    "#df2_train=df_train[[\"ID\",\"Day\",\"Number_of_Customers\"]]\n",
    "# Concaténation\n",
    "#df_c_train=pd.concat([df2_train,df1_train],axis=1)\n",
    "# Vérification\n",
    "#df_c_train.head()\n",
    "T_train = dc_train[[\"ID\",\"Day_D1\",\"Day_D2\",\"Day_D3\",\"Day_D4\",\"Day_D5\",\"Day_D6\",\"Day_D7\",\"Open\",\"Promo\",\"Number_of_Customers\",\"State_Holiday_StateHnon\",\"State_Holiday_StateHa\",\"State_Holiday_StateHb\",\"State_Holiday_StateHc\",\"School_Holiday\"]]\n",
    "z_train = dc_train[[\"Sales\"]]\n",
    "# Une seule indicatrice par variable binaire\n",
    "#df1_test=dc_test.drop([\"Open_Onon\",\"Promo_Pnon\",\"School_Holiday_SchoolHnon\"],axis=1)\n",
    "# Variables quantitatives\n",
    "#df2_test=df_test[[\"ID\",\"Day\",\"Number_of_Customers\"]]\n",
    "# Concaténation\n",
    "#df_c_test=pd.concat([df2_test,df1_test],axis=1)\n",
    "# Vérification\n",
    "#df_c_test.head()\n",
    "T_test = dc_test\n",
    "\n",
    "T_train.head()"
   ]
  },
  {
   "cell_type": "markdown",
   "metadata": {},
   "source": [
    "Extraction des échantillons d'apprentissage et test."
   ]
  },
  {
   "cell_type": "code",
   "execution_count": 93,
   "metadata": {},
   "outputs": [
    {
     "data": {
      "image/png": "[encoded data removed]",
      "text/plain": [
       "<Figure size 432x288 with 1 Axes>"
      ]
     },
     "metadata": {
      "needs_background": "light"
     },
     "output_type": "display_data"
    }
   ],
   "source": [
    "from sklearn.decomposition import PCA\n",
    "from sklearn.preprocessing import scale\n",
    "import matplotlib.pyplot as plt\n",
    "import numpy as np\n",
    "\n",
    "X = scale(pd.concat([T_train,z_train],axis=1))\n",
    "\n",
    "pca = PCA()\n",
    "## Estimation, calcul des composantes principales\n",
    "C = pca.fit(X).transform(X)\n",
    "## Décroissance de la variance expliquée\n",
    "plt.plot(pca.explained_variance_ratio_)\n",
    "plt.show()"
   ]
  },
  {
   "cell_type": "code",
   "execution_count": 94,
   "metadata": {},
   "outputs": [
    {
     "data": {
      "image/png": "[encoded data removed]",
      "text/plain": [
       "<Figure size 360x360 with 1 Axes>"
      ]
     },
     "metadata": {
      "needs_background": "light"
     },
     "output_type": "display_data"
    }
   ],
   "source": [
    "## coordonnées et représentation des variables\n",
    "coord1=pca.components_[0]*np.sqrt(pca.explained_variance_[0])\n",
    "coord2=pca.components_[1]*np.sqrt(pca.explained_variance_[1])\n",
    "fig = plt.figure(figsize=(5,5))\n",
    "ax = fig.add_subplot(1, 1, 1)\n",
    "for i, j, nom in zip(coord1,coord2, pd.concat([T_train,z_train],axis=1).columns):\n",
    "    plt.text(i, j, nom)\n",
    "    plt.arrow(0,0,i,j,color='black')\n",
    "plt.axis((-1.2,1.2,-1.2,1.2))\n",
    "# cercle\n",
    "c=plt.Circle((0,0), radius=1, color='gray', fill=False)\n",
    "ax.add_patch(c)\n",
    "plt.show()"
   ]
  },
  {
   "cell_type": "markdown",
   "metadata": {},
   "source": [
    "On peut voir que quelquesoit la période de vacances a, b ou c, la direction des variables dans le plan principal est la même donc on la regroupe sous un boolean. De même, la variable ID ne represente aucune variance."
   ]
  },
  {
   "cell_type": "code",
   "execution_count": 96,
   "metadata": {},
   "outputs": [
    {
     "data": {
      "image/png": "[encoded data removed]",
      "text/plain": [
       "<Figure size 432x288 with 1 Axes>"
      ]
     },
     "metadata": {
      "needs_background": "light"
     },
     "output_type": "display_data"
    }
   ],
   "source": [
    "T_train = T_train[[\"Day_D1\",\"Day_D6\",\"Day_D7\",\"Open\",\"Promo\",\"State_Holiday_StateHnon\",\"School_Holiday\"]]\n",
    "#z_train ne change pas\n",
    "X = scale(pd.concat([T_train,z_train],axis=1))\n",
    "\n",
    "#pca = PCA()\n",
    "## Estimation, calcul des composantes principales\n",
    "C = pca.fit(X).transform(X)\n",
    "## Décroissance de la variance expliquée\n",
    "plt.plot(pca.explained_variance_ratio_)\n",
    "plt.show()"
   ]
  },
  {
   "cell_type": "code",
   "execution_count": 97,
   "metadata": {},
   "outputs": [
    {
     "data": {
      "image/png": "[encoded data removed]",
      "text/plain": [
       "<Figure size 360x360 with 1 Axes>"
      ]
     },
     "metadata": {
      "needs_background": "light"
     },
     "output_type": "display_data"
    }
   ],
   "source": [
    "## coordonnées et représentation des variables\n",
    "coord1=pca.components_[0]*np.sqrt(pca.explained_variance_[0])\n",
    "coord2=pca.components_[1]*np.sqrt(pca.explained_variance_[1])\n",
    "fig = plt.figure(figsize=(5,5))\n",
    "ax = fig.add_subplot(1, 1, 1)\n",
    "for i, j, nom in zip(coord1,coord2, pd.concat([T_train,z_train],axis=1).columns):\n",
    "    plt.text(i, j, nom)\n",
    "    plt.arrow(0,0,i,j,color='black')\n",
    "plt.axis((-1.2,1.2,-1.2,1.2))\n",
    "# cercle\n",
    "c=plt.Circle((0,0), radius=1, color='gray', fill=False)\n",
    "ax.add_patch(c)\n",
    "plt.show()"
   ]
  },
  {
   "cell_type": "markdown",
   "metadata": {},
   "source": [
    "Cela a permis également de mieux représenter la variable School_Holiday.\n",
    "On regarde maintenant si on peut encore regrouper nos points selon 2 groupes, représentés dans le plan principal"
   ]
  },
  {
   "cell_type": "markdown",
   "metadata": {},
   "source": [
    "### AFD"
   ]
  },
  {
   "cell_type": "code",
   "execution_count": 48,
   "metadata": {},
   "outputs": [
    {
     "name": "stderr",
     "output_type": "stream",
     "text": [
      "/home/odemoly/anaconda3/lib/python3.7/site-packages/sklearn/utils/validation.py:724: DataConversionWarning: A column-vector y was passed when a 1d array was expected. Please change the shape of y to (n_samples, ), for example using ravel().\n",
      "  y = column_or_1d(y, warn=True)\n"
     ]
    }
   ],
   "source": [
    "from sklearn.discriminant_analysis import LinearDiscriminantAnalysis\n",
    "method = LinearDiscriminantAnalysis()\n",
    "lda=method.fit(X,z_train)"
   ]
  },
  {
   "cell_type": "code",
   "execution_count": 52,
   "metadata": {},
   "outputs": [
    {
     "data": {
      "text/plain": [
       "array([[-5.00989638e-01,  4.52291117e-01,  1.27322367e+00,\n",
       "         1.77863148e-01, -4.66208002e-01,  3.93808563e-01],\n",
       "       [-1.00184633e+00,  4.52291117e-01,  1.27322367e+00,\n",
       "         1.77863148e-01,  2.14496533e+00,  3.33309046e-01],\n",
       "       [-1.32943726e-04,  4.52291117e-01,  1.27322367e+00,\n",
       "         1.77863148e-01, -4.66208002e-01, -3.14529138e-01],\n",
       "       ...,\n",
       "       [ 1.00158044e+00,  4.52291117e-01, -7.85407957e-01,\n",
       "         1.77863148e-01, -4.66208002e-01,  1.21163271e-02],\n",
       "       [-1.50270303e+00,  4.52291117e-01,  1.27322367e+00,\n",
       "         1.77863148e-01,  2.14496533e+00,  5.73749189e-01],\n",
       "       [-1.50270303e+00,  4.52291117e-01,  1.27322367e+00,\n",
       "         1.77863148e-01, -4.66208002e-01,  2.04780027e-01]])"
      ]
     },
     "execution_count": 52,
     "metadata": {},
     "output_type": "execute_result"
    }
   ],
   "source": [
    "X"
   ]
  },
  {
   "cell_type": "raw",
   "metadata": {},
   "source": []
  },
  {
   "cell_type": "code",
   "execution_count": 49,
   "metadata": {},
   "outputs": [
    {
     "ename": "IndexError",
     "evalue": "index 1 is out of bounds for axis 1 with size 1",
     "output_type": "error",
     "traceback": [
      "\u001b[0;31m---------------------------------------------------------------------------\u001b[0m",
      "\u001b[0;31mIndexError\u001b[0m                                Traceback (most recent call last)",
      "\u001b[0;32m<ipython-input-49-8e6be356d441>\u001b[0m in \u001b[0;36m<module>\u001b[0;34m\u001b[0m\n\u001b[1;32m      1\u001b[0m \u001b[0mClda\u001b[0m\u001b[0;34m=\u001b[0m\u001b[0mlda\u001b[0m\u001b[0;34m.\u001b[0m\u001b[0mtransform\u001b[0m\u001b[0;34m(\u001b[0m\u001b[0mX\u001b[0m\u001b[0;34m)\u001b[0m\u001b[0;34m\u001b[0m\u001b[0;34m\u001b[0m\u001b[0m\n\u001b[1;32m      2\u001b[0m \u001b[0mplt\u001b[0m\u001b[0;34m.\u001b[0m\u001b[0mfigure\u001b[0m\u001b[0;34m(\u001b[0m\u001b[0mfigsize\u001b[0m\u001b[0;34m=\u001b[0m\u001b[0;34m(\u001b[0m\u001b[0;36m10\u001b[0m\u001b[0;34m,\u001b[0m\u001b[0;36m6\u001b[0m\u001b[0;34m)\u001b[0m\u001b[0;34m)\u001b[0m\u001b[0;34m\u001b[0m\u001b[0;34m\u001b[0m\u001b[0m\n\u001b[0;32m----> 3\u001b[0;31m \u001b[0;32mfor\u001b[0m \u001b[0mi\u001b[0m\u001b[0;34m,\u001b[0m \u001b[0mj\u001b[0m\u001b[0;34m,\u001b[0m \u001b[0mnom\u001b[0m \u001b[0;32min\u001b[0m \u001b[0mzip\u001b[0m\u001b[0;34m(\u001b[0m\u001b[0mClda\u001b[0m\u001b[0;34m[\u001b[0m\u001b[0;34m:\u001b[0m\u001b[0;34m,\u001b[0m\u001b[0;36m0\u001b[0m\u001b[0;34m]\u001b[0m\u001b[0;34m,\u001b[0m\u001b[0mClda\u001b[0m\u001b[0;34m[\u001b[0m\u001b[0;34m:\u001b[0m\u001b[0;34m,\u001b[0m\u001b[0;36m1\u001b[0m\u001b[0;34m]\u001b[0m\u001b[0;34m,\u001b[0m \u001b[0mY\u001b[0m\u001b[0;34m)\u001b[0m\u001b[0;34m:\u001b[0m\u001b[0;34m\u001b[0m\u001b[0;34m\u001b[0m\u001b[0m\n\u001b[0m\u001b[1;32m      4\u001b[0m     \u001b[0mplt\u001b[0m\u001b[0;34m.\u001b[0m\u001b[0mscatter\u001b[0m\u001b[0;34m(\u001b[0m\u001b[0mi\u001b[0m\u001b[0;34m,\u001b[0m \u001b[0mj\u001b[0m\u001b[0;34m,\u001b[0m \u001b[0mcolor\u001b[0m\u001b[0;34m=\u001b[0m\u001b[0mnom\u001b[0m\u001b[0;34m)\u001b[0m\u001b[0;34m\u001b[0m\u001b[0;34m\u001b[0m\u001b[0m\n\u001b[1;32m      5\u001b[0m \u001b[0mplt\u001b[0m\u001b[0;34m.\u001b[0m\u001b[0maxis\u001b[0m\u001b[0;34m(\u001b[0m\u001b[0;34m(\u001b[0m\u001b[0;34m-\u001b[0m\u001b[0;36m8\u001b[0m\u001b[0;34m,\u001b[0m\u001b[0;36m7\u001b[0m\u001b[0;34m,\u001b[0m\u001b[0;34m-\u001b[0m\u001b[0;36m4\u001b[0m\u001b[0;34m,\u001b[0m\u001b[0;36m6\u001b[0m\u001b[0;34m)\u001b[0m\u001b[0;34m)\u001b[0m\u001b[0;34m\u001b[0m\u001b[0;34m\u001b[0m\u001b[0m\n",
      "\u001b[0;31mIndexError\u001b[0m: index 1 is out of bounds for axis 1 with size 1"
     ]
    },
    {
     "data": {
      "text/plain": [
       "<Figure size 720x432 with 0 Axes>"
      ]
     },
     "metadata": {},
     "output_type": "display_data"
    }
   ],
   "source": [
    "Clda=lda.transform(X)\n",
    "plt.figure(figsize=(10,6))\n",
    "for i, j, nom in zip(Clda[:,0],Clda[:,1], Y):\n",
    "    plt.scatter(i, j, color=nom)\n",
    "plt.axis((-8,7,-4,6))  \n",
    "plt.show()"
   ]
  },
  {
   "cell_type": "code",
   "execution_count": null,
   "metadata": {},
   "outputs": [],
   "source": []
  },
  {
   "cell_type": "code",
   "execution_count": null,
   "metadata": {},
   "outputs": [],
   "source": []
  },
  {
   "cell_type": "code",
   "execution_count": 18,
   "metadata": {},
   "outputs": [],
   "source": [
    "from sklearn.cluster  import  KMeans\n",
    "from  sklearn.metrics  import confusion_matrix\n",
    "clust=KMeans(n_clusters=2)\n",
    "clust.fit(X)\n",
    "classe=clust.labels_"
   ]
  },
  {
   "cell_type": "code",
   "execution_count": 19,
   "metadata": {},
   "outputs": [
    {
     "data": {
      "image/png": "[encoded data removed]",
      "text/plain": [
       "<Figure size 720x576 with 1 Axes>"
      ]
     },
     "metadata": {
      "needs_background": "light"
     },
     "output_type": "display_data"
    }
   ],
   "source": [
    "## Repésentation des individus dans les coordonnées de l'acp.\n",
    "plt.figure(figsize=(10,8))\n",
    "plt.scatter(C[:,0], C[:,1], c=classe) \n",
    "plt.show()"
   ]
  },
  {
   "cell_type": "code",
   "execution_count": 11,
   "metadata": {},
   "outputs": [],
   "source": [
    "from sklearn.model_selection import train_test_split\n",
    "X_train_2,X_test_2,y_train_2,y_test_2=train_test_split(T_train,z_train,test_size=2/7,random_state=11)"
   ]
  },
  {
   "cell_type": "markdown",
   "metadata": {},
   "source": [
    "# <FONT COLOR=\"Red\">Deuxième partie: Prévision</font>"
   ]
  },
  {
   "cell_type": "markdown",
   "metadata": {},
   "source": [
    "## 3 *K* plus proches voisins\n",
    "Les images des caractères sont codées par des variables  quantitatives. Le problème de reconnaissance de forme ou de discrimination est adapté à l'algorithme des  [$k$-plus proches voisins](http://wikistat.fr/pdf/st-m-app-add.pdf). Le paramètre à optimiser pour contrôler la complexité du modèle est le nombre de voisin `n_neighbors`. Les autres options sont décrites dans la [documentation](http://scikit-learn.org/stable/modules/generated/sklearn.neighbors.KNeighborsClassifier.html)."
   ]
  },
  {
   "cell_type": "code",
   "execution_count": 16,
   "metadata": {},
   "outputs": [
    {
     "name": "stderr",
     "output_type": "stream",
     "text": [
      "/home/odemoly/anaconda3/lib/python3.7/site-packages/ipykernel_launcher.py:3: DataConversionWarning: A column-vector y was passed when a 1d array was expected. Please change the shape of y to (n_samples, ), for example using ravel().\n",
      "  This is separate from the ipykernel package so we can avoid doing imports until\n"
     ]
    },
    {
     "data": {
      "text/plain": [
       "0.8301186578975825"
      ]
     },
     "execution_count": 16,
     "metadata": {},
     "output_type": "execute_result"
    }
   ],
   "source": [
    "from sklearn.neighbors import KNeighborsClassifier\n",
    "knn = KNeighborsClassifier(n_neighbors=14)\n",
    "digit_knn=knn.fit(X_train_2, y_train_2) \n",
    "# Estimation de l'erreur de prévision\n",
    "# sur l'échantillon test\n",
    "1-digit_knn.score(X_test_2,y_test_2)"
   ]
  },
  {
   "cell_type": "markdown",
   "metadata": {},
   "source": [
    "Optimisation du paramètre de complexité du modèle par validation croisée en cherchant l'erreur minimale sur une grille de valeurs du paramètre avec `cv=5`-*fold cross validation* et `n_jobs=-1` pour une exécution en parallèle utilisant tous les processeurs sauf 1. Attention, comme la validation croisée est aléatoire, deux exécutions successives ne donnent pas le même résultat."
   ]
  },
  {
   "cell_type": "code",
   "execution_count": 15,
   "metadata": {},
   "outputs": [
    {
     "name": "stderr",
     "output_type": "stream",
     "text": [
      "/home/odemoly/anaconda3/lib/python3.7/site-packages/sklearn/model_selection/_split.py:657: Warning: The least populated class in y has only 1 members, which is too few. The minimum number of members in any class cannot be less than n_splits=5.\n",
      "  % (min_groups, self.n_splits)), Warning)\n",
      "/home/odemoly/anaconda3/lib/python3.7/site-packages/sklearn/model_selection/_search.py:814: DeprecationWarning: The default of the `iid` parameter will change from True to False in version 0.22 and will be removed in 0.24. This will change numeric results when test-set sizes are unequal.\n",
      "  DeprecationWarning)\n",
      "/home/odemoly/anaconda3/lib/python3.7/site-packages/sklearn/model_selection/_search.py:715: DataConversionWarning: A column-vector y was passed when a 1d array was expected. Please change the shape of y to (n_samples, ), for example using ravel().\n",
      "  self.best_estimator_.fit(X, y, **fit_params)\n"
     ]
    },
    {
     "data": {
      "text/plain": [
       "14"
      ]
     },
     "execution_count": 15,
     "metadata": {},
     "output_type": "execute_result"
    }
   ],
   "source": [
    "from sklearn.model_selection import GridSearchCV\n",
    "# grille de valeurs\n",
    "param=[{\"n_neighbors\":list(range(1,15))}]\n",
    "knn= GridSearchCV(KNeighborsClassifier(),param,cv=5,n_jobs=-1)\n",
    "digit_knnOpt=knn.fit(X_train_2, y_train_2)\n",
    "# paramètre optimal\n",
    "digit_knnOpt.best_params_[\"n_neighbors\"]"
   ]
  },
  {
   "cell_type": "markdown",
   "metadata": {},
   "source": [
    "Le modèle `digit_knnOpt` est déjà estimé avec la valeur \"optimale\" du paramètre."
   ]
  },
  {
   "cell_type": "code",
   "execution_count": 18,
   "metadata": {},
   "outputs": [
    {
     "data": {
      "text/plain": [
       "0.8301186578975825"
      ]
     },
     "execution_count": 18,
     "metadata": {},
     "output_type": "execute_result"
    }
   ],
   "source": [
    "# Estimation de l'erreur de prévision sur l'échantillon test\n",
    "1-digit_knnOpt.score(X_test_2,y_test_2)"
   ]
  },
  {
   "cell_type": "code",
   "execution_count": 41,
   "metadata": {},
   "outputs": [],
   "source": [
    "# Prévision\n",
    "y_chap = digit_knnOpt.predict(X_test_2)\n",
    "# matrice de confusion\n",
    "#table=pd.crosstab(y_test_2,y_chap)\n",
    "#print(table)\n",
    "#plt.matshow(table)\n",
    "#plt.title(\"Matrice de Confusion\")\n",
    "#plt.colorbar()\n",
    "#plt.show()"
   ]
  },
  {
   "cell_type": "code",
   "execution_count": 44,
   "metadata": {},
   "outputs": [],
   "source": [
    "y_test_2_tolist = y_test_2.values.tolist()"
   ]
  },
  {
   "cell_type": "code",
   "execution_count": 46,
   "metadata": {},
   "outputs": [
    {
     "data": {
      "text/plain": [
       "array([4497487.69783059])"
      ]
     },
     "execution_count": 46,
     "metadata": {},
     "output_type": "execute_result"
    }
   ],
   "source": [
    "a = np.array(y_test_2_tolist) # your x\n",
    "b = np.array(y_chap) # your y\n",
    "mse = 0\n",
    "for i in range(len(a)):\n",
    "    mse+= (a[i]-b[i])**2/len(a)\n",
    "\n",
    "mse"
   ]
  },
  {
   "cell_type": "markdown",
   "metadata": {},
   "source": [
    "## 4 Arbre de décision\n",
    "### 4.1 Implémentation\n",
    "Les [arbres binaires de décision](http://wikistat.fr/pdf/st-m-app-cart.pdf) (CART: *classification and regression trees*) s'appliquent à tous types de variables. Les options de l'algorithme sont décrites dans la [documentation](http://scikit-learn.org/stable/modules/generated/sklearn.tree.DecisionTreeClassifier.html). La complexité du modèle est gérée par deux paramètres : `max_depth`, qui détermine le nombre max de feuilles dans l'arbre, et le nombre minimales `min_samples_split` d'observations requises pour rechercher une dichotomie. \n",
    "\n",
    "**Attention**: Même s'il s'agit d'une implémentation proche de celle originale proposée par Breiman et al. (1984) il n'existe pas (encore?) comme dans R (package `rpart`) un paramètre de pénalisation de la déviance du modèle par sa complexité (nombre de feuilles) afin de construire une séquence d'arbres emboîtés dans la perspective d'un élagage (*pruning*) optimal par validation croisée. La fonction générique de $k$-*fold cross validation* `GridSearchCV` est utilisée pour optimiser le paramètre de profondeur mais sans beaucoup de précision dans l'élagage car ce dernier élimine tout un niveau et pas les seules feuilles inutiles à la qualité de la prévision.\n",
    "\n",
    "En revanche, l'implémentation anticipe sur celles des [méthodes d'agrégation de modèles](http://wikistat.fr/pdf/st-m-app-agreg.pdf) en intégrant les paramètres (nombre de variables tirées, importance...) qui leurs sont spécifiques. D'autre part, la représentation graphique d'un arbre n'est pas incluse et nécessite l'implémentation d'un autre logiciel libre: [Graphviz](http://www.graphviz.org/). \n",
    "\n",
    "Tout ceci souligne encore les objectifs de développement de cette librairie: temps de calcul et prévision brute au détriment d'une recherche d'interprétation. Dans certains exemples éventuellement pas trop compliqués, un arbre élagué de façon optimal peut en effet prévoir à peine moins bien (différence non significative) qu'une agrégation de modèles (forêt aléatoire ou **boosting**) et apporter un éclairage nettement plus pertinent qu'un algorithme de type \"boîte noire\". \n",
    "\n",
    "## 4.2 Données \"Magasins\"\n",
    "Estimation de l'arbre complet."
   ]
  },
  {
   "cell_type": "code",
   "execution_count": 47,
   "metadata": {},
   "outputs": [
    {
     "ename": "MemoryError",
     "evalue": "could not allocate 2540044288 bytes",
     "output_type": "error",
     "traceback": [
      "\u001b[0;31m---------------------------------------------------------------------------\u001b[0m",
      "\u001b[0;31mMemoryError\u001b[0m                               Traceback (most recent call last)",
      "\u001b[0;32m<ipython-input-47-b73893c7996c>\u001b[0m in \u001b[0;36m<module>\u001b[0;34m\u001b[0m\n\u001b[1;32m      2\u001b[0m \u001b[0;32mimport\u001b[0m \u001b[0mnumpy\u001b[0m \u001b[0;32mas\u001b[0m \u001b[0mnp\u001b[0m\u001b[0;34m\u001b[0m\u001b[0;34m\u001b[0m\u001b[0m\n\u001b[1;32m      3\u001b[0m \u001b[0mtree\u001b[0m\u001b[0;34m=\u001b[0m\u001b[0mDecisionTreeClassifier\u001b[0m\u001b[0;34m(\u001b[0m\u001b[0;34m)\u001b[0m\u001b[0;34m\u001b[0m\u001b[0;34m\u001b[0m\u001b[0m\n\u001b[0;32m----> 4\u001b[0;31m \u001b[0mdigit_tree\u001b[0m\u001b[0;34m=\u001b[0m\u001b[0mtree\u001b[0m\u001b[0;34m.\u001b[0m\u001b[0mfit\u001b[0m\u001b[0;34m(\u001b[0m\u001b[0mX_train_2\u001b[0m\u001b[0;34m,\u001b[0m \u001b[0my_train_2\u001b[0m\u001b[0;34m)\u001b[0m\u001b[0;34m\u001b[0m\u001b[0;34m\u001b[0m\u001b[0m\n\u001b[0m\u001b[1;32m      5\u001b[0m \u001b[0;31m# Estimation de l'erreur de prévision\u001b[0m\u001b[0;34m\u001b[0m\u001b[0;34m\u001b[0m\u001b[0;34m\u001b[0m\u001b[0m\n\u001b[1;32m      6\u001b[0m \u001b[0;31m#1-digit_tree.score(T_test,z_test)\u001b[0m\u001b[0;34m\u001b[0m\u001b[0;34m\u001b[0m\u001b[0;34m\u001b[0m\u001b[0m\n",
      "\u001b[0;32m~/anaconda3/lib/python3.7/site-packages/sklearn/tree/tree.py\u001b[0m in \u001b[0;36mfit\u001b[0;34m(self, X, y, sample_weight, check_input, X_idx_sorted)\u001b[0m\n\u001b[1;32m    814\u001b[0m             \u001b[0msample_weight\u001b[0m\u001b[0;34m=\u001b[0m\u001b[0msample_weight\u001b[0m\u001b[0;34m,\u001b[0m\u001b[0;34m\u001b[0m\u001b[0;34m\u001b[0m\u001b[0m\n\u001b[1;32m    815\u001b[0m             \u001b[0mcheck_input\u001b[0m\u001b[0;34m=\u001b[0m\u001b[0mcheck_input\u001b[0m\u001b[0;34m,\u001b[0m\u001b[0;34m\u001b[0m\u001b[0;34m\u001b[0m\u001b[0m\n\u001b[0;32m--> 816\u001b[0;31m             X_idx_sorted=X_idx_sorted)\n\u001b[0m\u001b[1;32m    817\u001b[0m         \u001b[0;32mreturn\u001b[0m \u001b[0mself\u001b[0m\u001b[0;34m\u001b[0m\u001b[0;34m\u001b[0m\u001b[0m\n\u001b[1;32m    818\u001b[0m \u001b[0;34m\u001b[0m\u001b[0m\n",
      "\u001b[0;32m~/anaconda3/lib/python3.7/site-packages/sklearn/tree/tree.py\u001b[0m in \u001b[0;36mfit\u001b[0;34m(self, X, y, sample_weight, check_input, X_idx_sorted)\u001b[0m\n\u001b[1;32m    378\u001b[0m                                            min_impurity_split)\n\u001b[1;32m    379\u001b[0m \u001b[0;34m\u001b[0m\u001b[0m\n\u001b[0;32m--> 380\u001b[0;31m         \u001b[0mbuilder\u001b[0m\u001b[0;34m.\u001b[0m\u001b[0mbuild\u001b[0m\u001b[0;34m(\u001b[0m\u001b[0mself\u001b[0m\u001b[0;34m.\u001b[0m\u001b[0mtree_\u001b[0m\u001b[0;34m,\u001b[0m \u001b[0mX\u001b[0m\u001b[0;34m,\u001b[0m \u001b[0my\u001b[0m\u001b[0;34m,\u001b[0m \u001b[0msample_weight\u001b[0m\u001b[0;34m,\u001b[0m \u001b[0mX_idx_sorted\u001b[0m\u001b[0;34m)\u001b[0m\u001b[0;34m\u001b[0m\u001b[0;34m\u001b[0m\u001b[0m\n\u001b[0m\u001b[1;32m    381\u001b[0m \u001b[0;34m\u001b[0m\u001b[0m\n\u001b[1;32m    382\u001b[0m         \u001b[0;32mif\u001b[0m \u001b[0mself\u001b[0m\u001b[0;34m.\u001b[0m\u001b[0mn_outputs_\u001b[0m \u001b[0;34m==\u001b[0m \u001b[0;36m1\u001b[0m\u001b[0;34m:\u001b[0m\u001b[0;34m\u001b[0m\u001b[0;34m\u001b[0m\u001b[0m\n",
      "\u001b[0;32msklearn/tree/_tree.pyx\u001b[0m in \u001b[0;36msklearn.tree._tree.DepthFirstTreeBuilder.build\u001b[0;34m()\u001b[0m\n",
      "\u001b[0;32msklearn/tree/_tree.pyx\u001b[0m in \u001b[0;36msklearn.tree._tree.DepthFirstTreeBuilder.build\u001b[0;34m()\u001b[0m\n",
      "\u001b[0;32msklearn/tree/_tree.pyx\u001b[0m in \u001b[0;36msklearn.tree._tree.Tree._add_node\u001b[0;34m()\u001b[0m\n",
      "\u001b[0;32msklearn/tree/_tree.pyx\u001b[0m in \u001b[0;36msklearn.tree._tree.Tree._resize_c\u001b[0;34m()\u001b[0m\n",
      "\u001b[0;32msklearn/tree/_utils.pyx\u001b[0m in \u001b[0;36msklearn.tree._utils.safe_realloc\u001b[0;34m()\u001b[0m\n",
      "\u001b[0;31mMemoryError\u001b[0m: could not allocate 2540044288 bytes"
     ]
    }
   ],
   "source": [
    "from sklearn.tree import DecisionTreeClassifier\n",
    "import numpy as np\n",
    "tree=DecisionTreeClassifier()\n",
    "digit_tree=tree.fit(X_train_2, y_train_2) \n",
    "# Estimation de l'erreur de prévision\n",
    "#1-digit_tree.score(T_test,z_test)\n",
    "#y_chap = digit_tree.predict(T_test)\n",
    "\n",
    "#fichier = open(\"/home/odemoly/Documents/Certificat_BD/Second_Projet/submission/store_test.predict\", \"w\")\n",
    "#for i in range(len(z_chap)):\n",
    "    \n",
    "#    fichier.write(z_chap[i]+\"\\n\")\n",
    "    \n",
    "#fichier.close()\n",
    "\n"
   ]
  },
  {
   "cell_type": "markdown",
   "metadata": {},
   "source": [
    "Optimisation du paramètre de complexité du modèle par validation croisée en cherchant l'erreur minimale sur une grille de valeurs du paramètre avec `cv=5`-*fold cross validation* et `n_jobs=-1` pour une exécution en parallèle utilisant tous les processeurs sauf 1. Attention, comme la validation croisée est aléatoire et un arbre un modèle instable, deux exécutions successives ne donnent pas nécessairement le même résultat."
   ]
  },
  {
   "cell_type": "code",
   "execution_count": null,
   "metadata": {},
   "outputs": [],
   "source": [
    "param=[{\"max_depth\":list(range(2,10))}]\n",
    "titan_tree= GridSearchCV(DecisionTreeClassifier(),param,cv=5,n_jobs=-1)\n",
    "titan_opt=titan_tree.fit(T_train, z_train)\n",
    "# paramètre optimal\n",
    "titan_opt.best_params_"
   ]
  },
  {
   "cell_type": "markdown",
   "metadata": {},
   "source": [
    "La valeur \"optimale\" du paramètre reste trop importante pour la lisibilité de l'arbre. Une valeur plus faible est utilisée."
   ]
  },
  {
   "cell_type": "code",
   "execution_count": null,
   "metadata": {},
   "outputs": [],
   "source": [
    "tree=DecisionTreeClassifier(max_depth=3)\n",
    "titan_tree=tree.fit(T_train, z_train)\n",
    "# Estimation de l'erreur de prévision\n",
    "# sur l'échantillon test\n",
    "1-titan_tree.score(T_test,z_test)"
   ]
  },
  {
   "cell_type": "markdown",
   "metadata": {},
   "source": [
    "Noter l'amélioration de l'erreur."
   ]
  },
  {
   "cell_type": "code",
   "execution_count": null,
   "metadata": {},
   "outputs": [],
   "source": [
    "# prévision de l'échantillon test\n",
    "z_chap = titan_tree.predict(T_test)\n",
    "# matrice de confusion\n",
    "table=pd.crosstab(z_test,z_chap)\n",
    "print(table)"
   ]
  },
  {
   "cell_type": "markdown",
   "metadata": {},
   "source": [
    "Tracer l'arbre avec le logiciel Graphviz."
   ]
  },
  {
   "cell_type": "code",
   "execution_count": null,
   "metadata": {},
   "outputs": [],
   "source": [
    "from sklearn.tree import export_graphviz\n",
    "from sklearn.externals.six import StringIO  \n",
    "import pydotplus\n",
    "dot_data = StringIO() \n",
    "export_graphviz(titan_tree, out_file=dot_data) \n",
    "graph=pydotplus.graph_from_dot_data(dot_data.getvalue()) \n",
    "graph.write_png(\"titan_tree.png\")  "
   ]
  },
  {
   "cell_type": "markdown",
   "metadata": {},
   "source": [
    "L'arbre est généré dans un fichier image à visualiser pour se rende compte qu'il est plutôt mal élagué et pas directement interprétable sans les noms en clair des variables et modalités."
   ]
  },
  {
   "cell_type": "code",
   "execution_count": null,
   "metadata": {},
   "outputs": [],
   "source": [
    "from IPython.display import Image\n",
    "Image(filename='titan_tree.png')"
   ]
  },
  {
   "cell_type": "markdown",
   "metadata": {},
   "source": [
    "## 5 Forêts aléatoires\n",
    "L'algorithme d'agrégation de modèles le plus utilisé est celui des [forêts aléatoires](http://wikistat.fr/pdf/st-m-app-agreg.pdf) (random forest) de Breiman (2001) ce qui ne signifie pas qu'il conduit toujours à la meilleure prévision. Voir la [documentation](http://scikit-learn.org/stable/modules/generated/sklearn.ensemble.RandomForestClassifier.html#sklearn.ensemble.RandomForestClassifier) pour la signification de tous les paramètres.\n",
    "\n",
    "Plus que le nombre d'arbres `n_estimators`, le paramètre à optimiser est le nombre de variables tirées aléatoirement pour la recherche de la division optimale d'un noeud: `max_features`. Par défaut, il prend la valeur $\\frac{p}{3}$ en  régression et $\\sqrt{p}$ en discrimination.\n",
    "### 5.1 Données \"Magasins\""
   ]
  },
  {
   "cell_type": "code",
   "execution_count": 13,
   "metadata": {},
   "outputs": [
    {
     "name": "stderr",
     "output_type": "stream",
     "text": [
      "/home/odemoly/anaconda3/lib/python3.7/site-packages/ipykernel_launcher.py:9: DataConversionWarning: A column-vector y was passed when a 1d array was expected. Please change the shape of y to (n_samples,), for example using ravel().\n",
      "  if __name__ == '__main__':\n"
     ]
    },
    {
     "name": "stdout",
     "output_type": "stream",
     "text": [
      "0.829\n"
     ]
    }
   ],
   "source": [
    "from sklearn.ensemble import RandomForestClassifier \n",
    "# définition des paramètres\n",
    "forest = RandomForestClassifier(n_estimators=50, \n",
    "   criterion='gini', max_depth=None,\n",
    "   min_samples_split=2, min_samples_leaf=1, \n",
    "   max_features='auto', max_leaf_nodes=None,\n",
    "   bootstrap=True, oob_score=True)\n",
    "# apprentissage et erreur out-of-bag\n",
    "forest = forest.fit(X_train_2[0:1000],y_train_2[0:1000])\n",
    "print(1-forest.oob_score_)"
   ]
  },
  {
   "cell_type": "code",
   "execution_count": 14,
   "metadata": {},
   "outputs": [
    {
     "ename": "MemoryError",
     "evalue": "Unable to allocate 1.19 GiB for an array with shape (203442, 787) and data type float64",
     "output_type": "error",
     "traceback": [
      "\u001b[0;31m---------------------------------------------------------------------------\u001b[0m",
      "\u001b[0;31mMemoryError\u001b[0m                               Traceback (most recent call last)",
      "\u001b[0;32m<ipython-input-14-8ad8394ed9ca>\u001b[0m in \u001b[0;36m<module>\u001b[0;34m\u001b[0m\n\u001b[1;32m      1\u001b[0m \u001b[0;31m# erreur de prévision sur le test\u001b[0m\u001b[0;34m\u001b[0m\u001b[0;34m\u001b[0m\u001b[0;34m\u001b[0m\u001b[0m\n\u001b[0;32m----> 2\u001b[0;31m \u001b[0;36m1\u001b[0m\u001b[0;34m-\u001b[0m\u001b[0mforest\u001b[0m\u001b[0;34m.\u001b[0m\u001b[0mscore\u001b[0m\u001b[0;34m(\u001b[0m\u001b[0mX_test_2\u001b[0m\u001b[0;34m,\u001b[0m\u001b[0my_test_2\u001b[0m\u001b[0;34m)\u001b[0m\u001b[0;34m\u001b[0m\u001b[0;34m\u001b[0m\u001b[0m\n\u001b[0m",
      "\u001b[0;32m~/anaconda3/lib/python3.7/site-packages/sklearn/base.py\u001b[0m in \u001b[0;36mscore\u001b[0;34m(self, X, y, sample_weight)\u001b[0m\n\u001b[1;32m    355\u001b[0m         \"\"\"\n\u001b[1;32m    356\u001b[0m         \u001b[0;32mfrom\u001b[0m \u001b[0;34m.\u001b[0m\u001b[0mmetrics\u001b[0m \u001b[0;32mimport\u001b[0m \u001b[0maccuracy_score\u001b[0m\u001b[0;34m\u001b[0m\u001b[0;34m\u001b[0m\u001b[0m\n\u001b[0;32m--> 357\u001b[0;31m         \u001b[0;32mreturn\u001b[0m \u001b[0maccuracy_score\u001b[0m\u001b[0;34m(\u001b[0m\u001b[0my\u001b[0m\u001b[0;34m,\u001b[0m \u001b[0mself\u001b[0m\u001b[0;34m.\u001b[0m\u001b[0mpredict\u001b[0m\u001b[0;34m(\u001b[0m\u001b[0mX\u001b[0m\u001b[0;34m)\u001b[0m\u001b[0;34m,\u001b[0m \u001b[0msample_weight\u001b[0m\u001b[0;34m=\u001b[0m\u001b[0msample_weight\u001b[0m\u001b[0;34m)\u001b[0m\u001b[0;34m\u001b[0m\u001b[0;34m\u001b[0m\u001b[0m\n\u001b[0m\u001b[1;32m    358\u001b[0m \u001b[0;34m\u001b[0m\u001b[0m\n\u001b[1;32m    359\u001b[0m \u001b[0;34m\u001b[0m\u001b[0m\n",
      "\u001b[0;32m~/anaconda3/lib/python3.7/site-packages/sklearn/ensemble/forest.py\u001b[0m in \u001b[0;36mpredict\u001b[0;34m(self, X)\u001b[0m\n\u001b[1;32m    543\u001b[0m             \u001b[0mThe\u001b[0m \u001b[0mpredicted\u001b[0m \u001b[0mclasses\u001b[0m\u001b[0;34m.\u001b[0m\u001b[0;34m\u001b[0m\u001b[0;34m\u001b[0m\u001b[0m\n\u001b[1;32m    544\u001b[0m         \"\"\"\n\u001b[0;32m--> 545\u001b[0;31m         \u001b[0mproba\u001b[0m \u001b[0;34m=\u001b[0m \u001b[0mself\u001b[0m\u001b[0;34m.\u001b[0m\u001b[0mpredict_proba\u001b[0m\u001b[0;34m(\u001b[0m\u001b[0mX\u001b[0m\u001b[0;34m)\u001b[0m\u001b[0;34m\u001b[0m\u001b[0;34m\u001b[0m\u001b[0m\n\u001b[0m\u001b[1;32m    546\u001b[0m \u001b[0;34m\u001b[0m\u001b[0m\n\u001b[1;32m    547\u001b[0m         \u001b[0;32mif\u001b[0m \u001b[0mself\u001b[0m\u001b[0;34m.\u001b[0m\u001b[0mn_outputs_\u001b[0m \u001b[0;34m==\u001b[0m \u001b[0;36m1\u001b[0m\u001b[0;34m:\u001b[0m\u001b[0;34m\u001b[0m\u001b[0;34m\u001b[0m\u001b[0m\n",
      "\u001b[0;32m~/anaconda3/lib/python3.7/site-packages/sklearn/ensemble/forest.py\u001b[0m in \u001b[0;36mpredict_proba\u001b[0;34m(self, X)\u001b[0m\n\u001b[1;32m    593\u001b[0m         \u001b[0;31m# avoid storing the output of every estimator by summing them here\u001b[0m\u001b[0;34m\u001b[0m\u001b[0;34m\u001b[0m\u001b[0;34m\u001b[0m\u001b[0m\n\u001b[1;32m    594\u001b[0m         all_proba = [np.zeros((X.shape[0], j), dtype=np.float64)\n\u001b[0;32m--> 595\u001b[0;31m                      for j in np.atleast_1d(self.n_classes_)]\n\u001b[0m\u001b[1;32m    596\u001b[0m         \u001b[0mlock\u001b[0m \u001b[0;34m=\u001b[0m \u001b[0mthreading\u001b[0m\u001b[0;34m.\u001b[0m\u001b[0mLock\u001b[0m\u001b[0;34m(\u001b[0m\u001b[0;34m)\u001b[0m\u001b[0;34m\u001b[0m\u001b[0;34m\u001b[0m\u001b[0m\n\u001b[1;32m    597\u001b[0m         Parallel(n_jobs=n_jobs, verbose=self.verbose,\n",
      "\u001b[0;32m~/anaconda3/lib/python3.7/site-packages/sklearn/ensemble/forest.py\u001b[0m in \u001b[0;36m<listcomp>\u001b[0;34m(.0)\u001b[0m\n\u001b[1;32m    593\u001b[0m         \u001b[0;31m# avoid storing the output of every estimator by summing them here\u001b[0m\u001b[0;34m\u001b[0m\u001b[0;34m\u001b[0m\u001b[0;34m\u001b[0m\u001b[0m\n\u001b[1;32m    594\u001b[0m         all_proba = [np.zeros((X.shape[0], j), dtype=np.float64)\n\u001b[0;32m--> 595\u001b[0;31m                      for j in np.atleast_1d(self.n_classes_)]\n\u001b[0m\u001b[1;32m    596\u001b[0m         \u001b[0mlock\u001b[0m \u001b[0;34m=\u001b[0m \u001b[0mthreading\u001b[0m\u001b[0;34m.\u001b[0m\u001b[0mLock\u001b[0m\u001b[0;34m(\u001b[0m\u001b[0;34m)\u001b[0m\u001b[0;34m\u001b[0m\u001b[0;34m\u001b[0m\u001b[0m\n\u001b[1;32m    597\u001b[0m         Parallel(n_jobs=n_jobs, verbose=self.verbose,\n",
      "\u001b[0;31mMemoryError\u001b[0m: Unable to allocate 1.19 GiB for an array with shape (203442, 787) and data type float64"
     ]
    }
   ],
   "source": [
    "# erreur de prévision sur le test\n",
    "1-forest.score(X_test_2,y_test_2)"
   ]
  },
  {
   "cell_type": "markdown",
   "metadata": {},
   "source": [
    "L'optimisation du paramètre `max_features` peut être réalisée en minimisant l'erreur de prévision *out-of-bag*. Ce n'est pas prévu, il est aussi possible comme précédemment de minimiser l'erreur par validation croisée."
   ]
  },
  {
   "cell_type": "code",
   "execution_count": 18,
   "metadata": {},
   "outputs": [
    {
     "ename": "OSError",
     "evalue": "[Errno 12] Cannot allocate memory",
     "output_type": "error",
     "traceback": [
      "\u001b[0;31m---------------------------------------------------------------------------\u001b[0m",
      "\u001b[0;31mOSError\u001b[0m                                   Traceback (most recent call last)",
      "\u001b[0;32m<ipython-input-18-5923e8c51d8c>\u001b[0m in \u001b[0;36m<module>\u001b[0;34m\u001b[0m\n\u001b[1;32m      2\u001b[0m \u001b[0mparam\u001b[0m\u001b[0;34m=\u001b[0m\u001b[0;34m[\u001b[0m\u001b[0;34m{\u001b[0m\u001b[0;34m\"max_features\"\u001b[0m\u001b[0;34m:\u001b[0m\u001b[0mlist\u001b[0m\u001b[0;34m(\u001b[0m\u001b[0mrange\u001b[0m\u001b[0;34m(\u001b[0m\u001b[0;36m4\u001b[0m\u001b[0;34m,\u001b[0m\u001b[0;36m64\u001b[0m\u001b[0;34m,\u001b[0m\u001b[0;36m4\u001b[0m\u001b[0;34m)\u001b[0m\u001b[0;34m)\u001b[0m\u001b[0;34m}\u001b[0m\u001b[0;34m]\u001b[0m\u001b[0;34m\u001b[0m\u001b[0;34m\u001b[0m\u001b[0m\n\u001b[1;32m      3\u001b[0m \u001b[0mdigit_rf\u001b[0m\u001b[0;34m=\u001b[0m \u001b[0mGridSearchCV\u001b[0m\u001b[0;34m(\u001b[0m\u001b[0mRandomForestClassifier\u001b[0m\u001b[0;34m(\u001b[0m\u001b[0mn_estimators\u001b[0m\u001b[0;34m=\u001b[0m\u001b[0;36m50\u001b[0m\u001b[0;34m)\u001b[0m\u001b[0;34m,\u001b[0m\u001b[0mparam\u001b[0m\u001b[0;34m,\u001b[0m\u001b[0mcv\u001b[0m\u001b[0;34m=\u001b[0m\u001b[0;36m5\u001b[0m\u001b[0;34m,\u001b[0m\u001b[0mn_jobs\u001b[0m\u001b[0;34m=\u001b[0m\u001b[0;34m-\u001b[0m\u001b[0;36m1\u001b[0m\u001b[0;34m)\u001b[0m\u001b[0;34m\u001b[0m\u001b[0;34m\u001b[0m\u001b[0m\n\u001b[0;32m----> 4\u001b[0;31m \u001b[0mdigit_rfOpt\u001b[0m\u001b[0;34m=\u001b[0m\u001b[0mdigit_rf\u001b[0m\u001b[0;34m.\u001b[0m\u001b[0mfit\u001b[0m\u001b[0;34m(\u001b[0m\u001b[0mX_train_2\u001b[0m\u001b[0;34m[\u001b[0m\u001b[0;36m0\u001b[0m\u001b[0;34m:\u001b[0m\u001b[0;36m1000\u001b[0m\u001b[0;34m]\u001b[0m\u001b[0;34m,\u001b[0m \u001b[0my_train_2\u001b[0m\u001b[0;34m[\u001b[0m\u001b[0;36m0\u001b[0m\u001b[0;34m:\u001b[0m\u001b[0;36m1000\u001b[0m\u001b[0;34m]\u001b[0m\u001b[0;34m)\u001b[0m\u001b[0;34m\u001b[0m\u001b[0;34m\u001b[0m\u001b[0m\n\u001b[0m\u001b[1;32m      5\u001b[0m \u001b[0;31m# paramètre optimal\u001b[0m\u001b[0;34m\u001b[0m\u001b[0;34m\u001b[0m\u001b[0;34m\u001b[0m\u001b[0m\n\u001b[1;32m      6\u001b[0m \u001b[0mdigit_rfOpt\u001b[0m\u001b[0;34m.\u001b[0m\u001b[0mbest_params_\u001b[0m\u001b[0;34m\u001b[0m\u001b[0;34m\u001b[0m\u001b[0m\n",
      "\u001b[0;32m~/anaconda3/lib/python3.7/site-packages/sklearn/model_selection/_search.py\u001b[0m in \u001b[0;36mfit\u001b[0;34m(self, X, y, groups, **fit_params)\u001b[0m\n\u001b[1;32m    645\u001b[0m                                     verbose=self.verbose)\n\u001b[1;32m    646\u001b[0m         \u001b[0mresults\u001b[0m \u001b[0;34m=\u001b[0m \u001b[0;34m{\u001b[0m\u001b[0;34m}\u001b[0m\u001b[0;34m\u001b[0m\u001b[0;34m\u001b[0m\u001b[0m\n\u001b[0;32m--> 647\u001b[0;31m         \u001b[0;32mwith\u001b[0m \u001b[0mparallel\u001b[0m\u001b[0;34m:\u001b[0m\u001b[0;34m\u001b[0m\u001b[0;34m\u001b[0m\u001b[0m\n\u001b[0m\u001b[1;32m    648\u001b[0m             \u001b[0mall_candidate_params\u001b[0m \u001b[0;34m=\u001b[0m \u001b[0;34m[\u001b[0m\u001b[0;34m]\u001b[0m\u001b[0;34m\u001b[0m\u001b[0;34m\u001b[0m\u001b[0m\n\u001b[1;32m    649\u001b[0m             \u001b[0mall_out\u001b[0m \u001b[0;34m=\u001b[0m \u001b[0;34m[\u001b[0m\u001b[0;34m]\u001b[0m\u001b[0;34m\u001b[0m\u001b[0;34m\u001b[0m\u001b[0m\n",
      "\u001b[0;32m~/anaconda3/lib/python3.7/site-packages/joblib/parallel.py\u001b[0m in \u001b[0;36m__enter__\u001b[0;34m(self)\u001b[0m\n\u001b[1;32m    660\u001b[0m     \u001b[0;32mdef\u001b[0m \u001b[0m__enter__\u001b[0m\u001b[0;34m(\u001b[0m\u001b[0mself\u001b[0m\u001b[0;34m)\u001b[0m\u001b[0;34m:\u001b[0m\u001b[0;34m\u001b[0m\u001b[0;34m\u001b[0m\u001b[0m\n\u001b[1;32m    661\u001b[0m         \u001b[0mself\u001b[0m\u001b[0;34m.\u001b[0m\u001b[0m_managed_backend\u001b[0m \u001b[0;34m=\u001b[0m \u001b[0;32mTrue\u001b[0m\u001b[0;34m\u001b[0m\u001b[0;34m\u001b[0m\u001b[0m\n\u001b[0;32m--> 662\u001b[0;31m         \u001b[0mself\u001b[0m\u001b[0;34m.\u001b[0m\u001b[0m_initialize_backend\u001b[0m\u001b[0;34m(\u001b[0m\u001b[0;34m)\u001b[0m\u001b[0;34m\u001b[0m\u001b[0;34m\u001b[0m\u001b[0m\n\u001b[0m\u001b[1;32m    663\u001b[0m         \u001b[0;32mreturn\u001b[0m \u001b[0mself\u001b[0m\u001b[0;34m\u001b[0m\u001b[0;34m\u001b[0m\u001b[0m\n\u001b[1;32m    664\u001b[0m \u001b[0;34m\u001b[0m\u001b[0m\n",
      "\u001b[0;32m~/anaconda3/lib/python3.7/site-packages/joblib/parallel.py\u001b[0m in \u001b[0;36m_initialize_backend\u001b[0;34m(self)\u001b[0m\n\u001b[1;32m    671\u001b[0m         \u001b[0;32mtry\u001b[0m\u001b[0;34m:\u001b[0m\u001b[0;34m\u001b[0m\u001b[0;34m\u001b[0m\u001b[0m\n\u001b[1;32m    672\u001b[0m             n_jobs = self._backend.configure(n_jobs=self.n_jobs, parallel=self,\n\u001b[0;32m--> 673\u001b[0;31m                                              **self._backend_args)\n\u001b[0m\u001b[1;32m    674\u001b[0m             \u001b[0;32mif\u001b[0m \u001b[0mself\u001b[0m\u001b[0;34m.\u001b[0m\u001b[0mtimeout\u001b[0m \u001b[0;32mis\u001b[0m \u001b[0;32mnot\u001b[0m \u001b[0;32mNone\u001b[0m \u001b[0;32mand\u001b[0m \u001b[0;32mnot\u001b[0m \u001b[0mself\u001b[0m\u001b[0;34m.\u001b[0m\u001b[0m_backend\u001b[0m\u001b[0;34m.\u001b[0m\u001b[0msupports_timeout\u001b[0m\u001b[0;34m:\u001b[0m\u001b[0;34m\u001b[0m\u001b[0;34m\u001b[0m\u001b[0m\n\u001b[1;32m    675\u001b[0m                 warnings.warn(\n",
      "\u001b[0;32m~/anaconda3/lib/python3.7/site-packages/joblib/_parallel_backends.py\u001b[0m in \u001b[0;36mconfigure\u001b[0;34m(self, n_jobs, parallel, prefer, require, idle_worker_timeout, **memmappingexecutor_args)\u001b[0m\n\u001b[1;32m    474\u001b[0m             \u001b[0mn_jobs\u001b[0m\u001b[0;34m,\u001b[0m \u001b[0mtimeout\u001b[0m\u001b[0;34m=\u001b[0m\u001b[0midle_worker_timeout\u001b[0m\u001b[0;34m,\u001b[0m\u001b[0;34m\u001b[0m\u001b[0;34m\u001b[0m\u001b[0m\n\u001b[1;32m    475\u001b[0m             \u001b[0minitializer\u001b[0m\u001b[0;34m=\u001b[0m\u001b[0mself\u001b[0m\u001b[0;34m.\u001b[0m\u001b[0mlimit_clib_threads\u001b[0m\u001b[0;34m,\u001b[0m\u001b[0;34m\u001b[0m\u001b[0;34m\u001b[0m\u001b[0m\n\u001b[0;32m--> 476\u001b[0;31m             **memmappingexecutor_args)\n\u001b[0m\u001b[1;32m    477\u001b[0m         \u001b[0mself\u001b[0m\u001b[0;34m.\u001b[0m\u001b[0mparallel\u001b[0m \u001b[0;34m=\u001b[0m \u001b[0mparallel\u001b[0m\u001b[0;34m\u001b[0m\u001b[0;34m\u001b[0m\u001b[0m\n\u001b[1;32m    478\u001b[0m         \u001b[0;32mreturn\u001b[0m \u001b[0mn_jobs\u001b[0m\u001b[0;34m\u001b[0m\u001b[0;34m\u001b[0m\u001b[0m\n",
      "\u001b[0;32m~/anaconda3/lib/python3.7/site-packages/joblib/executor.py\u001b[0m in \u001b[0;36mget_memmapping_executor\u001b[0;34m(n_jobs, timeout, initializer, initargs, **backend_args)\u001b[0m\n\u001b[1;32m     34\u001b[0m                                       \u001b[0mreuse\u001b[0m\u001b[0;34m=\u001b[0m\u001b[0mreuse\u001b[0m\u001b[0;34m,\u001b[0m \u001b[0mtimeout\u001b[0m\u001b[0;34m=\u001b[0m\u001b[0mtimeout\u001b[0m\u001b[0;34m,\u001b[0m\u001b[0;34m\u001b[0m\u001b[0;34m\u001b[0m\u001b[0m\n\u001b[1;32m     35\u001b[0m                                       \u001b[0minitializer\u001b[0m\u001b[0;34m=\u001b[0m\u001b[0minitializer\u001b[0m\u001b[0;34m,\u001b[0m\u001b[0;34m\u001b[0m\u001b[0;34m\u001b[0m\u001b[0m\n\u001b[0;32m---> 36\u001b[0;31m                                       initargs=initargs)\n\u001b[0m\u001b[1;32m     37\u001b[0m     \u001b[0;31m# If executor doesn't have a _temp_folder, it means it is a new executor\u001b[0m\u001b[0;34m\u001b[0m\u001b[0;34m\u001b[0m\u001b[0;34m\u001b[0m\u001b[0m\n\u001b[1;32m     38\u001b[0m     \u001b[0;31m# and the reducers have been used. Else, the previous reducers are used\u001b[0m\u001b[0;34m\u001b[0m\u001b[0;34m\u001b[0m\u001b[0;34m\u001b[0m\u001b[0m\n",
      "\u001b[0;32m~/anaconda3/lib/python3.7/site-packages/joblib/externals/loky/reusable_executor.py\u001b[0m in \u001b[0;36mget_reusable_executor\u001b[0;34m(max_workers, context, timeout, kill_workers, reuse, job_reducers, result_reducers, initializer, initargs)\u001b[0m\n\u001b[1;32m    106\u001b[0m             _executor = executor = _ReusablePoolExecutor(\n\u001b[1;32m    107\u001b[0m                 \u001b[0m_executor_lock\u001b[0m\u001b[0;34m,\u001b[0m \u001b[0mmax_workers\u001b[0m\u001b[0;34m=\u001b[0m\u001b[0mmax_workers\u001b[0m\u001b[0;34m,\u001b[0m\u001b[0;34m\u001b[0m\u001b[0;34m\u001b[0m\u001b[0m\n\u001b[0;32m--> 108\u001b[0;31m                 executor_id=executor_id, **kwargs)\n\u001b[0m\u001b[1;32m    109\u001b[0m         \u001b[0;32melse\u001b[0m\u001b[0;34m:\u001b[0m\u001b[0;34m\u001b[0m\u001b[0;34m\u001b[0m\u001b[0m\n\u001b[1;32m    110\u001b[0m             \u001b[0;32mif\u001b[0m \u001b[0mreuse\u001b[0m \u001b[0;34m==\u001b[0m \u001b[0;34m'auto'\u001b[0m\u001b[0;34m:\u001b[0m\u001b[0;34m\u001b[0m\u001b[0;34m\u001b[0m\u001b[0m\n",
      "\u001b[0;32m~/anaconda3/lib/python3.7/site-packages/joblib/externals/loky/reusable_executor.py\u001b[0m in \u001b[0;36m__init__\u001b[0;34m(self, submit_resize_lock, max_workers, context, timeout, executor_id, job_reducers, result_reducers, initializer, initargs)\u001b[0m\n\u001b[1;32m    142\u001b[0m             \u001b[0mmax_workers\u001b[0m\u001b[0;34m=\u001b[0m\u001b[0mmax_workers\u001b[0m\u001b[0;34m,\u001b[0m \u001b[0mcontext\u001b[0m\u001b[0;34m=\u001b[0m\u001b[0mcontext\u001b[0m\u001b[0;34m,\u001b[0m \u001b[0mtimeout\u001b[0m\u001b[0;34m=\u001b[0m\u001b[0mtimeout\u001b[0m\u001b[0;34m,\u001b[0m\u001b[0;34m\u001b[0m\u001b[0;34m\u001b[0m\u001b[0m\n\u001b[1;32m    143\u001b[0m             \u001b[0mjob_reducers\u001b[0m\u001b[0;34m=\u001b[0m\u001b[0mjob_reducers\u001b[0m\u001b[0;34m,\u001b[0m \u001b[0mresult_reducers\u001b[0m\u001b[0;34m=\u001b[0m\u001b[0mresult_reducers\u001b[0m\u001b[0;34m,\u001b[0m\u001b[0;34m\u001b[0m\u001b[0;34m\u001b[0m\u001b[0m\n\u001b[0;32m--> 144\u001b[0;31m             initializer=initializer, initargs=initargs)\n\u001b[0m\u001b[1;32m    145\u001b[0m         \u001b[0mself\u001b[0m\u001b[0;34m.\u001b[0m\u001b[0mexecutor_id\u001b[0m \u001b[0;34m=\u001b[0m \u001b[0mexecutor_id\u001b[0m\u001b[0;34m\u001b[0m\u001b[0;34m\u001b[0m\u001b[0m\n\u001b[1;32m    146\u001b[0m         \u001b[0mself\u001b[0m\u001b[0;34m.\u001b[0m\u001b[0m_submit_resize_lock\u001b[0m \u001b[0;34m=\u001b[0m \u001b[0msubmit_resize_lock\u001b[0m\u001b[0;34m\u001b[0m\u001b[0;34m\u001b[0m\u001b[0m\n",
      "\u001b[0;32m~/anaconda3/lib/python3.7/site-packages/joblib/externals/loky/process_executor.py\u001b[0m in \u001b[0;36m__init__\u001b[0;34m(self, max_workers, job_reducers, result_reducers, timeout, context, initializer, initargs)\u001b[0m\n\u001b[1;32m    908\u001b[0m         \u001b[0mself\u001b[0m\u001b[0;34m.\u001b[0m\u001b[0m_running_work_items\u001b[0m \u001b[0;34m=\u001b[0m \u001b[0;34m[\u001b[0m\u001b[0;34m]\u001b[0m\u001b[0;34m\u001b[0m\u001b[0;34m\u001b[0m\u001b[0m\n\u001b[1;32m    909\u001b[0m         \u001b[0mself\u001b[0m\u001b[0;34m.\u001b[0m\u001b[0m_work_ids\u001b[0m \u001b[0;34m=\u001b[0m \u001b[0mqueue\u001b[0m\u001b[0;34m.\u001b[0m\u001b[0mQueue\u001b[0m\u001b[0;34m(\u001b[0m\u001b[0;34m)\u001b[0m\u001b[0;34m\u001b[0m\u001b[0;34m\u001b[0m\u001b[0m\n\u001b[0;32m--> 910\u001b[0;31m         \u001b[0mself\u001b[0m\u001b[0;34m.\u001b[0m\u001b[0m_processes_management_lock\u001b[0m \u001b[0;34m=\u001b[0m \u001b[0mself\u001b[0m\u001b[0;34m.\u001b[0m\u001b[0m_context\u001b[0m\u001b[0;34m.\u001b[0m\u001b[0mLock\u001b[0m\u001b[0;34m(\u001b[0m\u001b[0;34m)\u001b[0m\u001b[0;34m\u001b[0m\u001b[0;34m\u001b[0m\u001b[0m\n\u001b[0m\u001b[1;32m    911\u001b[0m         \u001b[0mself\u001b[0m\u001b[0;34m.\u001b[0m\u001b[0m_queue_management_thread\u001b[0m \u001b[0;34m=\u001b[0m \u001b[0;32mNone\u001b[0m\u001b[0;34m\u001b[0m\u001b[0;34m\u001b[0m\u001b[0m\n\u001b[1;32m    912\u001b[0m \u001b[0;34m\u001b[0m\u001b[0m\n",
      "\u001b[0;32m~/anaconda3/lib/python3.7/site-packages/joblib/externals/loky/backend/context.py\u001b[0m in \u001b[0;36mLock\u001b[0;34m(self)\u001b[0m\n\u001b[1;32m    223\u001b[0m             \u001b[0;34m\"\"\"Returns a lock object\"\"\"\u001b[0m\u001b[0;34m\u001b[0m\u001b[0;34m\u001b[0m\u001b[0m\n\u001b[1;32m    224\u001b[0m             \u001b[0;32mfrom\u001b[0m \u001b[0;34m.\u001b[0m\u001b[0msynchronize\u001b[0m \u001b[0;32mimport\u001b[0m \u001b[0mLock\u001b[0m\u001b[0;34m\u001b[0m\u001b[0;34m\u001b[0m\u001b[0m\n\u001b[0;32m--> 225\u001b[0;31m             \u001b[0;32mreturn\u001b[0m \u001b[0mLock\u001b[0m\u001b[0;34m(\u001b[0m\u001b[0;34m)\u001b[0m\u001b[0;34m\u001b[0m\u001b[0;34m\u001b[0m\u001b[0m\n\u001b[0m\u001b[1;32m    226\u001b[0m \u001b[0;34m\u001b[0m\u001b[0m\n\u001b[1;32m    227\u001b[0m         \u001b[0;32mdef\u001b[0m \u001b[0mRLock\u001b[0m\u001b[0;34m(\u001b[0m\u001b[0mself\u001b[0m\u001b[0;34m)\u001b[0m\u001b[0;34m:\u001b[0m\u001b[0;34m\u001b[0m\u001b[0;34m\u001b[0m\u001b[0m\n",
      "\u001b[0;32m~/anaconda3/lib/python3.7/site-packages/joblib/externals/loky/backend/synchronize.py\u001b[0m in \u001b[0;36m__init__\u001b[0;34m(self)\u001b[0m\n\u001b[1;32m    172\u001b[0m \u001b[0;34m\u001b[0m\u001b[0m\n\u001b[1;32m    173\u001b[0m     \u001b[0;32mdef\u001b[0m \u001b[0m__init__\u001b[0m\u001b[0;34m(\u001b[0m\u001b[0mself\u001b[0m\u001b[0;34m)\u001b[0m\u001b[0;34m:\u001b[0m\u001b[0;34m\u001b[0m\u001b[0;34m\u001b[0m\u001b[0m\n\u001b[0;32m--> 174\u001b[0;31m         \u001b[0msuper\u001b[0m\u001b[0;34m(\u001b[0m\u001b[0mLock\u001b[0m\u001b[0;34m,\u001b[0m \u001b[0mself\u001b[0m\u001b[0;34m)\u001b[0m\u001b[0;34m.\u001b[0m\u001b[0m__init__\u001b[0m\u001b[0;34m(\u001b[0m\u001b[0mSEMAPHORE\u001b[0m\u001b[0;34m,\u001b[0m \u001b[0;36m1\u001b[0m\u001b[0;34m,\u001b[0m \u001b[0;36m1\u001b[0m\u001b[0;34m)\u001b[0m\u001b[0;34m\u001b[0m\u001b[0;34m\u001b[0m\u001b[0m\n\u001b[0m\u001b[1;32m    175\u001b[0m \u001b[0;34m\u001b[0m\u001b[0m\n\u001b[1;32m    176\u001b[0m     \u001b[0;32mdef\u001b[0m \u001b[0m__repr__\u001b[0m\u001b[0;34m(\u001b[0m\u001b[0mself\u001b[0m\u001b[0;34m)\u001b[0m\u001b[0;34m:\u001b[0m\u001b[0;34m\u001b[0m\u001b[0;34m\u001b[0m\u001b[0m\n",
      "\u001b[0;32m~/anaconda3/lib/python3.7/site-packages/joblib/externals/loky/backend/synchronize.py\u001b[0m in \u001b[0;36m__init__\u001b[0;34m(self, kind, value, maxvalue)\u001b[0m\n\u001b[1;32m     88\u001b[0m         \u001b[0;31m# When the object is garbage collected or the\u001b[0m\u001b[0;34m\u001b[0m\u001b[0;34m\u001b[0m\u001b[0;34m\u001b[0m\u001b[0m\n\u001b[1;32m     89\u001b[0m         \u001b[0;31m# process shuts down we unlink the semaphore name\u001b[0m\u001b[0;34m\u001b[0m\u001b[0;34m\u001b[0m\u001b[0;34m\u001b[0m\u001b[0m\n\u001b[0;32m---> 90\u001b[0;31m         \u001b[0msemaphore_tracker\u001b[0m\u001b[0;34m.\u001b[0m\u001b[0mregister\u001b[0m\u001b[0;34m(\u001b[0m\u001b[0mself\u001b[0m\u001b[0;34m.\u001b[0m\u001b[0m_semlock\u001b[0m\u001b[0;34m.\u001b[0m\u001b[0mname\u001b[0m\u001b[0;34m)\u001b[0m\u001b[0;34m\u001b[0m\u001b[0;34m\u001b[0m\u001b[0m\n\u001b[0m\u001b[1;32m     91\u001b[0m         util.Finalize(self, SemLock._cleanup, (self._semlock.name,),\n\u001b[1;32m     92\u001b[0m                       exitpriority=0)\n",
      "\u001b[0;32m~/anaconda3/lib/python3.7/site-packages/joblib/externals/loky/backend/semaphore_tracker.py\u001b[0m in \u001b[0;36mregister\u001b[0;34m(self, name)\u001b[0m\n\u001b[1;32m    118\u001b[0m     \u001b[0;32mdef\u001b[0m \u001b[0mregister\u001b[0m\u001b[0;34m(\u001b[0m\u001b[0mself\u001b[0m\u001b[0;34m,\u001b[0m \u001b[0mname\u001b[0m\u001b[0;34m)\u001b[0m\u001b[0;34m:\u001b[0m\u001b[0;34m\u001b[0m\u001b[0;34m\u001b[0m\u001b[0m\n\u001b[1;32m    119\u001b[0m         \u001b[0;34m'''Register name of semaphore with semaphore tracker.'''\u001b[0m\u001b[0;34m\u001b[0m\u001b[0;34m\u001b[0m\u001b[0m\n\u001b[0;32m--> 120\u001b[0;31m         \u001b[0mself\u001b[0m\u001b[0;34m.\u001b[0m\u001b[0mensure_running\u001b[0m\u001b[0;34m(\u001b[0m\u001b[0;34m)\u001b[0m\u001b[0;34m\u001b[0m\u001b[0;34m\u001b[0m\u001b[0m\n\u001b[0m\u001b[1;32m    121\u001b[0m         \u001b[0mself\u001b[0m\u001b[0;34m.\u001b[0m\u001b[0m_send\u001b[0m\u001b[0;34m(\u001b[0m\u001b[0;34m'REGISTER'\u001b[0m\u001b[0;34m,\u001b[0m \u001b[0mname\u001b[0m\u001b[0;34m)\u001b[0m\u001b[0;34m\u001b[0m\u001b[0;34m\u001b[0m\u001b[0m\n\u001b[1;32m    122\u001b[0m \u001b[0;34m\u001b[0m\u001b[0m\n",
      "\u001b[0;32m~/anaconda3/lib/python3.7/site-packages/joblib/externals/loky/backend/semaphore_tracker.py\u001b[0m in \u001b[0;36mensure_running\u001b[0;34m(self)\u001b[0m\n\u001b[1;32m     97\u001b[0m                 \u001b[0margs\u001b[0m \u001b[0;34m+=\u001b[0m \u001b[0;34m[\u001b[0m\u001b[0;34m'-c'\u001b[0m\u001b[0;34m,\u001b[0m \u001b[0mcmd\u001b[0m \u001b[0;34m%\u001b[0m \u001b[0mr\u001b[0m\u001b[0;34m]\u001b[0m\u001b[0;34m\u001b[0m\u001b[0;34m\u001b[0m\u001b[0m\n\u001b[1;32m     98\u001b[0m                 \u001b[0mutil\u001b[0m\u001b[0;34m.\u001b[0m\u001b[0mdebug\u001b[0m\u001b[0;34m(\u001b[0m\u001b[0;34m\"launching Semaphore tracker: {}\"\u001b[0m\u001b[0;34m.\u001b[0m\u001b[0mformat\u001b[0m\u001b[0;34m(\u001b[0m\u001b[0margs\u001b[0m\u001b[0;34m)\u001b[0m\u001b[0;34m)\u001b[0m\u001b[0;34m\u001b[0m\u001b[0;34m\u001b[0m\u001b[0m\n\u001b[0;32m---> 99\u001b[0;31m                 \u001b[0mpid\u001b[0m \u001b[0;34m=\u001b[0m \u001b[0mspawnv_passfds\u001b[0m\u001b[0;34m(\u001b[0m\u001b[0mexe\u001b[0m\u001b[0;34m,\u001b[0m \u001b[0margs\u001b[0m\u001b[0;34m,\u001b[0m \u001b[0mfds_to_pass\u001b[0m\u001b[0;34m)\u001b[0m\u001b[0;34m\u001b[0m\u001b[0;34m\u001b[0m\u001b[0m\n\u001b[0m\u001b[1;32m    100\u001b[0m             \u001b[0;32mexcept\u001b[0m \u001b[0mBaseException\u001b[0m\u001b[0;34m:\u001b[0m\u001b[0;34m\u001b[0m\u001b[0;34m\u001b[0m\u001b[0m\n\u001b[1;32m    101\u001b[0m                 \u001b[0mos\u001b[0m\u001b[0;34m.\u001b[0m\u001b[0mclose\u001b[0m\u001b[0;34m(\u001b[0m\u001b[0mw\u001b[0m\u001b[0;34m)\u001b[0m\u001b[0;34m\u001b[0m\u001b[0;34m\u001b[0m\u001b[0m\n",
      "\u001b[0;32m~/anaconda3/lib/python3.7/site-packages/joblib/externals/loky/backend/semaphore_tracker.py\u001b[0m in \u001b[0;36mspawnv_passfds\u001b[0;34m(path, args, passfds)\u001b[0m\n\u001b[1;32m    233\u001b[0m             \u001b[0m_pass\u001b[0m \u001b[0;34m+=\u001b[0m \u001b[0;34m[\u001b[0m\u001b[0m_mk_inheritable\u001b[0m\u001b[0;34m(\u001b[0m\u001b[0mfd\u001b[0m\u001b[0;34m)\u001b[0m\u001b[0;34m]\u001b[0m\u001b[0;34m\u001b[0m\u001b[0;34m\u001b[0m\u001b[0m\n\u001b[1;32m    234\u001b[0m         \u001b[0;32mfrom\u001b[0m \u001b[0;34m.\u001b[0m\u001b[0mfork_exec\u001b[0m \u001b[0;32mimport\u001b[0m \u001b[0mfork_exec\u001b[0m\u001b[0;34m\u001b[0m\u001b[0;34m\u001b[0m\u001b[0m\n\u001b[0;32m--> 235\u001b[0;31m         \u001b[0;32mreturn\u001b[0m \u001b[0mfork_exec\u001b[0m\u001b[0;34m(\u001b[0m\u001b[0margs\u001b[0m\u001b[0;34m,\u001b[0m \u001b[0m_pass\u001b[0m\u001b[0;34m)\u001b[0m\u001b[0;34m\u001b[0m\u001b[0;34m\u001b[0m\u001b[0m\n\u001b[0m\u001b[1;32m    236\u001b[0m     \u001b[0;32mfinally\u001b[0m\u001b[0;34m:\u001b[0m\u001b[0;34m\u001b[0m\u001b[0;34m\u001b[0m\u001b[0m\n\u001b[1;32m    237\u001b[0m         \u001b[0mos\u001b[0m\u001b[0;34m.\u001b[0m\u001b[0mclose\u001b[0m\u001b[0;34m(\u001b[0m\u001b[0merrpipe_read\u001b[0m\u001b[0;34m)\u001b[0m\u001b[0;34m\u001b[0m\u001b[0;34m\u001b[0m\u001b[0m\n",
      "\u001b[0;32m~/anaconda3/lib/python3.7/site-packages/joblib/externals/loky/backend/fork_exec.py\u001b[0m in \u001b[0;36mfork_exec\u001b[0;34m(cmd, keep_fds)\u001b[0m\n\u001b[1;32m     36\u001b[0m \u001b[0;32mdef\u001b[0m \u001b[0mfork_exec\u001b[0m\u001b[0;34m(\u001b[0m\u001b[0mcmd\u001b[0m\u001b[0;34m,\u001b[0m \u001b[0mkeep_fds\u001b[0m\u001b[0;34m)\u001b[0m\u001b[0;34m:\u001b[0m\u001b[0;34m\u001b[0m\u001b[0;34m\u001b[0m\u001b[0m\n\u001b[1;32m     37\u001b[0m \u001b[0;34m\u001b[0m\u001b[0m\n\u001b[0;32m---> 38\u001b[0;31m     \u001b[0mpid\u001b[0m \u001b[0;34m=\u001b[0m \u001b[0mos\u001b[0m\u001b[0;34m.\u001b[0m\u001b[0mfork\u001b[0m\u001b[0;34m(\u001b[0m\u001b[0;34m)\u001b[0m\u001b[0;34m\u001b[0m\u001b[0;34m\u001b[0m\u001b[0m\n\u001b[0m\u001b[1;32m     39\u001b[0m     \u001b[0;32mif\u001b[0m \u001b[0mpid\u001b[0m \u001b[0;34m==\u001b[0m \u001b[0;36m0\u001b[0m\u001b[0;34m:\u001b[0m  \u001b[0;31m# pragma: no cover\u001b[0m\u001b[0;34m\u001b[0m\u001b[0;34m\u001b[0m\u001b[0m\n\u001b[1;32m     40\u001b[0m         \u001b[0mclose_fds\u001b[0m\u001b[0;34m(\u001b[0m\u001b[0mkeep_fds\u001b[0m\u001b[0;34m)\u001b[0m\u001b[0;34m\u001b[0m\u001b[0;34m\u001b[0m\u001b[0m\n",
      "\u001b[0;31mOSError\u001b[0m: [Errno 12] Cannot allocate memory"
     ]
    }
   ],
   "source": [
    "from sklearn.model_selection import GridSearchCV\n",
    "param=[{\"max_features\":list(range(4,64,4))}]\n",
    "digit_rf= GridSearchCV(RandomForestClassifier(n_estimators=50),param,cv=5,n_jobs=-1)\n",
    "digit_rfOpt=digit_rf.fit(X_train_2[0:1000], y_train_2[0:1000])\n",
    "# paramètre optimal\n",
    "digit_rfOpt.best_params_"
   ]
  },
  {
   "cell_type": "markdown",
   "metadata": {},
   "source": [
    "Comme pour les autres méthodes, l'objet `GridSearchCV` ne propose pas tous les attributs et donc pas d'erreur *out-of-bag* ou d'importance des variables. Voir le tutoriel sur la [prévision du pic d'ozone](https://github.com/wikistat/Apprentissage/tree/master/Pic-ozone) pour plus de détails."
   ]
  },
  {
   "cell_type": "code",
   "execution_count": 16,
   "metadata": {},
   "outputs": [
    {
     "ename": "NameError",
     "evalue": "name 'digit_rfOpt' is not defined",
     "output_type": "error",
     "traceback": [
      "\u001b[0;31m---------------------------------------------------------------------------\u001b[0m",
      "\u001b[0;31mNameError\u001b[0m                                 Traceback (most recent call last)",
      "\u001b[0;32m<ipython-input-16-e8746c842d0f>\u001b[0m in \u001b[0;36m<module>\u001b[0;34m\u001b[0m\n\u001b[1;32m      1\u001b[0m \u001b[0;31m# erreur de prévision sur le test\u001b[0m\u001b[0;34m\u001b[0m\u001b[0;34m\u001b[0m\u001b[0;34m\u001b[0m\u001b[0m\n\u001b[0;32m----> 2\u001b[0;31m \u001b[0;36m1\u001b[0m\u001b[0;34m-\u001b[0m\u001b[0mdigit_rfOpt\u001b[0m\u001b[0;34m.\u001b[0m\u001b[0mscore\u001b[0m\u001b[0;34m(\u001b[0m\u001b[0mX_test_2\u001b[0m\u001b[0;34m,\u001b[0m\u001b[0my_test_2\u001b[0m\u001b[0;34m)\u001b[0m\u001b[0;34m\u001b[0m\u001b[0;34m\u001b[0m\u001b[0m\n\u001b[0m",
      "\u001b[0;31mNameError\u001b[0m: name 'digit_rfOpt' is not defined"
     ]
    }
   ],
   "source": [
    "# erreur de prévision sur le test\n",
    "1-digit_rfOpt.score(X_test_2,y_test_2)"
   ]
  },
  {
   "cell_type": "code",
   "execution_count": null,
   "metadata": {},
   "outputs": [],
   "source": [
    "# prévision\n",
    "y_chap = digit_rfOpt.predict(X_test)\n",
    "# matrice de confusion\n",
    "table=pd.crosstab(y_test,y_chap)\n",
    "print(table)\n",
    "plt.matshow(table)\n",
    "plt.title(\"Matrice de Confusion\")\n",
    "plt.colorbar()\n",
    "plt.show()"
   ]
  },
  {
   "cell_type": "markdown",
   "metadata": {},
   "source": [
    "## 6 Fonction *pipeline*\n",
    "Pour enchaîner et brancher (*plugin*) plusieurs traitements, généralement des transformations suivies d'une modélisation. Utiliser les fonctionnalités de cette section sans modération afin d'optimiser la structure et l'efficacité (parallélisation) de codes complexes. \n",
    "\n",
    "### 6.1 Familles de transformations (*transformers*)\n",
    "Classification ou régression sont souvent la dernière étape d'un procédé long et complexe. Dans la \"vraie vie\", les données ont besoin d'être extraites, sélectionnées, nettoyées, standardisées, complétées... (*data munging*) avant d'alimenter un algorithme d'apprentissage. Pour structurer le code, *Sciki-learn* propose d'utiliser le principe d'une API (*application programming interface*) nommée *transformer*. \n",
    "\n",
    "Ces fonctionnalités sont illustrées sur les mêmes données de reconnaissance de caractères. "
   ]
  },
  {
   "cell_type": "code",
   "execution_count": null,
   "metadata": {},
   "outputs": [],
   "source": [
    "# Rechargement des données\n",
    "from sklearn.datasets import load_digits\n",
    "from sklearn.model_selection import train_test_split\n",
    "digits = load_digits()\n",
    "X, y = digits.data, digits.target\n",
    "X_train, X_test, y_train, y_test = train_test_split(X, y, random_state=0)\n",
    "\n",
    "# Plot\n",
    "sample_id = 42\n",
    "plt.imshow(X[sample_id].reshape((8, 8)), interpolation=\"nearest\", cmap=plt.cm.Blues)\n",
    "plt.title(\"y = %d\" % y[sample_id])\n",
    "plt.show()"
   ]
  },
  {
   "cell_type": "markdown",
   "metadata": {},
   "source": [
    "#### Normalisations, réductions"
   ]
  },
  {
   "cell_type": "code",
   "execution_count": null,
   "metadata": {},
   "outputs": [],
   "source": [
    "import numpy as np\n",
    "from sklearn.preprocessing import StandardScaler\n",
    "tf = StandardScaler()\n",
    "tf.fit(X_train, y_train)\n",
    "Xt_train = tf.transform(X)  \n",
    "print(\"Moyenne avant centrage et réduction =\", np.mean(X_train))\n",
    "print(\"Moyenne après centrage et réduction =\", np.mean(Xt_train))\n",
    "# See also Binarizer, MinMaxScaler, Normalizer, ..."
   ]
  },
  {
   "cell_type": "code",
   "execution_count": null,
   "metadata": {},
   "outputs": [],
   "source": [
    "# Raccourci: Xt = tf.fit_transform(X)\n",
    "tf.fit_transform(X)"
   ]
  },
  {
   "cell_type": "code",
   "execution_count": null,
   "metadata": {},
   "outputs": [],
   "source": [
    "# NB. La standardisation préalable est indispensable pour certains algorithmes\n",
    "# notamment les SVM\n",
    "from sklearn.svm import SVC\n",
    "clf = SVC()\n",
    "# Calcul des scores (bien classés)\n",
    "print(\"Sans standardisation =\", clf.fit(X_train, y_train).score(X_test, y_test))\n",
    "print(\"Avec standardisation =\", clf.fit(tf.transform(X_train), y_train).score(tf.transform(X_test), y_test))"
   ]
  },
  {
   "cell_type": "markdown",
   "metadata": {},
   "source": [
    "#### Sélection de variables par élimination pas à pas\n",
    "La proicédure `RFE` (*récursive feature selection*) supprime une à une les variables les moins significatives ou moins importantes au sens du critère du modèle utilisé; dans cet exemple, il s'agit des forêts aléatoires."
   ]
  },
  {
   "cell_type": "code",
   "execution_count": null,
   "metadata": {},
   "outputs": [],
   "source": [
    "# Sélection de variables par élémination pas à pas\n",
    "from sklearn.feature_selection import RFE\n",
    "from sklearn.ensemble import RandomForestClassifier\n",
    "tf = RFE(RandomForestClassifier(), n_features_to_select=10, verbose=1)\n",
    "Xt = tf.fit_transform(X_train, y_train)\n",
    "print(\"Shape =\", Xt.shape)\n",
    "\n",
    "# Variables (pixels) sélectionnées\n",
    "plt.imshow(tf.get_support().reshape((8, 8)), interpolation=\"nearest\", cmap=plt.cm.Blues)\n",
    "plt.show()"
   ]
  },
  {
   "cell_type": "markdown",
   "metadata": {},
   "source": [
    "#### Décomposition, factorisation, réduction de dimension\n",
    "Possibilité, par exemple, de récupérer les *q* premières composantes principales de l'ACP comme résultat d'une transformation."
   ]
  },
  {
   "cell_type": "code",
   "execution_count": null,
   "metadata": {},
   "outputs": [],
   "source": [
    "# par ACP ou SVD\n",
    "from sklearn.decomposition import PCA\n",
    "tf = PCA(n_components=2)\n",
    "Xt_train = tf.fit_transform(X_train)"
   ]
  },
  {
   "cell_type": "markdown",
   "metadata": {},
   "source": [
    "####  Fonction  de transformation définie par l'utilisateur\n",
    "Une fonction de transformation ou *transformer* est définie et s'applique à un jeu de données avec la syntaxe ci-dessous."
   ]
  },
  {
   "cell_type": "code",
   "execution_count": null,
   "metadata": {},
   "outputs": [],
   "source": [
    "from sklearn.preprocessing import FunctionTransformer\n",
    "def increment(X):\n",
    "    return X + 1\n",
    "tf = FunctionTransformer(func=increment)\n",
    "Xt = tf.fit_transform(X)\n",
    "print(X[0])\n",
    "print(Xt[0])"
   ]
  },
  {
   "cell_type": "markdown",
   "metadata": {},
   "source": [
    "### 6.4 *Pipelines*\n",
    "\n",
    "Des transformations sont chaînées en une séquence constituant un *pipeline*."
   ]
  },
  {
   "cell_type": "code",
   "execution_count": null,
   "metadata": {},
   "outputs": [],
   "source": [
    "from sklearn.pipeline import make_pipeline\n",
    "from sklearn.preprocessing import StandardScaler\n",
    "from sklearn.feature_selection import RFE\n",
    "#tf = RFE(RandomForestClassifier(), n_features_to_select=10)\n",
    "# La succession de deux transformeurs constituent un transformeur\n",
    "tf = make_pipeline(StandardScaler(), RFE(RandomForestClassifier(),n_features_to_select=10))\n",
    "tf.fit(X_train, y_train)"
   ]
  },
  {
   "cell_type": "code",
   "execution_count": null,
   "metadata": {},
   "outputs": [],
   "source": [
    "Xt_train = tf.transform(X_train)\n",
    "print(\"Mean =\", np.mean(Xt_train))\n",
    "print(\"Shape =\", Xt_train.shape)"
   ]
  },
  {
   "cell_type": "markdown",
   "metadata": {},
   "source": [
    "Une chaîne de transformations suivi d'un classifieur construisent un nouveau classifieur"
   ]
  },
  {
   "cell_type": "code",
   "execution_count": null,
   "metadata": {},
   "outputs": [],
   "source": [
    "clf = make_pipeline(StandardScaler(), \n",
    "                    RFE(RandomForestClassifier(), n_features_to_select=10), \n",
    "                    RandomForestClassifier())\n",
    "clf.fit(X_train, y_train)\n",
    "print(clf.predict_proba(X_test)[:5])"
   ]
  },
  {
   "cell_type": "code",
   "execution_count": null,
   "metadata": {},
   "outputs": [],
   "source": [
    "# L'hyperparamètre est accessible\n",
    "print(\"n_features =\", clf.get_params()[\"rfe__estimator__n_estimators\"])"
   ]
  },
  {
   "cell_type": "markdown",
   "metadata": {},
   "source": [
    "L'optimisation des paramètres par validation croisée est obtenue avec la même fonction mais peut prendre  du temps si plusieurs paramètres sont cocernés! Le pipeline construit à titre illustratif  n'est certainement pas optimal."
   ]
  },
  {
   "cell_type": "code",
   "execution_count": null,
   "metadata": {},
   "outputs": [],
   "source": [
    "grid = GridSearchCV(clf, param_grid={\"rfe__estimator__n_estimators\": [5, 10],\n",
    "                    \"randomforestclassifier__max_features\": [0.1, 0.25, 0.5]})\n",
    "grid.fit(X_train, y_train)\n",
    "print(\"Valeurs optimales =\", grid.best_params_)"
   ]
  },
  {
   "cell_type": "markdown",
   "metadata": {},
   "source": [
    "### 6.5 Union de caractéristiques\n",
    "\n",
    "Des transformations sont appliquées en parallèle pour réunir en un seul ensemble des transformations des données."
   ]
  },
  {
   "cell_type": "code",
   "execution_count": null,
   "metadata": {},
   "outputs": [],
   "source": [
    "from sklearn.pipeline import make_union\n",
    "from sklearn.decomposition import PCA, FastICA\n",
    "tf = make_union(PCA(n_components=10), FastICA(n_components=10))\n",
    "Xt_train = tf.fit_transform(X_train)\n",
    "print(\"Shape =\", Xt_train.shape)"
   ]
  },
  {
   "cell_type": "markdown",
   "metadata": {},
   "source": [
    "### 6.6 Compositions emboîtées\n",
    "\n",
    "Comme des  pipelines and des unions sont eux-mêmes des estimateurs, ils peuvent être composés dans une structure emboîtée pour construire des combinaisons complexes de modèles comme ceux remportant les concours de type [*kaggle](https://www.kaggle.com/).\n",
    "\n",
    "Les données initiales sont unies aux composantes de l'ACP, puis les variables les plus importantes au sens des forêts aléatoires sont sélectionnées avant de servir à l'apprentissage d'un réseau de neurones. Ce n'est sûrement pas une stratégie optimale !"
   ]
  },
  {
   "cell_type": "code",
   "execution_count": null,
   "metadata": {},
   "outputs": [],
   "source": [
    "from sklearn.ensemble import RandomForestClassifier\n",
    "from sklearn.neural_network import MLPClassifier\n",
    "\n",
    "clf = make_pipeline(\n",
    "    # Build features\n",
    "    make_union(\n",
    "        FunctionTransformer(func=lambda X: X), PCA(),), \n",
    "    # Select the best features\n",
    "    RFE(RandomForestClassifier(), n_features_to_select=10),\n",
    "    # Train\n",
    "    MLPClassifier(max_iter=500)\n",
    ")\n",
    "\n",
    "clf.fit(X_train, y_train)"
   ]
  },
  {
   "cell_type": "markdown",
   "metadata": {},
   "source": [
    "Effectivement la combinaison n'est pas optimale:"
   ]
  },
  {
   "cell_type": "code",
   "execution_count": null,
   "metadata": {},
   "outputs": [],
   "source": [
    "# erreur de test\n",
    "1-clf.score(X_test,y_test)"
   ]
  }
 ],
 "metadata": {
  "hide_input": false,
  "kernelspec": {
   "display_name": "Python 3",
   "language": "python",
   "name": "python3"
  },
  "language_info": {
   "codemirror_mode": {
    "name": "ipython",
    "version": 3
   },
   "file_extension": ".py",
   "mimetype": "text/x-python",
   "name": "python",
   "nbconvert_exporter": "python",
   "pygments_lexer": "ipython3",
   "version": "3.7.4"
  },
  "toc": {
   "nav_menu": {},
   "number_sections": true,
   "sideBar": true,
   "skip_h1_title": false,
   "toc_cell": false,
   "toc_position": {},
   "toc_section_display": "block",
   "toc_window_display": false
  }
 },
 "nbformat": 4,
 "nbformat_minor": 1
}
