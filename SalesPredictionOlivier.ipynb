{
 "cells": [
  {
   "cell_type": "markdown",
   "metadata": {},
   "source": [
    "<center>\n",
    "<a href=\"http://www.insa-toulouse.fr/\" ><img src=\"http://www.math.univ-toulouse.fr/~besse/Wikistat/Images/logo-insa.jpg\" style=\"float:left; max-width: 120px; display: inline\" alt=\"INSA\"/></a> \n",
    "\n",
    "<a href=\"http://wikistat.fr/\" ><img src=\"http://www.math.univ-toulouse.fr/~besse/Wikistat/Images/wikistat.jpg\" style=\"float:right; max-width: 250px; display: inline\"  alt=\"Wikistat\"/></a>\n",
    "\n",
    "</center>"
   ]
  },
  {
   "cell_type": "markdown",
   "metadata": {},
   "source": [
    "# <a href=\"https://www.python.org/\"><img src=\"https://upload.wikimedia.org/wikipedia/commons/thumb/f/f8/Python_logo_and_wordmark.svg/390px-Python_logo_and_wordmark.svg.png\" style=\"max-width: 200px; display: inline\" alt=\"Python\"/></a> [pour Statistique et Science des Données](https://github.com/wikistat/Intro-Python)"
   ]
  },
  {
   "cell_type": "markdown",
   "metadata": {},
   "source": [
    "# Apprentissage Statistique / Machine avec <a href=\"https://www.python.org/\"><img src=\"https://upload.wikimedia.org/wikipedia/commons/thumb/f/f8/Python_logo_and_wordmark.svg/390px-Python_logo_and_wordmark.svg.png\" style=\"max-width: 150px; display: inline\" alt=\"Python\"/></a> & <a href=\"http://scikit-learn.org/stable/#\"><img src=\"http://scikit-learn.org/stable/_static/scikit-learn-logo-small.png\" style=\"max-width: 180px; display: inline\" alt=\"Scikit-Learn\"/></a>\n",
    "**Résumé**: Ce calepin introduit l'utilisation de la librairie `scikit-learn` pour la modélisation et l'apprentissage. Pourquoi utiliser `scikit-learn` ? Ou non ? Liste des fonctionnalités, quelques exemples de mise en oeuvre de modélisation ([régression logistique](http://wikistat.fr/pdf/st-m-app-rlogit.pdf), [$k$-plus proches voisins](http://wikistat.fr/pdf/st-m-app-add.pdf), [arbres de décision](http://wikistat.fr/pdf/st-m-app-cart.pdf), [forêts aléatoires](http://wikistat.fr/pdf/st-m-app-agreg.pdf). Optimisation des paramètres (complexité) des modèles par [validation croisée](http://wikistat.fr/pdf/st-m-app-risque-estim.pdf). Fontions de chaînage (*pipeline*) de transformations et estimations. D'autres fonctionalités de `Scikit-learn` sont abordées dans les calepins du [dépot sur l'apprentissage](https://github.com/wikistat/Apprentissage) statistique. "
   ]
  },
  {
   "cell_type": "markdown",
   "metadata": {},
   "source": [
    "# <FONT COLOR=\"Red\">Première partie: Exploration</font>"
   ]
  },
  {
   "cell_type": "markdown",
   "metadata": {},
   "source": [
    "### 1. Données \"Magasins\""
   ]
  },
  {
   "cell_type": "code",
   "execution_count": 11,
   "metadata": {
    "scrolled": true
   },
   "outputs": [
    {
     "data": {
      "text/plain": [
       "ID                      int64\n",
       "Day                     int64\n",
       "Date                   object\n",
       "Number_of_Customers     int64\n",
       "Open                    int64\n",
       "Promo                   int64\n",
       "State_Holiday          object\n",
       "School_Holiday          int64\n",
       "Sales                   int64\n",
       "dtype: object"
      ]
     },
     "execution_count": 11,
     "metadata": {},
     "output_type": "execute_result"
    }
   ],
   "source": [
    "# Lire les données d'apprentissage\n",
    "import pandas as pd\n",
    "path='/home/odemoly/Documents/Certificat_BD/Second_Projet/2 - public_dat/'  # si les données sont déjà dans le répertoire courant\n",
    "# path='http://www.math.univ-toulouse.fr/~besse/Wikistat/data/'\n",
    "input_string_train = path + 'store_train.data'\n",
    "#df_train = pd.DataFrame([x.split(' ') for x in input_string_train.split('\\n')],columns=[\"ID\",\"Day\",\"Date\",\"Number_of_Customers\",\"Open\",\"Promo\",\"State_Holiday\",\"School_Holiday\"],\n",
    "                  #dtype=int)\n",
    "                  #{\"ID\":int,\"Day\":int,\"Date\":object,\"Number_of_Customers\":int,\"Open\":int,\"Promo\":int,\"State_Holiday\":int,\"School_Holiday\":int})\n",
    "df_train = pd.read_csv(input_string_train ,sep=\" \",header=None, names = [\"ID\", \"Day\", \"Date\", \"Number_of_Customers\", \"Open\", \"Promo\", \"State_Holiday\", \"School_Holiday\"])\n",
    "\n",
    "# Lire les données de test\n",
    "input_string_test = path + 'store_test.data'\n",
    "df_test = pd.read_csv(input_string_test ,sep=\" \",header=None, names = [\"ID\", \"Day\", \"Date\", \"Number_of_Customers\", \"Open\", \"Promo\", \"State_Holiday\", \"School_Holiday\"])\n",
    "\n",
    "\n",
    "\n",
    "##### solutions\n",
    "input_string_sol = path + 'store_train.solution'\n",
    "df_sol = pd.read_csv(input_string_sol ,sep=\" \",header=None, names = [\"Sales\"])\n",
    "\n",
    "\n",
    "df_full_train=pd.concat([df_train,df_sol],axis=1)\n",
    "\n",
    "df_train = df_full_train\n",
    "df_train.dtypes"
   ]
  },
  {
   "cell_type": "code",
   "execution_count": 12,
   "metadata": {},
   "outputs": [
    {
     "data": {
      "text/plain": [
       "ID                              int64\n",
       "Day                          category\n",
       "Date                   datetime64[ns]\n",
       "Number_of_Customers             int64\n",
       "Open                             bool\n",
       "Promo                            bool\n",
       "State_Holiday                category\n",
       "School_Holiday                   bool\n",
       "Month                           int64\n",
       "dtype: object"
      ]
     },
     "execution_count": 12,
     "metadata": {},
     "output_type": "execute_result"
    }
   ],
   "source": [
    "# Redéfinir les types \n",
    "df_train[\"ID\"]=pd.DataFrame(df_train[\"ID\"], dtype=int)\n",
    "#df_train[\"Day\"]=pd.DataFrame(df_train[\"Day\"],dtype=int)\n",
    "df_train[\"Day\"]=pd.Categorical(df_train[\"Day\"],ordered=True)\n",
    "df_train[\"Date\"]=pd.DataFrame(df_train[\"Date\"],dtype=\"datetime64[ns]\")\n",
    "df_train[\"Open\"]=pd.DataFrame(df_train[\"Open\"],dtype=bool)\n",
    "df_train[\"Promo\"]=pd.DataFrame(df_train[\"Promo\"],dtype=bool)\n",
    "df_train[\"State_Holiday\"]=pd.Categorical(df_train[\"State_Holiday\"], ordered=False)\n",
    "df_train[\"School_Holiday\"]=pd.DataFrame(df_train[\"School_Holiday\"],dtype=bool)\n",
    "df_train[\"Number_of_Customers\"]=pd.DataFrame(df_train[\"Number_of_Customers\"],dtype=int)\n",
    "df_train[\"Sales\"]=pd.DataFrame(df_train[\"Sales\"],dtype=int)\n",
    "df_train['Month'] = df_train['Date'].map(lambda d: d.month)\n",
    "df_train[\"Month\"]=pd.DataFrame(df_train[\"Month\"],dtype=int)\n",
    "\n",
    "\n",
    "\n",
    "# Redéfinir les types \n",
    "df_test[\"ID\"]=pd.DataFrame(df_test[\"ID\"],dtype=int)\n",
    "#df_test[\"Day\"]=pd.DataFrame(df_test[\"Day\"],dtype=int)\n",
    "df_test[\"Day\"]=pd.Categorical(df_test[\"Day\"],ordered=True)\n",
    "df_test[\"Date\"]=pd.DataFrame(df_test[\"Date\"],dtype=\"datetime64[ns]\")\n",
    "df_test[\"Open\"]=pd.DataFrame(df_test[\"Open\"],dtype=bool)\n",
    "df_test[\"Promo\"]=pd.DataFrame(df_test[\"Promo\"],dtype=bool)\n",
    "df_test[\"State_Holiday\"]=pd.Categorical(df_test[\"State_Holiday\"],ordered=False)\n",
    "df_test[\"School_Holiday\"]=pd.DataFrame(df_test[\"School_Holiday\"],dtype=bool)\n",
    "df_test[\"Number_of_Customers\"]=pd.DataFrame(df_test[\"Number_of_Customers\"],dtype=int)\n",
    "df_test['Month'] = df_test['Date'].map(lambda d: d.month)\n",
    "df_test[\"Month\"]=pd.DataFrame(df_test[\"Month\"],dtype=int)\n",
    "df_test.dtypes"
   ]
  },
  {
   "cell_type": "code",
   "execution_count": 13,
   "metadata": {},
   "outputs": [
    {
     "data": {
      "text/html": [
       "<div>\n",
       "<style scoped>\n",
       "    .dataframe tbody tr th:only-of-type {\n",
       "        vertical-align: middle;\n",
       "    }\n",
       "\n",
       "    .dataframe tbody tr th {\n",
       "        vertical-align: top;\n",
       "    }\n",
       "\n",
       "    .dataframe thead th {\n",
       "        text-align: right;\n",
       "    }\n",
       "</style>\n",
       "<table border=\"1\" class=\"dataframe\">\n",
       "  <thead>\n",
       "    <tr style=\"text-align: right;\">\n",
       "      <th></th>\n",
       "      <th>ID</th>\n",
       "      <th>Day</th>\n",
       "      <th>Date</th>\n",
       "      <th>Number_of_Customers</th>\n",
       "      <th>Open</th>\n",
       "      <th>Promo</th>\n",
       "      <th>State_Holiday</th>\n",
       "      <th>School_Holiday</th>\n",
       "      <th>Sales</th>\n",
       "      <th>Month</th>\n",
       "    </tr>\n",
       "  </thead>\n",
       "  <tbody>\n",
       "    <tr>\n",
       "      <th>0</th>\n",
       "      <td>625</td>\n",
       "      <td>3</td>\n",
       "      <td>2013-11-06</td>\n",
       "      <td>641</td>\n",
       "      <td>True</td>\n",
       "      <td>True</td>\n",
       "      <td>0</td>\n",
       "      <td>False</td>\n",
       "      <td>7293</td>\n",
       "      <td>11</td>\n",
       "    </tr>\n",
       "    <tr>\n",
       "      <th>1</th>\n",
       "      <td>293</td>\n",
       "      <td>2</td>\n",
       "      <td>2013-07-16</td>\n",
       "      <td>877</td>\n",
       "      <td>True</td>\n",
       "      <td>True</td>\n",
       "      <td>0</td>\n",
       "      <td>True</td>\n",
       "      <td>7060</td>\n",
       "      <td>7</td>\n",
       "    </tr>\n",
       "    <tr>\n",
       "      <th>2</th>\n",
       "      <td>39</td>\n",
       "      <td>4</td>\n",
       "      <td>2014-01-23</td>\n",
       "      <td>561</td>\n",
       "      <td>True</td>\n",
       "      <td>True</td>\n",
       "      <td>0</td>\n",
       "      <td>False</td>\n",
       "      <td>4565</td>\n",
       "      <td>1</td>\n",
       "    </tr>\n",
       "    <tr>\n",
       "      <th>3</th>\n",
       "      <td>676</td>\n",
       "      <td>4</td>\n",
       "      <td>2013-09-26</td>\n",
       "      <td>1584</td>\n",
       "      <td>True</td>\n",
       "      <td>True</td>\n",
       "      <td>0</td>\n",
       "      <td>False</td>\n",
       "      <td>6380</td>\n",
       "      <td>9</td>\n",
       "    </tr>\n",
       "    <tr>\n",
       "      <th>4</th>\n",
       "      <td>709</td>\n",
       "      <td>3</td>\n",
       "      <td>2014-01-22</td>\n",
       "      <td>1477</td>\n",
       "      <td>True</td>\n",
       "      <td>True</td>\n",
       "      <td>0</td>\n",
       "      <td>False</td>\n",
       "      <td>11647</td>\n",
       "      <td>1</td>\n",
       "    </tr>\n",
       "    <tr>\n",
       "      <th>...</th>\n",
       "      <td>...</td>\n",
       "      <td>...</td>\n",
       "      <td>...</td>\n",
       "      <td>...</td>\n",
       "      <td>...</td>\n",
       "      <td>...</td>\n",
       "      <td>...</td>\n",
       "      <td>...</td>\n",
       "      <td>...</td>\n",
       "      <td>...</td>\n",
       "    </tr>\n",
       "    <tr>\n",
       "      <th>712040</th>\n",
       "      <td>674</td>\n",
       "      <td>6</td>\n",
       "      <td>2014-09-20</td>\n",
       "      <td>611</td>\n",
       "      <td>True</td>\n",
       "      <td>False</td>\n",
       "      <td>0</td>\n",
       "      <td>False</td>\n",
       "      <td>4702</td>\n",
       "      <td>9</td>\n",
       "    </tr>\n",
       "    <tr>\n",
       "      <th>712041</th>\n",
       "      <td>1014</td>\n",
       "      <td>4</td>\n",
       "      <td>2015-01-15</td>\n",
       "      <td>1267</td>\n",
       "      <td>True</td>\n",
       "      <td>True</td>\n",
       "      <td>0</td>\n",
       "      <td>False</td>\n",
       "      <td>12545</td>\n",
       "      <td>1</td>\n",
       "    </tr>\n",
       "    <tr>\n",
       "      <th>712042</th>\n",
       "      <td>135</td>\n",
       "      <td>6</td>\n",
       "      <td>2015-06-20</td>\n",
       "      <td>595</td>\n",
       "      <td>True</td>\n",
       "      <td>False</td>\n",
       "      <td>0</td>\n",
       "      <td>False</td>\n",
       "      <td>5823</td>\n",
       "      <td>6</td>\n",
       "    </tr>\n",
       "    <tr>\n",
       "      <th>712043</th>\n",
       "      <td>810</td>\n",
       "      <td>1</td>\n",
       "      <td>2014-08-18</td>\n",
       "      <td>599</td>\n",
       "      <td>True</td>\n",
       "      <td>True</td>\n",
       "      <td>0</td>\n",
       "      <td>True</td>\n",
       "      <td>7986</td>\n",
       "      <td>8</td>\n",
       "    </tr>\n",
       "    <tr>\n",
       "      <th>712044</th>\n",
       "      <td>592</td>\n",
       "      <td>1</td>\n",
       "      <td>2013-03-18</td>\n",
       "      <td>798</td>\n",
       "      <td>True</td>\n",
       "      <td>True</td>\n",
       "      <td>0</td>\n",
       "      <td>False</td>\n",
       "      <td>6565</td>\n",
       "      <td>3</td>\n",
       "    </tr>\n",
       "  </tbody>\n",
       "</table>\n",
       "<p>712045 rows × 10 columns</p>\n",
       "</div>"
      ],
      "text/plain": [
       "          ID Day       Date  Number_of_Customers  Open  Promo State_Holiday  \\\n",
       "0        625   3 2013-11-06                  641  True   True             0   \n",
       "1        293   2 2013-07-16                  877  True   True             0   \n",
       "2         39   4 2014-01-23                  561  True   True             0   \n",
       "3        676   4 2013-09-26                 1584  True   True             0   \n",
       "4        709   3 2014-01-22                 1477  True   True             0   \n",
       "...      ...  ..        ...                  ...   ...    ...           ...   \n",
       "712040   674   6 2014-09-20                  611  True  False             0   \n",
       "712041  1014   4 2015-01-15                 1267  True   True             0   \n",
       "712042   135   6 2015-06-20                  595  True  False             0   \n",
       "712043   810   1 2014-08-18                  599  True   True             0   \n",
       "712044   592   1 2013-03-18                  798  True   True             0   \n",
       "\n",
       "        School_Holiday  Sales  Month  \n",
       "0                False   7293     11  \n",
       "1                 True   7060      7  \n",
       "2                False   4565      1  \n",
       "3                False   6380      9  \n",
       "4                False  11647      1  \n",
       "...                ...    ...    ...  \n",
       "712040           False   4702      9  \n",
       "712041           False  12545      1  \n",
       "712042           False   5823      6  \n",
       "712043            True   7986      8  \n",
       "712044           False   6565      3  \n",
       "\n",
       "[712045 rows x 10 columns]"
      ]
     },
     "execution_count": 13,
     "metadata": {},
     "output_type": "execute_result"
    }
   ],
   "source": [
    "df_train"
   ]
  },
  {
   "cell_type": "code",
   "execution_count": 14,
   "metadata": {},
   "outputs": [
    {
     "data": {
      "text/html": [
       "<div>\n",
       "<style scoped>\n",
       "    .dataframe tbody tr th:only-of-type {\n",
       "        vertical-align: middle;\n",
       "    }\n",
       "\n",
       "    .dataframe tbody tr th {\n",
       "        vertical-align: top;\n",
       "    }\n",
       "\n",
       "    .dataframe thead th {\n",
       "        text-align: right;\n",
       "    }\n",
       "</style>\n",
       "<table border=\"1\" class=\"dataframe\">\n",
       "  <thead>\n",
       "    <tr style=\"text-align: right;\">\n",
       "      <th></th>\n",
       "      <th>ID</th>\n",
       "      <th>Number_of_Customers</th>\n",
       "      <th>Sales</th>\n",
       "      <th>Month</th>\n",
       "    </tr>\n",
       "  </thead>\n",
       "  <tbody>\n",
       "    <tr>\n",
       "      <th>count</th>\n",
       "      <td>712045.000000</td>\n",
       "      <td>712045.000000</td>\n",
       "      <td>712045.000000</td>\n",
       "      <td>712045.000000</td>\n",
       "    </tr>\n",
       "    <tr>\n",
       "      <th>mean</th>\n",
       "      <td>558.314199</td>\n",
       "      <td>633.399958</td>\n",
       "      <td>5776.336748</td>\n",
       "      <td>5.846452</td>\n",
       "    </tr>\n",
       "    <tr>\n",
       "      <th>std</th>\n",
       "      <td>321.898476</td>\n",
       "      <td>464.360651</td>\n",
       "      <td>3851.273075</td>\n",
       "      <td>3.325709</td>\n",
       "    </tr>\n",
       "    <tr>\n",
       "      <th>min</th>\n",
       "      <td>1.000000</td>\n",
       "      <td>0.000000</td>\n",
       "      <td>0.000000</td>\n",
       "      <td>1.000000</td>\n",
       "    </tr>\n",
       "    <tr>\n",
       "      <th>10%</th>\n",
       "      <td>112.000000</td>\n",
       "      <td>0.000000</td>\n",
       "      <td>0.000000</td>\n",
       "      <td>1.000000</td>\n",
       "    </tr>\n",
       "    <tr>\n",
       "      <th>20%</th>\n",
       "      <td>225.000000</td>\n",
       "      <td>325.000000</td>\n",
       "      <td>2939.000000</td>\n",
       "      <td>3.000000</td>\n",
       "    </tr>\n",
       "    <tr>\n",
       "      <th>30%</th>\n",
       "      <td>335.000000</td>\n",
       "      <td>456.000000</td>\n",
       "      <td>4236.000000</td>\n",
       "      <td>4.000000</td>\n",
       "    </tr>\n",
       "    <tr>\n",
       "      <th>40%</th>\n",
       "      <td>446.000000</td>\n",
       "      <td>536.000000</td>\n",
       "      <td>5028.000000</td>\n",
       "      <td>5.000000</td>\n",
       "    </tr>\n",
       "    <tr>\n",
       "      <th>50%</th>\n",
       "      <td>558.000000</td>\n",
       "      <td>609.000000</td>\n",
       "      <td>5746.000000</td>\n",
       "      <td>6.000000</td>\n",
       "    </tr>\n",
       "    <tr>\n",
       "      <th>60%</th>\n",
       "      <td>670.000000</td>\n",
       "      <td>689.000000</td>\n",
       "      <td>6490.000000</td>\n",
       "      <td>7.000000</td>\n",
       "    </tr>\n",
       "    <tr>\n",
       "      <th>70%</th>\n",
       "      <td>782.000000</td>\n",
       "      <td>781.000000</td>\n",
       "      <td>7355.000000</td>\n",
       "      <td>8.000000</td>\n",
       "    </tr>\n",
       "    <tr>\n",
       "      <th>80%</th>\n",
       "      <td>893.000000</td>\n",
       "      <td>904.000000</td>\n",
       "      <td>8465.000000</td>\n",
       "      <td>9.000000</td>\n",
       "    </tr>\n",
       "    <tr>\n",
       "      <th>90%</th>\n",
       "      <td>1004.000000</td>\n",
       "      <td>1116.000000</td>\n",
       "      <td>10295.000000</td>\n",
       "      <td>11.000000</td>\n",
       "    </tr>\n",
       "    <tr>\n",
       "      <th>max</th>\n",
       "      <td>1115.000000</td>\n",
       "      <td>5494.000000</td>\n",
       "      <td>41551.000000</td>\n",
       "      <td>12.000000</td>\n",
       "    </tr>\n",
       "  </tbody>\n",
       "</table>\n",
       "</div>"
      ],
      "text/plain": [
       "                  ID  Number_of_Customers          Sales          Month\n",
       "count  712045.000000        712045.000000  712045.000000  712045.000000\n",
       "mean      558.314199           633.399958    5776.336748       5.846452\n",
       "std       321.898476           464.360651    3851.273075       3.325709\n",
       "min         1.000000             0.000000       0.000000       1.000000\n",
       "10%       112.000000             0.000000       0.000000       1.000000\n",
       "20%       225.000000           325.000000    2939.000000       3.000000\n",
       "30%       335.000000           456.000000    4236.000000       4.000000\n",
       "40%       446.000000           536.000000    5028.000000       5.000000\n",
       "50%       558.000000           609.000000    5746.000000       6.000000\n",
       "60%       670.000000           689.000000    6490.000000       7.000000\n",
       "70%       782.000000           781.000000    7355.000000       8.000000\n",
       "80%       893.000000           904.000000    8465.000000       9.000000\n",
       "90%      1004.000000          1116.000000   10295.000000      11.000000\n",
       "max      1115.000000          5494.000000   41551.000000      12.000000"
      ]
     },
     "execution_count": 14,
     "metadata": {},
     "output_type": "execute_result"
    }
   ],
   "source": [
    "df_train.describe(percentiles=[0.1,0.2,0.3,0.4,0.5,0.6,0.7,0.8,0.9])"
   ]
  },
  {
   "cell_type": "code",
   "execution_count": 15,
   "metadata": {},
   "outputs": [],
   "source": [
    "#creer une liste state_holiday avec True si oui, False si non\n",
    "state_holiday = []\n",
    "for vac in df_train[\"State_Holiday\"]:\n",
    "    if vac == \"0\":\n",
    "        state_holiday.append(False)\n",
    "    else:\n",
    "        state_holiday.append(True)\n",
    "df_train[\"StH\"] = state_holiday"
   ]
  },
  {
   "cell_type": "code",
   "execution_count": 16,
   "metadata": {},
   "outputs": [],
   "source": [
    "#creer une liste state_holiday avec True si oui, False si non pour valeurs test\n",
    "state_holiday_test = []\n",
    "for vac in df_test[\"State_Holiday\"]:\n",
    "    if vac == \"0\":\n",
    "        state_holiday_test.append(False)\n",
    "    else:\n",
    "        state_holiday_test.append(True)\n",
    "df_test[\"StH\"] = state_holiday_test"
   ]
  },
  {
   "cell_type": "code",
   "execution_count": 17,
   "metadata": {},
   "outputs": [],
   "source": [
    "#creer une liste week_day avec True si oui, False si dimanche\n",
    "week_day = []\n",
    "for day in df_train[\"Day\"]:\n",
    "    if day < 7:\n",
    "        week_day.append(True)\n",
    "    else:\n",
    "        week_day.append(False)\n",
    "df_train[\"WeekDay\"] = week_day"
   ]
  },
  {
   "cell_type": "code",
   "execution_count": 18,
   "metadata": {},
   "outputs": [],
   "source": [
    "#creer une liste week_day avec True si oui, False si dimanche pour test\n",
    "week_day_test = []\n",
    "for day in df_test[\"Day\"]:\n",
    "    if day < 7:\n",
    "        week_day_test.append(True)\n",
    "    else:\n",
    "        week_day_test.append(False)\n",
    "df_test[\"WeekDay\"] = week_day_test"
   ]
  },
  {
   "cell_type": "code",
   "execution_count": 22,
   "metadata": {},
   "outputs": [],
   "source": [
    "from sklearn.decomposition import PCA\n",
    "from sklearn.preprocessing import scale\n",
    "import matplotlib.pyplot as plt\n",
    "import numpy as np\n",
    "\n",
    "df_train['Number_of_Customers'] = scale(df_train['Number_of_Customers'])\n",
    "df_test['Number_of_Customers'] = scale(df_test['Number_of_Customers'])\n",
    "\n",
    "X_tot_train = df_train[[\"WeekDay\", \"Number_of_Customers\",\"Open\",\"Promo\",\"School_Holiday\",\"StH\"]].values\n",
    "Y_tot_train = df_train[['Sales']].values.ravel()\n",
    "\n",
    "X_tot_test = df_test[[\"WeekDay\", \"Number_of_Customers\",\"Open\",\"Promo\",\"School_Holiday\",\"StH\"]].values\n",
    "\n",
    "\n",
    "X_tot_train[X_tot_train == True] = 1\n",
    "X_tot_train[X_tot_train == False] = 0\n",
    "\n",
    "X_tot_test[X_tot_test == True] = 1\n",
    "X_tot_test[X_tot_test == False] = 0\n",
    "\n",
    "X_tot_test = scale(X_tot_test)\n",
    "X_tot_train = scale(X_tot_train)\n",
    "\n",
    "\n"
   ]
  },
  {
   "cell_type": "code",
   "execution_count": null,
   "metadata": {},
   "outputs": [],
   "source": []
  },
  {
   "cell_type": "code",
   "execution_count": 23,
   "metadata": {},
   "outputs": [
    {
     "name": "stdout",
     "output_type": "stream",
     "text": [
      "[2.6142275  1.2344116  0.86727622 0.76913619 0.49341684 0.02154008]\n"
     ]
    }
   ],
   "source": [
    "\n",
    "# réduction des variables\n",
    "\n",
    "pca = PCA()\n",
    "valPropres=pca.fit(X_tot_train).explained_variance_\n",
    "print(valPropres)\n"
   ]
  },
  {
   "cell_type": "code",
   "execution_count": 24,
   "metadata": {},
   "outputs": [
    {
     "data": {
      "text/plain": [
       "array([[ 5.36644341e-01,  2.29828047e-01,  5.86113330e-03,\n",
       "         4.13369686e-01, -2.91009126e-01, -6.35292656e-01],\n",
       "       [ 4.85978160e-01, -9.12912691e-02, -1.09220033e-04,\n",
       "        -2.76260462e-02,  8.67916900e-01, -3.80549236e-02],\n",
       "       [ 5.79735238e-01, -1.21003113e-01, -1.51141548e-01,\n",
       "         1.91629044e-01, -3.00272214e-01,  7.06778919e-01],\n",
       "       [ 3.12987639e-01,  1.73179581e-01,  6.75715855e-01,\n",
       "        -6.19911126e-01, -1.76218151e-01,  1.06307749e-02],\n",
       "       [ 1.05725857e-01,  6.05621905e-01, -6.35426788e-01,\n",
       "        -4.67075708e-01, -1.02983441e-02,  3.34292304e-03],\n",
       "       [-1.74945464e-01,  7.26246625e-01,  3.41705646e-01,\n",
       "         4.34961024e-01,  2.01771278e-01,  3.08697967e-01]])"
      ]
     },
     "execution_count": 24,
     "metadata": {},
     "output_type": "execute_result"
    }
   ],
   "source": [
    "pca.components_.T"
   ]
  },
  {
   "cell_type": "code",
   "execution_count": 25,
   "metadata": {},
   "outputs": [
    {
     "name": "stdout",
     "output_type": "stream",
     "text": [
      "(712045, 5)\n"
     ]
    },
    {
     "data": {
      "image/png": "[encoded data removed]",
      "text/plain": [
       "<Figure size 432x288 with 1 Axes>"
      ]
     },
     "metadata": {
      "needs_background": "light"
     },
     "output_type": "display_data"
    }
   ],
   "source": [
    "## Estimation, calcul des composantes principales\n",
    "C_train = pca.fit(X_tot_train).transform(X_tot_train)[:,:5]\n",
    "print(C_train.shape)\n",
    "\n",
    "C_test = pca.fit(X_tot_test).transform(X_tot_test)[:,:5]\n",
    "\n",
    "## Décroissance de la variance expliquée\n",
    "plt.plot(pca.explained_variance_ratio_)\n",
    "plt.show()"
   ]
  },
  {
   "cell_type": "code",
   "execution_count": 26,
   "metadata": {
    "scrolled": true
   },
   "outputs": [
    {
     "data": {
      "image/png": "[encoded data removed]",
      "text/plain": [
       "<Figure size 360x360 with 1 Axes>"
      ]
     },
     "metadata": {
      "needs_background": "light"
     },
     "output_type": "display_data"
    }
   ],
   "source": [
    "## coordonnées et représentation des variables\n",
    "coord1=pca.components_[0]*np.sqrt(pca.explained_variance_[0])\n",
    "coord2=pca.components_[1]*np.sqrt(pca.explained_variance_[1])\n",
    "coord3=pca.components_[2]*np.sqrt(pca.explained_variance_[2])\n",
    "coord4=pca.components_[3]*np.sqrt(pca.explained_variance_[3])\n",
    "\n",
    "fig = plt.figure(figsize=(5,5))\n",
    "ax = fig.add_subplot(1, 1, 1)\n",
    "for i, j, nom in zip(coord1,coord2, df_train[[\"WeekDay\", \"Number_of_Customers\",\"Open\",\"Promo\",\"School_Holiday\",\"StH\",\"Sales\"]].columns):\n",
    "    plt.text(i, j, nom)\n",
    "    plt.arrow(0,0,i,j,color='black')\n",
    "plt.axis((-1.2,1.2,-1.2,1.2))\n",
    "# cercle\n",
    "c=plt.Circle((0,0), radius=1, color='gray', fill=False)\n",
    "ax.add_patch(c)\n",
    "plt.show()"
   ]
  },
  {
   "cell_type": "code",
   "execution_count": 27,
   "metadata": {},
   "outputs": [
    {
     "data": {
      "text/plain": [
       "array([ 0.87032985,  0.78436998,  0.93720136,  0.50651928,  0.17369212,\n",
       "       -0.27864636])"
      ]
     },
     "execution_count": 27,
     "metadata": {},
     "output_type": "execute_result"
    }
   ],
   "source": [
    "coord1"
   ]
  },
  {
   "cell_type": "raw",
   "metadata": {},
   "source": [
    "# imputation des valeurs manquantes\n",
    "#df[\"Age\"]=df[\"Age\"].fillna(df[\"Age\"].median())\n",
    "#df.Port=df[\"Port\"].fillna(\"S\")\n",
    "df_train[\"State_Holiday\"] = df_train[\"State_Holiday\"].fillna(\"0\")\n",
    "df_train[\"School_Holiday\"] = df_train[\"School_Holiday\"].fillna(False)\n",
    "df_train[\"Open\"] = df_train[\"Open\"].fillna(False)\n",
    "df_train[\"Promo\"] = df_train[\"Promo\"].fillna(False)\n",
    "df_train[\"Number_of_Customers\"] = df_train[\"Number_of_Customers\"].fillna(\"0\")\n",
    "#df_train[\"Day\"] = df_train[\"Day\"].fillna(\"1\")\n",
    "#df_train[\"ID\"] = df_train[\"ID\"].replace(to_replace=\"\",value='0')\n",
    "\n",
    "df_test[\"State_Holiday\"] = df_test[\"State_Holiday\"].fillna(\"0\")\n",
    "df_test[\"School_Holiday\"] = df_test[\"School_Holiday\"].fillna(False)\n",
    "df_test[\"Open\"] = df_test[\"Open\"].fillna(False)\n",
    "df_test[\"Promo\"] = df_test[\"Promo\"].fillna(False)\n",
    "df_test[\"Number_of_Customers\"] = df_test[\"Number_of_Customers\"].fillna(\"0\")\n",
    "#df_test[\"Day\"] = df_test[\"Day\"].fillna(\"1\")\n",
    "#df_test[\"ID\"] = df_test[\"ID\"].replace(to_replace=\"\",value='0')"
   ]
  },
  {
   "cell_type": "raw",
   "metadata": {},
   "source": [
    "# Discrétiser les variables quantitatives\n",
    "#df[\"AgeQ\"]=pd.qcut(df.Age,3,labels=[\"Ag1\",\"Ag2\",\"Ag3\"])\n",
    "#df[\"PrixQ\"]=pd.qcut(df.Prix,3,labels=[\"Pr1\",\"Pr2\",\"Pr3\"])\n",
    "# redéfinir les noms des modalités \n",
    "#df_train[\"Open\"]=df_train[\"Open\"].cat.rename_categories([\"Onon\",\"Ooui\"])\n",
    "#df_train[\"Promo\"]=df_train[\"Promo\"].cat.rename_categories([\"Pnon\",\"Poui\"])\n",
    "df_train[\"State_Holiday\"]=df_train[\"State_Holiday\"].cat.rename_categories([\"StateHnon\",\"StateHc\",\"StateHa\",\"StateHb\"])\n",
    "df_train[\"Day\"]=df_train[\"Day\"].cat.rename_categories([\"D1\",\"D2\",\"D3\",\"D4\",\"D5\",\"D6\",\"D7\"])\n",
    "\n",
    "#df_train[\"School_Holiday\"]=df_train[\"School_Holiday\"].cat.rename_categories([\"SchoolHnon\",\"SchoolHoui\"])\n",
    "#df_train.head()\n",
    "\n",
    "# redéfinir les noms des modalités \n",
    "#df_test[\"Open\"]=df_test[\"Open\"].cat.rename_categories([\"Onon\",\"Ooui\"])\n",
    "#df_test[\"Promo\"]=df_test[\"Promo\"].cat.rename_categories([\"Pnon\",\"Poui\"])\n",
    "df_test[\"State_Holiday\"]=df_test[\"State_Holiday\"].cat.rename_categories([\"StateHnon\",\"StateHc\",\"StateHa\",\"StateHb\"])\n",
    "#df_test[\"School_Holiday\"]=df_test[\"School_Holiday\"].cat.rename_categories([\"SchoolHnon\",\"SchoolHoui\"])\n",
    "#df_test.head()\n",
    "\n",
    "df_train.head(5)"
   ]
  },
  {
   "cell_type": "markdown",
   "metadata": {},
   "source": [
    "Il est nécessaire de transformer les données car `scikit-learn` ne reconnaît pas la classe `DataFrame` de `pandas`, ce qui est bien dommage. Les variables qualitatives sont comme précédemment remplacées par les indicatrices de leurs modalités et les variables quantitatives conservées. Cela introduit une évidente redondance dans les données mais les procédures de sélection de modèle feront le tri."
   ]
  },
  {
   "cell_type": "raw",
   "metadata": {},
   "source": [
    "# Construction des indicatrices\n",
    "#df_q=df.drop([\"Age\",\"Prix\"],axis=1)\n",
    "#df_q.head()\n",
    "# Indicatrices\n",
    "dc_train=pd.DataFrame(pd.get_dummies(df_train[[\"ID\",\"Day\",\"Open\",\"Promo\",\"Number_of_Customers\",\"State_Holiday\",\"School_Holiday\",\"Sales\"]]))\n",
    "dc_train[\"State_Holiday_StateHnon\"]=pd.DataFrame(dc_train[\"State_Holiday_StateHnon\"],dtype=bool)\n",
    "dc_train[\"State_Holiday_StateHc\"]=pd.DataFrame(dc_train[\"State_Holiday_StateHc\"],dtype=bool)\n",
    "dc_train[\"State_Holiday_StateHa\"]=pd.DataFrame(dc_train[\"State_Holiday_StateHa\"],dtype=bool)\n",
    "dc_train[\"State_Holiday_StateHb\"]=pd.DataFrame(dc_train[\"State_Holiday_StateHb\"],dtype=bool)\n",
    "dc_train[\"Day_D1\"]=pd.DataFrame(dc_train[\"Day_D1\"],dtype=bool)\n",
    "dc_train[\"Day_D2\"]=pd.DataFrame(dc_train[\"Day_D2\"],dtype=bool)\n",
    "dc_train[\"Day_D3\"]=pd.DataFrame(dc_train[\"Day_D3\"],dtype=bool)\n",
    "dc_train[\"Day_D4\"]=pd.DataFrame(dc_train[\"Day_D4\"],dtype=bool)\n",
    "dc_train[\"Day_D5\"]=pd.DataFrame(dc_train[\"Day_D5\"],dtype=bool)\n",
    "dc_train[\"Day_D6\"]=pd.DataFrame(dc_train[\"Day_D6\"],dtype=bool)\n",
    "dc_train[\"Day_D7\"]=pd.DataFrame(dc_train[\"Day_D7\"],dtype=bool)\n",
    "# Indicatrices\n",
    "dc_test=pd.DataFrame(pd.get_dummies(df_test[[\"ID\",\"Day\",\"Open\",\"Promo\",\"State_Holiday\",\"School_Holiday\"]]))\n",
    "dc_test[\"State_Holiday_StateHnon\"]=pd.DataFrame(dc_train[\"State_Holiday_StateHnon\"],dtype=bool)\n",
    "dc_test[\"State_Holiday_StateHc\"]=pd.DataFrame(dc_train[\"State_Holiday_StateHc\"],dtype=bool)\n",
    "dc_test[\"State_Holiday_StateHa\"]=pd.DataFrame(dc_train[\"State_Holiday_StateHa\"],dtype=bool)\n",
    "dc_test[\"State_Holiday_StateHb\"]=pd.DataFrame(dc_train[\"State_Holiday_StateHb\"],dtype=bool)\n",
    "\n",
    "dc_train\n"
   ]
  },
  {
   "cell_type": "raw",
   "metadata": {},
   "source": [
    "# Table des indicatrices\n",
    "#df1=pd.get_dummies(df_q[[\"Surv\",\"Classe\",\"Genre\",\"Port\",\"AgeQ\",\"PrixQ\"]])\n",
    "# Une seule indicatrice par variable binaire\n",
    "#df1_train=dc_train.drop([\"Open_Onon\",\"Promo_Pnon\",\"School_Holiday_SchoolHnon\"],axis=1)\n",
    "# Variables quantitatives\n",
    "#df2_train=df_train[[\"ID\",\"Day\",\"Number_of_Customers\"]]\n",
    "# Concaténation\n",
    "#df_c_train=pd.concat([df2_train,df1_train],axis=1)\n",
    "# Vérification\n",
    "#df_c_train.head()\n",
    "T_train = dc_train[[\"ID\",\"Day_D1\",\"Day_D2\",\"Day_D3\",\"Day_D4\",\"Day_D5\",\"Day_D6\",\"Day_D7\",\"Open\",\"Promo\",\"Number_of_Customers\",\"State_Holiday_StateHnon\",\"State_Holiday_StateHa\",\"State_Holiday_StateHb\",\"State_Holiday_StateHc\",\"School_Holiday\"]]\n",
    "z_train = dc_train[[\"Sales\"]]\n",
    "# Une seule indicatrice par variable binaire\n",
    "#df1_test=dc_test.drop([\"Open_Onon\",\"Promo_Pnon\",\"School_Holiday_SchoolHnon\"],axis=1)\n",
    "# Variables quantitatives\n",
    "#df2_test=df_test[[\"ID\",\"Day\",\"Number_of_Customers\"]]\n",
    "# Concaténation\n",
    "#df_c_test=pd.concat([df2_test,df1_test],axis=1)\n",
    "# Vérification\n",
    "#df_c_test.head()\n",
    "T_test = dc_test\n",
    "\n",
    "T_train.head()"
   ]
  },
  {
   "cell_type": "markdown",
   "metadata": {},
   "source": [
    "Extraction des échantillons d'apprentissage et test."
   ]
  },
  {
   "cell_type": "raw",
   "metadata": {},
   "source": [
    "from sklearn.decomposition import PCA\n",
    "from sklearn.preprocessing import scale\n",
    "import matplotlib.pyplot as plt\n",
    "import numpy as np\n",
    "\n",
    "X = scale(pd.concat([T_train,z_train],axis=1))\n",
    "\n",
    "pca = PCA()\n",
    "## Estimation, calcul des composantes principales\n",
    "C = pca.fit(X).transform(X)\n",
    "## Décroissance de la variance expliquée\n",
    "plt.plot(pca.explained_variance_ratio_)\n",
    "plt.show()"
   ]
  },
  {
   "cell_type": "raw",
   "metadata": {},
   "source": [
    "## coordonnées et représentation des variables\n",
    "coord1=pca.components_[0]*np.sqrt(pca.explained_variance_[0])\n",
    "coord2=pca.components_[1]*np.sqrt(pca.explained_variance_[1])\n",
    "fig = plt.figure(figsize=(5,5))\n",
    "ax = fig.add_subplot(1, 1, 1)\n",
    "for i, j, nom in zip(coord1,coord2, pd.concat([T_train,z_train],axis=1).columns):\n",
    "    plt.text(i, j, nom)\n",
    "    plt.arrow(0,0,i,j,color='black')\n",
    "plt.axis((-1.2,1.2,-1.2,1.2))\n",
    "# cercle\n",
    "c=plt.Circle((0,0), radius=1, color='gray', fill=False)\n",
    "ax.add_patch(c)\n",
    "plt.show()"
   ]
  },
  {
   "cell_type": "markdown",
   "metadata": {},
   "source": [
    "On peut voir que quelquesoit la période de vacances a, b ou c, la direction des variables dans le plan principal est la même donc on la regroupe sous un boolean. De même, la variable ID ne represente aucune variance."
   ]
  },
  {
   "cell_type": "raw",
   "metadata": {},
   "source": [
    "T_train = T_train[[\"Day_D1\",\"Day_D6\",\"Day_D7\",\"Open\",\"Promo\",\"State_Holiday_StateHnon\",\"School_Holiday\"]]\n",
    "#z_train ne change pas\n",
    "X = scale(pd.concat([T_train,z_train],axis=1))\n",
    "\n",
    "#pca = PCA()\n",
    "## Estimation, calcul des composantes principales\n",
    "C = pca.fit(X).transform(X)\n",
    "## Décroissance de la variance expliquée\n",
    "plt.plot(pca.explained_variance_ratio_)\n",
    "plt.show()"
   ]
  },
  {
   "cell_type": "raw",
   "metadata": {},
   "source": [
    "## coordonnées et représentation des variables\n",
    "coord1=pca.components_[0]*np.sqrt(pca.explained_variance_[0])\n",
    "coord2=pca.components_[1]*np.sqrt(pca.explained_variance_[1])\n",
    "fig = plt.figure(figsize=(5,5))\n",
    "ax = fig.add_subplot(1, 1, 1)\n",
    "for i, j, nom in zip(coord1,coord2, pd.concat([T_train,z_train],axis=1).columns):\n",
    "    plt.text(i, j, nom)\n",
    "    plt.arrow(0,0,i,j,color='black')\n",
    "plt.axis((-1.2,1.2,-1.2,1.2))\n",
    "# cercle\n",
    "c=plt.Circle((0,0), radius=1, color='gray', fill=False)\n",
    "ax.add_patch(c)\n",
    "plt.show()"
   ]
  },
  {
   "cell_type": "markdown",
   "metadata": {},
   "source": [
    "Cela a permis également de mieux représenter la variable School_Holiday.\n",
    "On regarde maintenant si on peut encore regrouper nos points selon 2 groupes, représentés dans le plan principal"
   ]
  },
  {
   "cell_type": "code",
   "execution_count": null,
   "metadata": {},
   "outputs": [],
   "source": [
    "X"
   ]
  },
  {
   "cell_type": "code",
   "execution_count": null,
   "metadata": {},
   "outputs": [],
   "source": [
    "from sklearn.cluster  import  KMeans\n",
    "from  sklearn.metrics  import confusion_matrix\n",
    "clust=KMeans(n_clusters=2)\n",
    "clust.fit(X)\n",
    "classe=clust.labels_"
   ]
  },
  {
   "cell_type": "code",
   "execution_count": null,
   "metadata": {},
   "outputs": [],
   "source": [
    "## Repésentation des individus dans les coordonnées de l'acp.\n",
    "plt.figure(figsize=(10,8))\n",
    "plt.scatter(C[:,0], C[:,1], c=classe) \n",
    "plt.show()"
   ]
  },
  {
   "cell_type": "markdown",
   "metadata": {},
   "source": [
    "# <FONT COLOR=\"Red\">Deuxième partie: Prévision</font>"
   ]
  },
  {
   "cell_type": "markdown",
   "metadata": {},
   "source": [
    "## Gaussian Process "
   ]
  },
  {
   "cell_type": "code",
   "execution_count": null,
   "metadata": {},
   "outputs": [],
   "source": [
    "#from sklearn.model_selection import train_test_split\n",
    "#X_train_2,X_test_2,y_train_2,y_test_2=train_test_split(df_train[[\"WeekDay\", \"Number_of_Customers\",\"Open\",\"Promo\",\"School_Holiday\",\"StH\"]],df_train[[\"Sales\"]],test_size=2/7,random_state=11)"
   ]
  },
  {
   "cell_type": "code",
   "execution_count": null,
   "metadata": {},
   "outputs": [],
   "source": []
  },
  {
   "cell_type": "code",
   "execution_count": null,
   "metadata": {},
   "outputs": [],
   "source": [
    "#df_train['Number_of_Customers']=scale(df_train['Number_of_Customers'])\n",
    "#df_test['Number_of_Customers']=scale(df_test['Number_of_Customers'])\n",
    "\n",
    "#X_train_2 = df_train[[\"WeekDay\", \"Number_of_Customers\",\"Open\",\"Promo\",\"School_Holiday\",\"StH\"]]\n",
    "#y_train_2 = df_train[['Sales']]\n",
    "#X_test_2 = df_test[[\"WeekDay\", \"Number_of_Customers\",\"Open\",\"Promo\",\"School_Holiday\",\"StH\"]]\n",
    "\n",
    "##X_train_2['Number_of_Customers2'] = scale(X_train_2['Number_of_Customers'])\n",
    "#Y_train = y_train_2\n",
    "##X_test_2['Number_of_Customers'] = scale(X_test_2['Number_of_Customers'])\n",
    "\n",
    "#X_train = X_train_2.values\n",
    "#Y_train = Y_train.values.ravel()\n",
    "#X_test = X_test_2.values\n",
    "##Y_test = y_test_2.values.ravel()\n",
    "\n",
    "#X_train[X_train == True] = 1\n",
    "#X_train[X_train == False] = 0\n",
    "\n",
    "#X_test[X_test == True] = 1\n",
    "#X_test[X_test == False] = 0\n"
   ]
  },
  {
   "cell_type": "code",
   "execution_count": 89,
   "metadata": {},
   "outputs": [
    {
     "data": {
      "text/plain": [
       "array([7293, 7060, 4565, ..., 5823, 7986, 6565])"
      ]
     },
     "execution_count": 89,
     "metadata": {},
     "output_type": "execute_result"
    }
   ],
   "source": [
    "Y_tot_train"
   ]
  },
  {
   "cell_type": "code",
   "execution_count": 61,
   "metadata": {},
   "outputs": [],
   "source": [
    "from sklearn.gaussian_process import GaussianProcessRegressor\n",
    "gp = GaussianProcessRegressor()\n",
    "#X_train_2['Number_of_Customers']=scale(X_train_2['Number_of_Customers'])\n",
    "#df_train['Number_of_Customers']=scale(df_train['Number_of_Customers'])\n",
    "#Y=y_train_2"
   ]
  },
  {
   "cell_type": "code",
   "execution_count": 62,
   "metadata": {},
   "outputs": [],
   "source": [
    "i = 0\n",
    "while i < 100:\n",
    "    #df_sample = df_train.sample(7000)\n",
    "    #gp.fit(df_sample[[\"WeekDay\", \"Number_of_Customers\",\"Open\",\"Promo\",\"School_Holiday\",\"StH\"]], df_sample[[\"Sales\"]])\n",
    "    #batch\n",
    "    gp.fit(C_train[i*7000:(i+1)*7000-1,:],Y_tot_train[i*7000:(i+1)*7000-1,])\n",
    "    i+=1"
   ]
  },
  {
   "cell_type": "code",
   "execution_count": null,
   "metadata": {},
   "outputs": [],
   "source": []
  },
  {
   "cell_type": "code",
   "execution_count": 67,
   "metadata": {},
   "outputs": [
    {
     "data": {
      "text/plain": [
       "array([[ 1.02639981, -0.18612702,  1.0244413 , -0.4204325 , -0.21291868],\n",
       "       [-0.10969596, -0.44470155, -0.34865917,  0.90193941, -0.73638813]])"
      ]
     },
     "execution_count": 67,
     "metadata": {},
     "output_type": "execute_result"
    }
   ],
   "source": [
    "C_test[-2:]"
   ]
  },
  {
   "cell_type": "code",
   "execution_count": 64,
   "metadata": {},
   "outputs": [],
   "source": [
    "y_predict = []\n",
    "j=0\n",
    "while len(y_predict) < len(C_test)-7000:\n",
    "    y_tempo = gp.predict(C_test[j*7000:(j+1)*7000-1])\n",
    "    j+=1\n",
    "    for k in range(len(y_tempo)):\n",
    "        y_predict.append(y_tempo[k])\n"
   ]
  },
  {
   "cell_type": "code",
   "execution_count": 72,
   "metadata": {},
   "outputs": [],
   "source": [
    "y_tempo_f = gp.predict(C_test[-(len(C_test)-len(y_predict)):])"
   ]
  },
  {
   "cell_type": "code",
   "execution_count": 73,
   "metadata": {},
   "outputs": [],
   "source": [
    "for k in range(len(y_tempo_f)):\n",
    "    y_predict.append(y_tempo_f[k])"
   ]
  },
  {
   "cell_type": "code",
   "execution_count": 79,
   "metadata": {},
   "outputs": [],
   "source": [
    "y_predict_v1 = y_predict"
   ]
  },
  {
   "cell_type": "code",
   "execution_count": null,
   "metadata": {},
   "outputs": [],
   "source": [
    "for index, row in X_test_2[0:1].iterrows():\n",
    "    r = pd.DataFrame(row)\n",
    "r.transpose()"
   ]
  },
  {
   "cell_type": "code",
   "execution_count": null,
   "metadata": {},
   "outputs": [],
   "source": [
    "# Prévision\n",
    "#X_test_2['Number_of_Customers'] = scale(X_test_2['Number_of_Customers'])\n",
    "y_chap = []\n",
    "for i in range(len(X_test)):\n",
    "    y_p = gp.predict(X_test[i])\n",
    "    y_chap.append(y_p)"
   ]
  },
  {
   "cell_type": "code",
   "execution_count": 78,
   "metadata": {},
   "outputs": [
    {
     "data": {
      "text/plain": [
       "203444"
      ]
     },
     "execution_count": 78,
     "metadata": {},
     "output_type": "execute_result"
    }
   ],
   "source": [
    "len(df_test['WeekDay'])"
   ]
  },
  {
   "cell_type": "code",
   "execution_count": 80,
   "metadata": {},
   "outputs": [],
   "source": [
    "list_weekday = list(df_test['WeekDay'])"
   ]
  },
  {
   "cell_type": "code",
   "execution_count": 81,
   "metadata": {
    "scrolled": true
   },
   "outputs": [],
   "source": [
    "for i in range(len(list_weekday)):\n",
    "    if list_weekday[i]==False:\n",
    "        y_predict[i]=0"
   ]
  },
  {
   "cell_type": "code",
   "execution_count": null,
   "metadata": {},
   "outputs": [],
   "source": [
    "from sklearn.metrics import mean_squared_error\n",
    "\n",
    "RMSE = np.sqrt(mean_squared_error(y_chap, y_test_2))\n",
    "print(RMSE)\n"
   ]
  },
  {
   "cell_type": "code",
   "execution_count": 84,
   "metadata": {},
   "outputs": [],
   "source": [
    "np.savetxt(\"store_test.predict\", y_predict,  fmt='%i')"
   ]
  },
  {
   "cell_type": "code",
   "execution_count": 83,
   "metadata": {},
   "outputs": [
    {
     "data": {
      "text/plain": [
       "array([[ 0.95772339, -0.17312376,  1.02436102, -0.41728943, -0.33592008],\n",
       "       [ 0.14523924, -0.49297119, -0.34836114,  0.89027196, -0.27979205],\n",
       "       [ 0.8734387 , -0.15716523,  1.02426248, -0.41343203, -0.48687633],\n",
       "       ...,\n",
       "       [ 0.07136006, -0.47898285, -0.34844751,  0.89365314, -0.41211173],\n",
       "       [ 1.02639981, -0.18612702,  1.0244413 , -0.4204325 , -0.21291868],\n",
       "       [-0.10969596, -0.44470155, -0.34865917,  0.90193941, -0.73638813]])"
      ]
     },
     "execution_count": 83,
     "metadata": {},
     "output_type": "execute_result"
    }
   ],
   "source": [
    "C_test"
   ]
  },
  {
   "cell_type": "markdown",
   "metadata": {},
   "source": [
    "## Neural Network"
   ]
  },
  {
   "cell_type": "code",
   "execution_count": null,
   "metadata": {},
   "outputs": [],
   "source": [
    "X_train_2['Number_of_Customers'] = scale(X_train_2['Number_of_Customers'])\n",
    "Y_train = y_train_2\n",
    "X_test_2['Number_of_Customers'] = scale(X_test_2['Number_of_Customers'])\n",
    "\n",
    "X_train = X_train_2.values\n",
    "Y_train = Y_train.values.ravel()\n",
    "X_test = X_test_2.values\n",
    "Y_test = y_test_2.values.ravel()\n",
    "\n",
    "X_train[X_train == True] = 1\n",
    "X_train[X_train == False] = 0\n",
    "\n",
    "X_train = X_train[:20000]\n",
    "Y_train = Y_train[:20000]"
   ]
  },
  {
   "cell_type": "code",
   "execution_count": null,
   "metadata": {},
   "outputs": [],
   "source": [
    "X_train[X_train == True] = 1\n",
    "X_train[X_train == False] = 0\n",
    "X_test[X_test == True] = 1\n",
    "X_test[X_test == False] = 0"
   ]
  },
  {
   "cell_type": "code",
   "execution_count": null,
   "metadata": {},
   "outputs": [],
   "source": [
    "from sklearn.neural_network import MLPRegressor\n",
    "\n",
    "myNN = MLPRegressor(hidden_layer_sizes=(8,16,8), activation='relu', \n",
    "                    solver='sgd', learning_rate_init=0.01, max_iter=2000)\n",
    "#10M\n",
    "#myNN = MLPRegressor(hidden_layer_sizes=(100,10), activation='logistic')\n",
    "#18M\n",
    "#myNN = MLPRegressor(hidden_layer_sizes=(1000,100), activation='logistic', solver='sgd', max_iter=2000)\n",
    "#10M\n",
    "#myNN = MLPRegressor(hidden_layer_sizes=(10,5), activation='logistic', solver='sgd', max_iter=10000, learning_rate='adaptive', n_iter_no_change=1e9)\n",
    "#"
   ]
  },
  {
   "cell_type": "code",
   "execution_count": null,
   "metadata": {},
   "outputs": [],
   "source": [
    "myNN.fit(X_train, Y_train)"
   ]
  },
  {
   "cell_type": "code",
   "execution_count": null,
   "metadata": {},
   "outputs": [],
   "source": []
  },
  {
   "cell_type": "code",
   "execution_count": null,
   "metadata": {},
   "outputs": [],
   "source": [
    "X_train[0]"
   ]
  },
  {
   "cell_type": "code",
   "execution_count": null,
   "metadata": {},
   "outputs": [],
   "source": [
    "y_chap_nn = myNN.predict(X_test)\n",
    "y_chap_nn"
   ]
  },
  {
   "cell_type": "code",
   "execution_count": null,
   "metadata": {},
   "outputs": [],
   "source": []
  },
  {
   "cell_type": "code",
   "execution_count": null,
   "metadata": {},
   "outputs": [],
   "source": [
    "list_weekday_nn = list(X_test_2['WeekDay'])\n",
    "for i in range(len(list_weekday_nn)):\n",
    "    if list_weekday_nn[i]==False:\n",
    "        y_chap_nn[i]=0"
   ]
  },
  {
   "cell_type": "code",
   "execution_count": null,
   "metadata": {},
   "outputs": [],
   "source": [
    "from sklearn.metrics import mean_squared_error\n",
    "import math\n",
    "RMSE = np.sqrt(mean_squared_error(y_chap_nn, y_test_2))\n",
    "print(RMSE)\n"
   ]
  },
  {
   "cell_type": "code",
   "execution_count": null,
   "metadata": {},
   "outputs": [],
   "source": [
    "len(X_test_2)"
   ]
  },
  {
   "cell_type": "code",
   "execution_count": null,
   "metadata": {},
   "outputs": [],
   "source": [
    "y_test_2"
   ]
  },
  {
   "cell_type": "code",
   "execution_count": null,
   "metadata": {},
   "outputs": [],
   "source": []
  }
 ],
 "metadata": {
  "hide_input": false,
  "kernelspec": {
   "display_name": "Python 3",
   "language": "python",
   "name": "python3"
  },
  "language_info": {
   "codemirror_mode": {
    "name": "ipython",
    "version": 3
   },
   "file_extension": ".py",
   "mimetype": "text/x-python",
   "name": "python",
   "nbconvert_exporter": "python",
   "pygments_lexer": "ipython3",
   "version": "3.7.4"
  },
  "toc": {
   "nav_menu": {},
   "number_sections": true,
   "sideBar": true,
   "skip_h1_title": false,
   "toc_cell": false,
   "toc_position": {},
   "toc_section_display": "block",
   "toc_window_display": false
  }
 },
 "nbformat": 4,
 "nbformat_minor": 1
}
